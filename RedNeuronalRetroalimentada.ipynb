{
 "cells": [
  {
   "cell_type": "markdown",
   "metadata": {},
   "source": [
    "# Redes Neuronales Retroalimentadas.\n",
    "## Base de datos de Breast Cancer Winsconsin (Diagnostic) o Cáncer de Mama de Wisconsin (Diagnóstico)."
   ]
  },
  {
   "cell_type": "markdown",
   "metadata": {},
   "source": [
    "La **base de datos** ha sido seleccionada del **repositorio de la UCI**, más concretamente del enlace https://archive.ics.uci.edu/ml/datasets/Breast+Cancer+Wisconsin+%28Diagnostic%29 . Todas las **columnas**, *excepto la primera y la última*, toman **valores numéricos entre el 1 y el 10**. La primera es un código numérico (del identificador de la muestra), y la última toma los valores **2 o 4**, según el tumor sea **benigno o maligno**, respectivamente."
   ]
  },
  {
   "cell_type": "markdown",
   "metadata": {},
   "source": [
    "## Índice\n",
    "- [1 - Introducción](#1)\n",
    "\n",
    "- [2 - Preprocesamiento de datos](#2)\n",
    "\n",
    "- [3 - Análisis descriptivo](#3)\n",
    "\n",
    "- [4 - Red Neuronal Retroalimentada](#4)\n",
    "    - [4.1 - División de los datos](#4-1)\n",
    "    - [4.2 - Funciones de activación. ](#4-2)\n",
    "    - [4.3 - Propagación hacia delante ](#4-3)\n",
    "    - [4.4 - Retro-propagación ](#4-4)\n",
    "    - [4.5 - Modelo completo ](#4-5)\n",
    "    \n",
    "- [5 - Aplicación](#5)\n",
    "    - [5.1 - Red Neuronal Retroalimentada de L=3 capas](#5-1)\n",
    "    - [5.2 - Red Neuronal Retroalimentada de L=5 capas](#5-2)\n",
    "    \n",
    "- [6 - Conclusiones](#6)\n",
    "\n",
    "\n"
   ]
  },
  {
   "cell_type": "markdown",
   "metadata": {},
   "source": [
    "<a name='1'></a>\n",
    "## 1. Introducción"
   ]
  },
  {
   "cell_type": "markdown",
   "metadata": {},
   "source": [
    "Empezaremos declarando las **bibliotecas/módulos** que vamos a usar, leer la base de datos e imprimirla por pantalla. \n",
    "Además, tal como tenemos la información, debemos declarar una variable con el nombre de las columnas, y usaremos como índice\n",
    "de las filas el número del código de la muestra, pues esta información no nos va a resultar útil para predecir nuestra variable\n",
    "objetivo.\n",
    "\n",
    "El objetivo será desarrollar una (más bien varias) redes neuronales retroalimentadas con el propósito de la base de datos dada y conseguir un modelo que a partir de las variables de entrada sea capaz de predecir si la persona dada va a sufrir un tumor benigno o maligno. "
   ]
  },
  {
   "cell_type": "code",
   "execution_count": 1,
   "metadata": {},
   "outputs": [],
   "source": [
    "import pandas as pd\n",
    "import numpy as np\n",
    "import seaborn as sns\n",
    "import matplotlib.pyplot as plt\n",
    "import math"
   ]
  },
  {
   "cell_type": "code",
   "execution_count": 2,
   "metadata": {},
   "outputs": [],
   "source": [
    "columnas=[\"Sample code numbrer\",\"Clump thickness\", \"Uniformity of Cell Size\",\"Uniformity of Cell Shape \",\n",
    "\"Marginal Adhesion\", \"Single Epithelial Cell Size\",\"Bare Nuclei\", \"Bland Chromatin\",\n",
    "\"Normal Nucleoli\",\"Mitoses\", \"Class\"]\n",
    "columnas = [\"Número  de código de muestra\", \"Espesor del grupo\", \"Uniformidad del tamaño de la célula\", \"Uniformidad de la forma de la célula\",\n",
    "\"Adhesión marginal\", \"Tamaño de célula epitelial única\", \"Núcleos desnudos\", \"Cromatina blanda\",\n",
    "\"Nucleolos normales\", \"Mitosis\", \"Clase\"]\n"
   ]
  },
  {
   "cell_type": "code",
   "execution_count": 3,
   "metadata": {},
   "outputs": [],
   "source": [
    "url = \"https://archive.ics.uci.edu/ml/machine-learning-databases/breast-cancer-wisconsin/breast-cancer-wisconsin.data\"\n",
    "data= pd.read_csv(url, names = columnas, index_col = 0, na_values='?')"
   ]
  },
  {
   "cell_type": "markdown",
   "metadata": {},
   "source": [
    "Ahora veamos la **forma** de nuestros datos (cuantas filas y columnas tenemos) y el **nombre de las columnas** ( en esta base, ni haría falta, pues tan solo tendremos 10 columnas, pero resultara útil en otras con mayor número). \n",
    "Además, veremos una **muestra pequeña** de nuestros datos y observaremos unas **características** respecto a la media, la cantidad, máximos y mínimos, desviación típica,..."
   ]
  },
  {
   "cell_type": "code",
   "execution_count": 4,
   "metadata": {
    "scrolled": true
   },
   "outputs": [
    {
     "name": "stdout",
     "output_type": "stream",
     "text": [
      "(699, 10)\n",
      "Index(['Espesor del grupo', 'Uniformidad del tamaño de la célula',\n",
      "       'Uniformidad de la forma de la célula', 'Adhesión marginal',\n",
      "       'Tamaño de célula epitelial única', 'Núcleos desnudos',\n",
      "       'Cromatina blanda', 'Nucleolos normales', 'Mitosis', 'Clase'],\n",
      "      dtype='object')\n"
     ]
    }
   ],
   "source": [
    "print(data.shape)\n",
    "print(data.columns)"
   ]
  },
  {
   "cell_type": "code",
   "execution_count": 5,
   "metadata": {},
   "outputs": [
    {
     "data": {
      "text/html": [
       "<div>\n",
       "<style scoped>\n",
       "    .dataframe tbody tr th:only-of-type {\n",
       "        vertical-align: middle;\n",
       "    }\n",
       "\n",
       "    .dataframe tbody tr th {\n",
       "        vertical-align: top;\n",
       "    }\n",
       "\n",
       "    .dataframe thead th {\n",
       "        text-align: right;\n",
       "    }\n",
       "</style>\n",
       "<table border=\"1\" class=\"dataframe\">\n",
       "  <thead>\n",
       "    <tr style=\"text-align: right;\">\n",
       "      <th></th>\n",
       "      <th>Espesor del grupo</th>\n",
       "      <th>Uniformidad del tamaño de la célula</th>\n",
       "      <th>Uniformidad de la forma de la célula</th>\n",
       "      <th>Adhesión marginal</th>\n",
       "      <th>Tamaño de célula epitelial única</th>\n",
       "      <th>Núcleos desnudos</th>\n",
       "      <th>Cromatina blanda</th>\n",
       "      <th>Nucleolos normales</th>\n",
       "      <th>Mitosis</th>\n",
       "      <th>Clase</th>\n",
       "    </tr>\n",
       "    <tr>\n",
       "      <th>Número  de código de muestra</th>\n",
       "      <th></th>\n",
       "      <th></th>\n",
       "      <th></th>\n",
       "      <th></th>\n",
       "      <th></th>\n",
       "      <th></th>\n",
       "      <th></th>\n",
       "      <th></th>\n",
       "      <th></th>\n",
       "      <th></th>\n",
       "    </tr>\n",
       "  </thead>\n",
       "  <tbody>\n",
       "    <tr>\n",
       "      <th>1000025</th>\n",
       "      <td>5</td>\n",
       "      <td>1</td>\n",
       "      <td>1</td>\n",
       "      <td>1</td>\n",
       "      <td>2</td>\n",
       "      <td>1.0</td>\n",
       "      <td>3</td>\n",
       "      <td>1</td>\n",
       "      <td>1</td>\n",
       "      <td>2</td>\n",
       "    </tr>\n",
       "    <tr>\n",
       "      <th>1002945</th>\n",
       "      <td>5</td>\n",
       "      <td>4</td>\n",
       "      <td>4</td>\n",
       "      <td>5</td>\n",
       "      <td>7</td>\n",
       "      <td>10.0</td>\n",
       "      <td>3</td>\n",
       "      <td>2</td>\n",
       "      <td>1</td>\n",
       "      <td>2</td>\n",
       "    </tr>\n",
       "    <tr>\n",
       "      <th>1015425</th>\n",
       "      <td>3</td>\n",
       "      <td>1</td>\n",
       "      <td>1</td>\n",
       "      <td>1</td>\n",
       "      <td>2</td>\n",
       "      <td>2.0</td>\n",
       "      <td>3</td>\n",
       "      <td>1</td>\n",
       "      <td>1</td>\n",
       "      <td>2</td>\n",
       "    </tr>\n",
       "    <tr>\n",
       "      <th>1016277</th>\n",
       "      <td>6</td>\n",
       "      <td>8</td>\n",
       "      <td>8</td>\n",
       "      <td>1</td>\n",
       "      <td>3</td>\n",
       "      <td>4.0</td>\n",
       "      <td>3</td>\n",
       "      <td>7</td>\n",
       "      <td>1</td>\n",
       "      <td>2</td>\n",
       "    </tr>\n",
       "    <tr>\n",
       "      <th>1017023</th>\n",
       "      <td>4</td>\n",
       "      <td>1</td>\n",
       "      <td>1</td>\n",
       "      <td>3</td>\n",
       "      <td>2</td>\n",
       "      <td>1.0</td>\n",
       "      <td>3</td>\n",
       "      <td>1</td>\n",
       "      <td>1</td>\n",
       "      <td>2</td>\n",
       "    </tr>\n",
       "    <tr>\n",
       "      <th>1017122</th>\n",
       "      <td>8</td>\n",
       "      <td>10</td>\n",
       "      <td>10</td>\n",
       "      <td>8</td>\n",
       "      <td>7</td>\n",
       "      <td>10.0</td>\n",
       "      <td>9</td>\n",
       "      <td>7</td>\n",
       "      <td>1</td>\n",
       "      <td>4</td>\n",
       "    </tr>\n",
       "    <tr>\n",
       "      <th>1018099</th>\n",
       "      <td>1</td>\n",
       "      <td>1</td>\n",
       "      <td>1</td>\n",
       "      <td>1</td>\n",
       "      <td>2</td>\n",
       "      <td>10.0</td>\n",
       "      <td>3</td>\n",
       "      <td>1</td>\n",
       "      <td>1</td>\n",
       "      <td>2</td>\n",
       "    </tr>\n",
       "    <tr>\n",
       "      <th>1018561</th>\n",
       "      <td>2</td>\n",
       "      <td>1</td>\n",
       "      <td>2</td>\n",
       "      <td>1</td>\n",
       "      <td>2</td>\n",
       "      <td>1.0</td>\n",
       "      <td>3</td>\n",
       "      <td>1</td>\n",
       "      <td>1</td>\n",
       "      <td>2</td>\n",
       "    </tr>\n",
       "  </tbody>\n",
       "</table>\n",
       "</div>"
      ],
      "text/plain": [
       "                              Espesor del grupo  \\\n",
       "Número  de código de muestra                      \n",
       "1000025                                       5   \n",
       "1002945                                       5   \n",
       "1015425                                       3   \n",
       "1016277                                       6   \n",
       "1017023                                       4   \n",
       "1017122                                       8   \n",
       "1018099                                       1   \n",
       "1018561                                       2   \n",
       "\n",
       "                              Uniformidad del tamaño de la célula  \\\n",
       "Número  de código de muestra                                        \n",
       "1000025                                                         1   \n",
       "1002945                                                         4   \n",
       "1015425                                                         1   \n",
       "1016277                                                         8   \n",
       "1017023                                                         1   \n",
       "1017122                                                        10   \n",
       "1018099                                                         1   \n",
       "1018561                                                         1   \n",
       "\n",
       "                              Uniformidad de la forma de la célula  \\\n",
       "Número  de código de muestra                                         \n",
       "1000025                                                          1   \n",
       "1002945                                                          4   \n",
       "1015425                                                          1   \n",
       "1016277                                                          8   \n",
       "1017023                                                          1   \n",
       "1017122                                                         10   \n",
       "1018099                                                          1   \n",
       "1018561                                                          2   \n",
       "\n",
       "                              Adhesión marginal  \\\n",
       "Número  de código de muestra                      \n",
       "1000025                                       1   \n",
       "1002945                                       5   \n",
       "1015425                                       1   \n",
       "1016277                                       1   \n",
       "1017023                                       3   \n",
       "1017122                                       8   \n",
       "1018099                                       1   \n",
       "1018561                                       1   \n",
       "\n",
       "                              Tamaño de célula epitelial única  \\\n",
       "Número  de código de muestra                                     \n",
       "1000025                                                      2   \n",
       "1002945                                                      7   \n",
       "1015425                                                      2   \n",
       "1016277                                                      3   \n",
       "1017023                                                      2   \n",
       "1017122                                                      7   \n",
       "1018099                                                      2   \n",
       "1018561                                                      2   \n",
       "\n",
       "                              Núcleos desnudos  Cromatina blanda  \\\n",
       "Número  de código de muestra                                       \n",
       "1000025                                    1.0                 3   \n",
       "1002945                                   10.0                 3   \n",
       "1015425                                    2.0                 3   \n",
       "1016277                                    4.0                 3   \n",
       "1017023                                    1.0                 3   \n",
       "1017122                                   10.0                 9   \n",
       "1018099                                   10.0                 3   \n",
       "1018561                                    1.0                 3   \n",
       "\n",
       "                              Nucleolos normales  Mitosis  Clase  \n",
       "Número  de código de muestra                                      \n",
       "1000025                                        1        1      2  \n",
       "1002945                                        2        1      2  \n",
       "1015425                                        1        1      2  \n",
       "1016277                                        7        1      2  \n",
       "1017023                                        1        1      2  \n",
       "1017122                                        7        1      4  \n",
       "1018099                                        1        1      2  \n",
       "1018561                                        1        1      2  "
      ]
     },
     "execution_count": 5,
     "metadata": {},
     "output_type": "execute_result"
    }
   ],
   "source": [
    "data.head(8)"
   ]
  },
  {
   "cell_type": "code",
   "execution_count": 6,
   "metadata": {
    "scrolled": true
   },
   "outputs": [
    {
     "data": {
      "text/html": [
       "<div>\n",
       "<style scoped>\n",
       "    .dataframe tbody tr th:only-of-type {\n",
       "        vertical-align: middle;\n",
       "    }\n",
       "\n",
       "    .dataframe tbody tr th {\n",
       "        vertical-align: top;\n",
       "    }\n",
       "\n",
       "    .dataframe thead th {\n",
       "        text-align: right;\n",
       "    }\n",
       "</style>\n",
       "<table border=\"1\" class=\"dataframe\">\n",
       "  <thead>\n",
       "    <tr style=\"text-align: right;\">\n",
       "      <th></th>\n",
       "      <th>Espesor del grupo</th>\n",
       "      <th>Uniformidad del tamaño de la célula</th>\n",
       "      <th>Uniformidad de la forma de la célula</th>\n",
       "      <th>Adhesión marginal</th>\n",
       "      <th>Tamaño de célula epitelial única</th>\n",
       "      <th>Núcleos desnudos</th>\n",
       "      <th>Cromatina blanda</th>\n",
       "      <th>Nucleolos normales</th>\n",
       "      <th>Mitosis</th>\n",
       "      <th>Clase</th>\n",
       "    </tr>\n",
       "  </thead>\n",
       "  <tbody>\n",
       "    <tr>\n",
       "      <th>count</th>\n",
       "      <td>699.000000</td>\n",
       "      <td>699.000000</td>\n",
       "      <td>699.000000</td>\n",
       "      <td>699.000000</td>\n",
       "      <td>699.000000</td>\n",
       "      <td>683.000000</td>\n",
       "      <td>699.000000</td>\n",
       "      <td>699.000000</td>\n",
       "      <td>699.000000</td>\n",
       "      <td>699.000000</td>\n",
       "    </tr>\n",
       "    <tr>\n",
       "      <th>mean</th>\n",
       "      <td>4.417740</td>\n",
       "      <td>3.134478</td>\n",
       "      <td>3.207439</td>\n",
       "      <td>2.806867</td>\n",
       "      <td>3.216023</td>\n",
       "      <td>3.544656</td>\n",
       "      <td>3.437768</td>\n",
       "      <td>2.866953</td>\n",
       "      <td>1.589413</td>\n",
       "      <td>2.689557</td>\n",
       "    </tr>\n",
       "    <tr>\n",
       "      <th>std</th>\n",
       "      <td>2.815741</td>\n",
       "      <td>3.051459</td>\n",
       "      <td>2.971913</td>\n",
       "      <td>2.855379</td>\n",
       "      <td>2.214300</td>\n",
       "      <td>3.643857</td>\n",
       "      <td>2.438364</td>\n",
       "      <td>3.053634</td>\n",
       "      <td>1.715078</td>\n",
       "      <td>0.951273</td>\n",
       "    </tr>\n",
       "    <tr>\n",
       "      <th>min</th>\n",
       "      <td>1.000000</td>\n",
       "      <td>1.000000</td>\n",
       "      <td>1.000000</td>\n",
       "      <td>1.000000</td>\n",
       "      <td>1.000000</td>\n",
       "      <td>1.000000</td>\n",
       "      <td>1.000000</td>\n",
       "      <td>1.000000</td>\n",
       "      <td>1.000000</td>\n",
       "      <td>2.000000</td>\n",
       "    </tr>\n",
       "    <tr>\n",
       "      <th>25%</th>\n",
       "      <td>2.000000</td>\n",
       "      <td>1.000000</td>\n",
       "      <td>1.000000</td>\n",
       "      <td>1.000000</td>\n",
       "      <td>2.000000</td>\n",
       "      <td>1.000000</td>\n",
       "      <td>2.000000</td>\n",
       "      <td>1.000000</td>\n",
       "      <td>1.000000</td>\n",
       "      <td>2.000000</td>\n",
       "    </tr>\n",
       "    <tr>\n",
       "      <th>50%</th>\n",
       "      <td>4.000000</td>\n",
       "      <td>1.000000</td>\n",
       "      <td>1.000000</td>\n",
       "      <td>1.000000</td>\n",
       "      <td>2.000000</td>\n",
       "      <td>1.000000</td>\n",
       "      <td>3.000000</td>\n",
       "      <td>1.000000</td>\n",
       "      <td>1.000000</td>\n",
       "      <td>2.000000</td>\n",
       "    </tr>\n",
       "    <tr>\n",
       "      <th>75%</th>\n",
       "      <td>6.000000</td>\n",
       "      <td>5.000000</td>\n",
       "      <td>5.000000</td>\n",
       "      <td>4.000000</td>\n",
       "      <td>4.000000</td>\n",
       "      <td>6.000000</td>\n",
       "      <td>5.000000</td>\n",
       "      <td>4.000000</td>\n",
       "      <td>1.000000</td>\n",
       "      <td>4.000000</td>\n",
       "    </tr>\n",
       "    <tr>\n",
       "      <th>max</th>\n",
       "      <td>10.000000</td>\n",
       "      <td>10.000000</td>\n",
       "      <td>10.000000</td>\n",
       "      <td>10.000000</td>\n",
       "      <td>10.000000</td>\n",
       "      <td>10.000000</td>\n",
       "      <td>10.000000</td>\n",
       "      <td>10.000000</td>\n",
       "      <td>10.000000</td>\n",
       "      <td>4.000000</td>\n",
       "    </tr>\n",
       "  </tbody>\n",
       "</table>\n",
       "</div>"
      ],
      "text/plain": [
       "       Espesor del grupo  Uniformidad del tamaño de la célula  \\\n",
       "count         699.000000                           699.000000   \n",
       "mean            4.417740                             3.134478   \n",
       "std             2.815741                             3.051459   \n",
       "min             1.000000                             1.000000   \n",
       "25%             2.000000                             1.000000   \n",
       "50%             4.000000                             1.000000   \n",
       "75%             6.000000                             5.000000   \n",
       "max            10.000000                            10.000000   \n",
       "\n",
       "       Uniformidad de la forma de la célula  Adhesión marginal  \\\n",
       "count                            699.000000         699.000000   \n",
       "mean                               3.207439           2.806867   \n",
       "std                                2.971913           2.855379   \n",
       "min                                1.000000           1.000000   \n",
       "25%                                1.000000           1.000000   \n",
       "50%                                1.000000           1.000000   \n",
       "75%                                5.000000           4.000000   \n",
       "max                               10.000000          10.000000   \n",
       "\n",
       "       Tamaño de célula epitelial única  Núcleos desnudos  Cromatina blanda  \\\n",
       "count                        699.000000        683.000000        699.000000   \n",
       "mean                           3.216023          3.544656          3.437768   \n",
       "std                            2.214300          3.643857          2.438364   \n",
       "min                            1.000000          1.000000          1.000000   \n",
       "25%                            2.000000          1.000000          2.000000   \n",
       "50%                            2.000000          1.000000          3.000000   \n",
       "75%                            4.000000          6.000000          5.000000   \n",
       "max                           10.000000         10.000000         10.000000   \n",
       "\n",
       "       Nucleolos normales     Mitosis       Clase  \n",
       "count          699.000000  699.000000  699.000000  \n",
       "mean             2.866953    1.589413    2.689557  \n",
       "std              3.053634    1.715078    0.951273  \n",
       "min              1.000000    1.000000    2.000000  \n",
       "25%              1.000000    1.000000    2.000000  \n",
       "50%              1.000000    1.000000    2.000000  \n",
       "75%              4.000000    1.000000    4.000000  \n",
       "max             10.000000   10.000000    4.000000  "
      ]
     },
     "execution_count": 6,
     "metadata": {},
     "output_type": "execute_result"
    }
   ],
   "source": [
    "data.describe()"
   ]
  },
  {
   "cell_type": "code",
   "execution_count": 7,
   "metadata": {},
   "outputs": [
    {
     "data": {
      "text/plain": [
       "count    699.000000\n",
       "mean       2.689557\n",
       "std        0.951273\n",
       "min        2.000000\n",
       "25%        2.000000\n",
       "50%        2.000000\n",
       "75%        4.000000\n",
       "max        4.000000\n",
       "Name: Clase, dtype: float64"
      ]
     },
     "execution_count": 7,
     "metadata": {},
     "output_type": "execute_result"
    }
   ],
   "source": [
    "data['Clase'].describe()"
   ]
  },
  {
   "cell_type": "markdown",
   "metadata": {},
   "source": [
    "La primera columna es poco útil (número de código). En el resto (excepto la última), vemos que todos tienen valores entre el 1 y el 10, al menos uno en cada columna, luego podriamos decir que hay **cierta variabilidad**. En cuanto a la última columna, nuestra columna objetivo, la única información útil que obtenemos es la media, que es 2.68 ; es decir, tenemos más datos benignos que malignos. Además, vamos a modificar también sus **valores numéricos 2 y 4** por **0 y 1** (para ser más sencillo, 0-negativo(benigno), 1-positivo(maligno). También, destacamos que de la columna 'Núcleos desnudos' faltan valores."
   ]
  },
  {
   "cell_type": "code",
   "execution_count": 10,
   "metadata": {},
   "outputs": [],
   "source": [
    "data[\"Clase\"] = data[\"Clase\"].replace({2:0, 4:1})\n"
   ]
  },
  {
   "cell_type": "code",
   "execution_count": 11,
   "metadata": {
    "scrolled": true
   },
   "outputs": [
    {
     "data": {
      "text/html": [
       "<div>\n",
       "<style scoped>\n",
       "    .dataframe tbody tr th:only-of-type {\n",
       "        vertical-align: middle;\n",
       "    }\n",
       "\n",
       "    .dataframe tbody tr th {\n",
       "        vertical-align: top;\n",
       "    }\n",
       "\n",
       "    .dataframe thead th {\n",
       "        text-align: right;\n",
       "    }\n",
       "</style>\n",
       "<table border=\"1\" class=\"dataframe\">\n",
       "  <thead>\n",
       "    <tr style=\"text-align: right;\">\n",
       "      <th></th>\n",
       "      <th>Espesor del grupo</th>\n",
       "      <th>Uniformidad del tamaño de la célula</th>\n",
       "      <th>Uniformidad de la forma de la célula</th>\n",
       "      <th>Adhesión marginal</th>\n",
       "      <th>Tamaño de célula epitelial única</th>\n",
       "      <th>Núcleos desnudos</th>\n",
       "      <th>Cromatina blanda</th>\n",
       "      <th>Nucleolos normales</th>\n",
       "      <th>Mitosis</th>\n",
       "      <th>Clase</th>\n",
       "    </tr>\n",
       "    <tr>\n",
       "      <th>Número  de código de muestra</th>\n",
       "      <th></th>\n",
       "      <th></th>\n",
       "      <th></th>\n",
       "      <th></th>\n",
       "      <th></th>\n",
       "      <th></th>\n",
       "      <th></th>\n",
       "      <th></th>\n",
       "      <th></th>\n",
       "      <th></th>\n",
       "    </tr>\n",
       "  </thead>\n",
       "  <tbody>\n",
       "    <tr>\n",
       "      <th>1000025</th>\n",
       "      <td>5</td>\n",
       "      <td>1</td>\n",
       "      <td>1</td>\n",
       "      <td>1</td>\n",
       "      <td>2</td>\n",
       "      <td>1.0</td>\n",
       "      <td>3</td>\n",
       "      <td>1</td>\n",
       "      <td>1</td>\n",
       "      <td>0</td>\n",
       "    </tr>\n",
       "    <tr>\n",
       "      <th>1002945</th>\n",
       "      <td>5</td>\n",
       "      <td>4</td>\n",
       "      <td>4</td>\n",
       "      <td>5</td>\n",
       "      <td>7</td>\n",
       "      <td>10.0</td>\n",
       "      <td>3</td>\n",
       "      <td>2</td>\n",
       "      <td>1</td>\n",
       "      <td>0</td>\n",
       "    </tr>\n",
       "    <tr>\n",
       "      <th>1015425</th>\n",
       "      <td>3</td>\n",
       "      <td>1</td>\n",
       "      <td>1</td>\n",
       "      <td>1</td>\n",
       "      <td>2</td>\n",
       "      <td>2.0</td>\n",
       "      <td>3</td>\n",
       "      <td>1</td>\n",
       "      <td>1</td>\n",
       "      <td>0</td>\n",
       "    </tr>\n",
       "    <tr>\n",
       "      <th>1016277</th>\n",
       "      <td>6</td>\n",
       "      <td>8</td>\n",
       "      <td>8</td>\n",
       "      <td>1</td>\n",
       "      <td>3</td>\n",
       "      <td>4.0</td>\n",
       "      <td>3</td>\n",
       "      <td>7</td>\n",
       "      <td>1</td>\n",
       "      <td>0</td>\n",
       "    </tr>\n",
       "    <tr>\n",
       "      <th>1017023</th>\n",
       "      <td>4</td>\n",
       "      <td>1</td>\n",
       "      <td>1</td>\n",
       "      <td>3</td>\n",
       "      <td>2</td>\n",
       "      <td>1.0</td>\n",
       "      <td>3</td>\n",
       "      <td>1</td>\n",
       "      <td>1</td>\n",
       "      <td>0</td>\n",
       "    </tr>\n",
       "    <tr>\n",
       "      <th>...</th>\n",
       "      <td>...</td>\n",
       "      <td>...</td>\n",
       "      <td>...</td>\n",
       "      <td>...</td>\n",
       "      <td>...</td>\n",
       "      <td>...</td>\n",
       "      <td>...</td>\n",
       "      <td>...</td>\n",
       "      <td>...</td>\n",
       "      <td>...</td>\n",
       "    </tr>\n",
       "    <tr>\n",
       "      <th>776715</th>\n",
       "      <td>3</td>\n",
       "      <td>1</td>\n",
       "      <td>1</td>\n",
       "      <td>1</td>\n",
       "      <td>3</td>\n",
       "      <td>2.0</td>\n",
       "      <td>1</td>\n",
       "      <td>1</td>\n",
       "      <td>1</td>\n",
       "      <td>0</td>\n",
       "    </tr>\n",
       "    <tr>\n",
       "      <th>841769</th>\n",
       "      <td>2</td>\n",
       "      <td>1</td>\n",
       "      <td>1</td>\n",
       "      <td>1</td>\n",
       "      <td>2</td>\n",
       "      <td>1.0</td>\n",
       "      <td>1</td>\n",
       "      <td>1</td>\n",
       "      <td>1</td>\n",
       "      <td>0</td>\n",
       "    </tr>\n",
       "    <tr>\n",
       "      <th>888820</th>\n",
       "      <td>5</td>\n",
       "      <td>10</td>\n",
       "      <td>10</td>\n",
       "      <td>3</td>\n",
       "      <td>7</td>\n",
       "      <td>3.0</td>\n",
       "      <td>8</td>\n",
       "      <td>10</td>\n",
       "      <td>2</td>\n",
       "      <td>1</td>\n",
       "    </tr>\n",
       "    <tr>\n",
       "      <th>897471</th>\n",
       "      <td>4</td>\n",
       "      <td>8</td>\n",
       "      <td>6</td>\n",
       "      <td>4</td>\n",
       "      <td>3</td>\n",
       "      <td>4.0</td>\n",
       "      <td>10</td>\n",
       "      <td>6</td>\n",
       "      <td>1</td>\n",
       "      <td>1</td>\n",
       "    </tr>\n",
       "    <tr>\n",
       "      <th>897471</th>\n",
       "      <td>4</td>\n",
       "      <td>8</td>\n",
       "      <td>8</td>\n",
       "      <td>5</td>\n",
       "      <td>4</td>\n",
       "      <td>5.0</td>\n",
       "      <td>10</td>\n",
       "      <td>4</td>\n",
       "      <td>1</td>\n",
       "      <td>1</td>\n",
       "    </tr>\n",
       "  </tbody>\n",
       "</table>\n",
       "<p>699 rows × 10 columns</p>\n",
       "</div>"
      ],
      "text/plain": [
       "                              Espesor del grupo  \\\n",
       "Número  de código de muestra                      \n",
       "1000025                                       5   \n",
       "1002945                                       5   \n",
       "1015425                                       3   \n",
       "1016277                                       6   \n",
       "1017023                                       4   \n",
       "...                                         ...   \n",
       "776715                                        3   \n",
       "841769                                        2   \n",
       "888820                                        5   \n",
       "897471                                        4   \n",
       "897471                                        4   \n",
       "\n",
       "                              Uniformidad del tamaño de la célula  \\\n",
       "Número  de código de muestra                                        \n",
       "1000025                                                         1   \n",
       "1002945                                                         4   \n",
       "1015425                                                         1   \n",
       "1016277                                                         8   \n",
       "1017023                                                         1   \n",
       "...                                                           ...   \n",
       "776715                                                          1   \n",
       "841769                                                          1   \n",
       "888820                                                         10   \n",
       "897471                                                          8   \n",
       "897471                                                          8   \n",
       "\n",
       "                              Uniformidad de la forma de la célula  \\\n",
       "Número  de código de muestra                                         \n",
       "1000025                                                          1   \n",
       "1002945                                                          4   \n",
       "1015425                                                          1   \n",
       "1016277                                                          8   \n",
       "1017023                                                          1   \n",
       "...                                                            ...   \n",
       "776715                                                           1   \n",
       "841769                                                           1   \n",
       "888820                                                          10   \n",
       "897471                                                           6   \n",
       "897471                                                           8   \n",
       "\n",
       "                              Adhesión marginal  \\\n",
       "Número  de código de muestra                      \n",
       "1000025                                       1   \n",
       "1002945                                       5   \n",
       "1015425                                       1   \n",
       "1016277                                       1   \n",
       "1017023                                       3   \n",
       "...                                         ...   \n",
       "776715                                        1   \n",
       "841769                                        1   \n",
       "888820                                        3   \n",
       "897471                                        4   \n",
       "897471                                        5   \n",
       "\n",
       "                              Tamaño de célula epitelial única  \\\n",
       "Número  de código de muestra                                     \n",
       "1000025                                                      2   \n",
       "1002945                                                      7   \n",
       "1015425                                                      2   \n",
       "1016277                                                      3   \n",
       "1017023                                                      2   \n",
       "...                                                        ...   \n",
       "776715                                                       3   \n",
       "841769                                                       2   \n",
       "888820                                                       7   \n",
       "897471                                                       3   \n",
       "897471                                                       4   \n",
       "\n",
       "                              Núcleos desnudos  Cromatina blanda  \\\n",
       "Número  de código de muestra                                       \n",
       "1000025                                    1.0                 3   \n",
       "1002945                                   10.0                 3   \n",
       "1015425                                    2.0                 3   \n",
       "1016277                                    4.0                 3   \n",
       "1017023                                    1.0                 3   \n",
       "...                                        ...               ...   \n",
       "776715                                     2.0                 1   \n",
       "841769                                     1.0                 1   \n",
       "888820                                     3.0                 8   \n",
       "897471                                     4.0                10   \n",
       "897471                                     5.0                10   \n",
       "\n",
       "                              Nucleolos normales  Mitosis  Clase  \n",
       "Número  de código de muestra                                      \n",
       "1000025                                        1        1      0  \n",
       "1002945                                        2        1      0  \n",
       "1015425                                        1        1      0  \n",
       "1016277                                        7        1      0  \n",
       "1017023                                        1        1      0  \n",
       "...                                          ...      ...    ...  \n",
       "776715                                         1        1      0  \n",
       "841769                                         1        1      0  \n",
       "888820                                        10        2      1  \n",
       "897471                                         6        1      1  \n",
       "897471                                         4        1      1  \n",
       "\n",
       "[699 rows x 10 columns]"
      ]
     },
     "execution_count": 11,
     "metadata": {},
     "output_type": "execute_result"
    }
   ],
   "source": [
    "data"
   ]
  },
  {
   "cell_type": "code",
   "execution_count": 12,
   "metadata": {},
   "outputs": [
    {
     "data": {
      "text/plain": [
       "count    699.000000\n",
       "mean       0.344778\n",
       "std        0.475636\n",
       "min        0.000000\n",
       "25%        0.000000\n",
       "50%        0.000000\n",
       "75%        1.000000\n",
       "max        1.000000\n",
       "Name: Clase, dtype: float64"
      ]
     },
     "execution_count": 12,
     "metadata": {},
     "output_type": "execute_result"
    }
   ],
   "source": [
    "data.Clase.describe()"
   ]
  },
  {
   "cell_type": "code",
   "execution_count": 13,
   "metadata": {},
   "outputs": [
    {
     "data": {
      "text/plain": [
       "65.52217453505007"
      ]
     },
     "execution_count": 13,
     "metadata": {},
     "output_type": "execute_result"
    }
   ],
   "source": [
    "porc_0 = data[data.Clase==0].Clase.count() / data.shape[0] * 100\n",
    "porc_0"
   ]
  },
  {
   "cell_type": "markdown",
   "metadata": {},
   "source": [
    "Es decir, el **65.5%** de nuestros datos son **benignos**."
   ]
  },
  {
   "cell_type": "markdown",
   "metadata": {},
   "source": [
    "<a name='2'></a>\n",
    "## 2. Preprocesamiento de los datos."
   ]
  },
  {
   "cell_type": "markdown",
   "metadata": {},
   "source": [
    "Hemos visto anteriormente, que la columna \"Núcleos desnudos\" tenía menos valores que el resto."
   ]
  },
  {
   "cell_type": "code",
   "execution_count": 14,
   "metadata": {},
   "outputs": [
    {
     "data": {
      "text/plain": [
       "Espesor del grupo                        0\n",
       "Uniformidad del tamaño de la célula      0\n",
       "Uniformidad de la forma de la célula     0\n",
       "Adhesión marginal                        0\n",
       "Tamaño de célula epitelial única         0\n",
       "Núcleos desnudos                        16\n",
       "Cromatina blanda                         0\n",
       "Nucleolos normales                       0\n",
       "Mitosis                                  0\n",
       "Clase                                    0\n",
       "dtype: int64"
      ]
     },
     "execution_count": 14,
     "metadata": {},
     "output_type": "execute_result"
    }
   ],
   "source": [
    "data.isnull().sum() "
   ]
  },
  {
   "cell_type": "code",
   "execution_count": 15,
   "metadata": {},
   "outputs": [
    {
     "data": {
      "text/plain": [
       "1.0     402\n",
       "10.0    132\n",
       "2.0      30\n",
       "5.0      30\n",
       "3.0      28\n",
       "8.0      21\n",
       "4.0      19\n",
       "9.0       9\n",
       "7.0       8\n",
       "6.0       4\n",
       "Name: Núcleos desnudos, dtype: int64"
      ]
     },
     "execution_count": 15,
     "metadata": {},
     "output_type": "execute_result"
    }
   ],
   "source": [
    "data[\"Núcleos desnudos\"].value_counts()"
   ]
  },
  {
   "cell_type": "code",
   "execution_count": 16,
   "metadata": {},
   "outputs": [
    {
     "data": {
      "text/plain": [
       "2.28898426323319"
      ]
     },
     "execution_count": 16,
     "metadata": {},
     "output_type": "execute_result"
    }
   ],
   "source": [
    "data[\"Núcleos desnudos\"].isnull().sum() / data.shape[0] * 100"
   ]
  },
  {
   "cell_type": "markdown",
   "metadata": {},
   "source": [
    "Efectivamente, dicha columna tiene **16 valores/filas desconcido**, y debemos decidir que hacer con ellos. Podíamos haber eliminando todas las filas (que contengan valores desconocidos) o la columna, o rellenarlo, por ejemplo, con la media. En este caso, podría ser buena idea eliminar las filas, pues **tan solo son 16 de 699**, es decir, menos de un **2.3 %** del total de los datos. Estudiemos un poco más estos valores"
   ]
  },
  {
   "cell_type": "code",
   "execution_count": 17,
   "metadata": {},
   "outputs": [
    {
     "data": {
      "text/html": [
       "<div>\n",
       "<style scoped>\n",
       "    .dataframe tbody tr th:only-of-type {\n",
       "        vertical-align: middle;\n",
       "    }\n",
       "\n",
       "    .dataframe tbody tr th {\n",
       "        vertical-align: top;\n",
       "    }\n",
       "\n",
       "    .dataframe thead th {\n",
       "        text-align: right;\n",
       "    }\n",
       "</style>\n",
       "<table border=\"1\" class=\"dataframe\">\n",
       "  <thead>\n",
       "    <tr style=\"text-align: right;\">\n",
       "      <th></th>\n",
       "      <th>Espesor del grupo</th>\n",
       "      <th>Uniformidad del tamaño de la célula</th>\n",
       "      <th>Uniformidad de la forma de la célula</th>\n",
       "      <th>Adhesión marginal</th>\n",
       "      <th>Tamaño de célula epitelial única</th>\n",
       "      <th>Núcleos desnudos</th>\n",
       "      <th>Cromatina blanda</th>\n",
       "      <th>Nucleolos normales</th>\n",
       "      <th>Mitosis</th>\n",
       "      <th>Clase</th>\n",
       "    </tr>\n",
       "    <tr>\n",
       "      <th>Número  de código de muestra</th>\n",
       "      <th></th>\n",
       "      <th></th>\n",
       "      <th></th>\n",
       "      <th></th>\n",
       "      <th></th>\n",
       "      <th></th>\n",
       "      <th></th>\n",
       "      <th></th>\n",
       "      <th></th>\n",
       "      <th></th>\n",
       "    </tr>\n",
       "  </thead>\n",
       "  <tbody>\n",
       "    <tr>\n",
       "      <th>1057013</th>\n",
       "      <td>8</td>\n",
       "      <td>4</td>\n",
       "      <td>5</td>\n",
       "      <td>1</td>\n",
       "      <td>2</td>\n",
       "      <td>NaN</td>\n",
       "      <td>7</td>\n",
       "      <td>3</td>\n",
       "      <td>1</td>\n",
       "      <td>1</td>\n",
       "    </tr>\n",
       "    <tr>\n",
       "      <th>1096800</th>\n",
       "      <td>6</td>\n",
       "      <td>6</td>\n",
       "      <td>6</td>\n",
       "      <td>9</td>\n",
       "      <td>6</td>\n",
       "      <td>NaN</td>\n",
       "      <td>7</td>\n",
       "      <td>8</td>\n",
       "      <td>1</td>\n",
       "      <td>0</td>\n",
       "    </tr>\n",
       "    <tr>\n",
       "      <th>1183246</th>\n",
       "      <td>1</td>\n",
       "      <td>1</td>\n",
       "      <td>1</td>\n",
       "      <td>1</td>\n",
       "      <td>1</td>\n",
       "      <td>NaN</td>\n",
       "      <td>2</td>\n",
       "      <td>1</td>\n",
       "      <td>1</td>\n",
       "      <td>0</td>\n",
       "    </tr>\n",
       "    <tr>\n",
       "      <th>1184840</th>\n",
       "      <td>1</td>\n",
       "      <td>1</td>\n",
       "      <td>3</td>\n",
       "      <td>1</td>\n",
       "      <td>2</td>\n",
       "      <td>NaN</td>\n",
       "      <td>2</td>\n",
       "      <td>1</td>\n",
       "      <td>1</td>\n",
       "      <td>0</td>\n",
       "    </tr>\n",
       "    <tr>\n",
       "      <th>1193683</th>\n",
       "      <td>1</td>\n",
       "      <td>1</td>\n",
       "      <td>2</td>\n",
       "      <td>1</td>\n",
       "      <td>3</td>\n",
       "      <td>NaN</td>\n",
       "      <td>1</td>\n",
       "      <td>1</td>\n",
       "      <td>1</td>\n",
       "      <td>0</td>\n",
       "    </tr>\n",
       "    <tr>\n",
       "      <th>1197510</th>\n",
       "      <td>5</td>\n",
       "      <td>1</td>\n",
       "      <td>1</td>\n",
       "      <td>1</td>\n",
       "      <td>2</td>\n",
       "      <td>NaN</td>\n",
       "      <td>3</td>\n",
       "      <td>1</td>\n",
       "      <td>1</td>\n",
       "      <td>0</td>\n",
       "    </tr>\n",
       "    <tr>\n",
       "      <th>1241232</th>\n",
       "      <td>3</td>\n",
       "      <td>1</td>\n",
       "      <td>4</td>\n",
       "      <td>1</td>\n",
       "      <td>2</td>\n",
       "      <td>NaN</td>\n",
       "      <td>3</td>\n",
       "      <td>1</td>\n",
       "      <td>1</td>\n",
       "      <td>0</td>\n",
       "    </tr>\n",
       "    <tr>\n",
       "      <th>169356</th>\n",
       "      <td>3</td>\n",
       "      <td>1</td>\n",
       "      <td>1</td>\n",
       "      <td>1</td>\n",
       "      <td>2</td>\n",
       "      <td>NaN</td>\n",
       "      <td>3</td>\n",
       "      <td>1</td>\n",
       "      <td>1</td>\n",
       "      <td>0</td>\n",
       "    </tr>\n",
       "    <tr>\n",
       "      <th>432809</th>\n",
       "      <td>3</td>\n",
       "      <td>1</td>\n",
       "      <td>3</td>\n",
       "      <td>1</td>\n",
       "      <td>2</td>\n",
       "      <td>NaN</td>\n",
       "      <td>2</td>\n",
       "      <td>1</td>\n",
       "      <td>1</td>\n",
       "      <td>0</td>\n",
       "    </tr>\n",
       "    <tr>\n",
       "      <th>563649</th>\n",
       "      <td>8</td>\n",
       "      <td>8</td>\n",
       "      <td>8</td>\n",
       "      <td>1</td>\n",
       "      <td>2</td>\n",
       "      <td>NaN</td>\n",
       "      <td>6</td>\n",
       "      <td>10</td>\n",
       "      <td>1</td>\n",
       "      <td>1</td>\n",
       "    </tr>\n",
       "    <tr>\n",
       "      <th>606140</th>\n",
       "      <td>1</td>\n",
       "      <td>1</td>\n",
       "      <td>1</td>\n",
       "      <td>1</td>\n",
       "      <td>2</td>\n",
       "      <td>NaN</td>\n",
       "      <td>2</td>\n",
       "      <td>1</td>\n",
       "      <td>1</td>\n",
       "      <td>0</td>\n",
       "    </tr>\n",
       "    <tr>\n",
       "      <th>61634</th>\n",
       "      <td>5</td>\n",
       "      <td>4</td>\n",
       "      <td>3</td>\n",
       "      <td>1</td>\n",
       "      <td>2</td>\n",
       "      <td>NaN</td>\n",
       "      <td>2</td>\n",
       "      <td>3</td>\n",
       "      <td>1</td>\n",
       "      <td>0</td>\n",
       "    </tr>\n",
       "    <tr>\n",
       "      <th>704168</th>\n",
       "      <td>4</td>\n",
       "      <td>6</td>\n",
       "      <td>5</td>\n",
       "      <td>6</td>\n",
       "      <td>7</td>\n",
       "      <td>NaN</td>\n",
       "      <td>4</td>\n",
       "      <td>9</td>\n",
       "      <td>1</td>\n",
       "      <td>0</td>\n",
       "    </tr>\n",
       "    <tr>\n",
       "      <th>733639</th>\n",
       "      <td>3</td>\n",
       "      <td>1</td>\n",
       "      <td>1</td>\n",
       "      <td>1</td>\n",
       "      <td>2</td>\n",
       "      <td>NaN</td>\n",
       "      <td>3</td>\n",
       "      <td>1</td>\n",
       "      <td>1</td>\n",
       "      <td>0</td>\n",
       "    </tr>\n",
       "    <tr>\n",
       "      <th>1238464</th>\n",
       "      <td>1</td>\n",
       "      <td>1</td>\n",
       "      <td>1</td>\n",
       "      <td>1</td>\n",
       "      <td>1</td>\n",
       "      <td>NaN</td>\n",
       "      <td>2</td>\n",
       "      <td>1</td>\n",
       "      <td>1</td>\n",
       "      <td>0</td>\n",
       "    </tr>\n",
       "    <tr>\n",
       "      <th>1057067</th>\n",
       "      <td>1</td>\n",
       "      <td>1</td>\n",
       "      <td>1</td>\n",
       "      <td>1</td>\n",
       "      <td>1</td>\n",
       "      <td>NaN</td>\n",
       "      <td>1</td>\n",
       "      <td>1</td>\n",
       "      <td>1</td>\n",
       "      <td>0</td>\n",
       "    </tr>\n",
       "  </tbody>\n",
       "</table>\n",
       "</div>"
      ],
      "text/plain": [
       "                              Espesor del grupo  \\\n",
       "Número  de código de muestra                      \n",
       "1057013                                       8   \n",
       "1096800                                       6   \n",
       "1183246                                       1   \n",
       "1184840                                       1   \n",
       "1193683                                       1   \n",
       "1197510                                       5   \n",
       "1241232                                       3   \n",
       "169356                                        3   \n",
       "432809                                        3   \n",
       "563649                                        8   \n",
       "606140                                        1   \n",
       "61634                                         5   \n",
       "704168                                        4   \n",
       "733639                                        3   \n",
       "1238464                                       1   \n",
       "1057067                                       1   \n",
       "\n",
       "                              Uniformidad del tamaño de la célula  \\\n",
       "Número  de código de muestra                                        \n",
       "1057013                                                         4   \n",
       "1096800                                                         6   \n",
       "1183246                                                         1   \n",
       "1184840                                                         1   \n",
       "1193683                                                         1   \n",
       "1197510                                                         1   \n",
       "1241232                                                         1   \n",
       "169356                                                          1   \n",
       "432809                                                          1   \n",
       "563649                                                          8   \n",
       "606140                                                          1   \n",
       "61634                                                           4   \n",
       "704168                                                          6   \n",
       "733639                                                          1   \n",
       "1238464                                                         1   \n",
       "1057067                                                         1   \n",
       "\n",
       "                              Uniformidad de la forma de la célula  \\\n",
       "Número  de código de muestra                                         \n",
       "1057013                                                          5   \n",
       "1096800                                                          6   \n",
       "1183246                                                          1   \n",
       "1184840                                                          3   \n",
       "1193683                                                          2   \n",
       "1197510                                                          1   \n",
       "1241232                                                          4   \n",
       "169356                                                           1   \n",
       "432809                                                           3   \n",
       "563649                                                           8   \n",
       "606140                                                           1   \n",
       "61634                                                            3   \n",
       "704168                                                           5   \n",
       "733639                                                           1   \n",
       "1238464                                                          1   \n",
       "1057067                                                          1   \n",
       "\n",
       "                              Adhesión marginal  \\\n",
       "Número  de código de muestra                      \n",
       "1057013                                       1   \n",
       "1096800                                       9   \n",
       "1183246                                       1   \n",
       "1184840                                       1   \n",
       "1193683                                       1   \n",
       "1197510                                       1   \n",
       "1241232                                       1   \n",
       "169356                                        1   \n",
       "432809                                        1   \n",
       "563649                                        1   \n",
       "606140                                        1   \n",
       "61634                                         1   \n",
       "704168                                        6   \n",
       "733639                                        1   \n",
       "1238464                                       1   \n",
       "1057067                                       1   \n",
       "\n",
       "                              Tamaño de célula epitelial única  \\\n",
       "Número  de código de muestra                                     \n",
       "1057013                                                      2   \n",
       "1096800                                                      6   \n",
       "1183246                                                      1   \n",
       "1184840                                                      2   \n",
       "1193683                                                      3   \n",
       "1197510                                                      2   \n",
       "1241232                                                      2   \n",
       "169356                                                       2   \n",
       "432809                                                       2   \n",
       "563649                                                       2   \n",
       "606140                                                       2   \n",
       "61634                                                        2   \n",
       "704168                                                       7   \n",
       "733639                                                       2   \n",
       "1238464                                                      1   \n",
       "1057067                                                      1   \n",
       "\n",
       "                              Núcleos desnudos  Cromatina blanda  \\\n",
       "Número  de código de muestra                                       \n",
       "1057013                                    NaN                 7   \n",
       "1096800                                    NaN                 7   \n",
       "1183246                                    NaN                 2   \n",
       "1184840                                    NaN                 2   \n",
       "1193683                                    NaN                 1   \n",
       "1197510                                    NaN                 3   \n",
       "1241232                                    NaN                 3   \n",
       "169356                                     NaN                 3   \n",
       "432809                                     NaN                 2   \n",
       "563649                                     NaN                 6   \n",
       "606140                                     NaN                 2   \n",
       "61634                                      NaN                 2   \n",
       "704168                                     NaN                 4   \n",
       "733639                                     NaN                 3   \n",
       "1238464                                    NaN                 2   \n",
       "1057067                                    NaN                 1   \n",
       "\n",
       "                              Nucleolos normales  Mitosis  Clase  \n",
       "Número  de código de muestra                                      \n",
       "1057013                                        3        1      1  \n",
       "1096800                                        8        1      0  \n",
       "1183246                                        1        1      0  \n",
       "1184840                                        1        1      0  \n",
       "1193683                                        1        1      0  \n",
       "1197510                                        1        1      0  \n",
       "1241232                                        1        1      0  \n",
       "169356                                         1        1      0  \n",
       "432809                                         1        1      0  \n",
       "563649                                        10        1      1  \n",
       "606140                                         1        1      0  \n",
       "61634                                          3        1      0  \n",
       "704168                                         9        1      0  \n",
       "733639                                         1        1      0  \n",
       "1238464                                        1        1      0  \n",
       "1057067                                        1        1      0  "
      ]
     },
     "execution_count": 17,
     "metadata": {},
     "output_type": "execute_result"
    }
   ],
   "source": [
    "data[data[\"Núcleos desnudos\"].isnull()]"
   ]
  },
  {
   "cell_type": "code",
   "execution_count": 18,
   "metadata": {},
   "outputs": [
    {
     "data": {
      "text/plain": [
       "87.5"
      ]
     },
     "execution_count": 18,
     "metadata": {},
     "output_type": "execute_result"
    }
   ],
   "source": [
    "a = data[data[\"Núcleos desnudos\"].isnull()]\n",
    "a[a[\"Clase\"] == 0].shape[0]/a.shape[0]*100"
   ]
  },
  {
   "cell_type": "markdown",
   "metadata": {},
   "source": [
    "Más de un 85% de estos valores son benignos, y como entre el total de casos el 65% eran benignos, no eliminaríamos muchos datos de los valores que menos teníamos, es decir, los malignos."
   ]
  },
  {
   "cell_type": "code",
   "execution_count": 19,
   "metadata": {},
   "outputs": [
    {
     "data": {
      "text/html": [
       "<div>\n",
       "<style scoped>\n",
       "    .dataframe tbody tr th:only-of-type {\n",
       "        vertical-align: middle;\n",
       "    }\n",
       "\n",
       "    .dataframe tbody tr th {\n",
       "        vertical-align: top;\n",
       "    }\n",
       "\n",
       "    .dataframe thead th {\n",
       "        text-align: right;\n",
       "    }\n",
       "</style>\n",
       "<table border=\"1\" class=\"dataframe\">\n",
       "  <thead>\n",
       "    <tr style=\"text-align: right;\">\n",
       "      <th></th>\n",
       "      <th>Espesor del grupo</th>\n",
       "      <th>Uniformidad del tamaño de la célula</th>\n",
       "      <th>Uniformidad de la forma de la célula</th>\n",
       "      <th>Adhesión marginal</th>\n",
       "      <th>Tamaño de célula epitelial única</th>\n",
       "      <th>Núcleos desnudos</th>\n",
       "      <th>Cromatina blanda</th>\n",
       "      <th>Nucleolos normales</th>\n",
       "      <th>Mitosis</th>\n",
       "      <th>Clase</th>\n",
       "    </tr>\n",
       "  </thead>\n",
       "  <tbody>\n",
       "    <tr>\n",
       "      <th>count</th>\n",
       "      <td>16.000000</td>\n",
       "      <td>16.000000</td>\n",
       "      <td>16.000000</td>\n",
       "      <td>16.000000</td>\n",
       "      <td>16.000000</td>\n",
       "      <td>0.0</td>\n",
       "      <td>16.000000</td>\n",
       "      <td>16.000000</td>\n",
       "      <td>16.0</td>\n",
       "      <td>16.000000</td>\n",
       "    </tr>\n",
       "    <tr>\n",
       "      <th>mean</th>\n",
       "      <td>3.375000</td>\n",
       "      <td>2.437500</td>\n",
       "      <td>2.875000</td>\n",
       "      <td>1.812500</td>\n",
       "      <td>2.437500</td>\n",
       "      <td>NaN</td>\n",
       "      <td>3.125000</td>\n",
       "      <td>2.750000</td>\n",
       "      <td>1.0</td>\n",
       "      <td>0.125000</td>\n",
       "    </tr>\n",
       "    <tr>\n",
       "      <th>std</th>\n",
       "      <td>2.446085</td>\n",
       "      <td>2.365551</td>\n",
       "      <td>2.187083</td>\n",
       "      <td>2.286737</td>\n",
       "      <td>1.672075</td>\n",
       "      <td>NaN</td>\n",
       "      <td>1.927866</td>\n",
       "      <td>3.193744</td>\n",
       "      <td>0.0</td>\n",
       "      <td>0.341565</td>\n",
       "    </tr>\n",
       "    <tr>\n",
       "      <th>min</th>\n",
       "      <td>1.000000</td>\n",
       "      <td>1.000000</td>\n",
       "      <td>1.000000</td>\n",
       "      <td>1.000000</td>\n",
       "      <td>1.000000</td>\n",
       "      <td>NaN</td>\n",
       "      <td>1.000000</td>\n",
       "      <td>1.000000</td>\n",
       "      <td>1.0</td>\n",
       "      <td>0.000000</td>\n",
       "    </tr>\n",
       "    <tr>\n",
       "      <th>25%</th>\n",
       "      <td>1.000000</td>\n",
       "      <td>1.000000</td>\n",
       "      <td>1.000000</td>\n",
       "      <td>1.000000</td>\n",
       "      <td>2.000000</td>\n",
       "      <td>NaN</td>\n",
       "      <td>2.000000</td>\n",
       "      <td>1.000000</td>\n",
       "      <td>1.0</td>\n",
       "      <td>0.000000</td>\n",
       "    </tr>\n",
       "    <tr>\n",
       "      <th>50%</th>\n",
       "      <td>3.000000</td>\n",
       "      <td>1.000000</td>\n",
       "      <td>2.500000</td>\n",
       "      <td>1.000000</td>\n",
       "      <td>2.000000</td>\n",
       "      <td>NaN</td>\n",
       "      <td>2.500000</td>\n",
       "      <td>1.000000</td>\n",
       "      <td>1.0</td>\n",
       "      <td>0.000000</td>\n",
       "    </tr>\n",
       "    <tr>\n",
       "      <th>75%</th>\n",
       "      <td>5.000000</td>\n",
       "      <td>4.000000</td>\n",
       "      <td>4.250000</td>\n",
       "      <td>1.000000</td>\n",
       "      <td>2.000000</td>\n",
       "      <td>NaN</td>\n",
       "      <td>3.250000</td>\n",
       "      <td>3.000000</td>\n",
       "      <td>1.0</td>\n",
       "      <td>0.000000</td>\n",
       "    </tr>\n",
       "    <tr>\n",
       "      <th>max</th>\n",
       "      <td>8.000000</td>\n",
       "      <td>8.000000</td>\n",
       "      <td>8.000000</td>\n",
       "      <td>9.000000</td>\n",
       "      <td>7.000000</td>\n",
       "      <td>NaN</td>\n",
       "      <td>7.000000</td>\n",
       "      <td>10.000000</td>\n",
       "      <td>1.0</td>\n",
       "      <td>1.000000</td>\n",
       "    </tr>\n",
       "  </tbody>\n",
       "</table>\n",
       "</div>"
      ],
      "text/plain": [
       "       Espesor del grupo  Uniformidad del tamaño de la célula  \\\n",
       "count          16.000000                            16.000000   \n",
       "mean            3.375000                             2.437500   \n",
       "std             2.446085                             2.365551   \n",
       "min             1.000000                             1.000000   \n",
       "25%             1.000000                             1.000000   \n",
       "50%             3.000000                             1.000000   \n",
       "75%             5.000000                             4.000000   \n",
       "max             8.000000                             8.000000   \n",
       "\n",
       "       Uniformidad de la forma de la célula  Adhesión marginal  \\\n",
       "count                             16.000000          16.000000   \n",
       "mean                               2.875000           1.812500   \n",
       "std                                2.187083           2.286737   \n",
       "min                                1.000000           1.000000   \n",
       "25%                                1.000000           1.000000   \n",
       "50%                                2.500000           1.000000   \n",
       "75%                                4.250000           1.000000   \n",
       "max                                8.000000           9.000000   \n",
       "\n",
       "       Tamaño de célula epitelial única  Núcleos desnudos  Cromatina blanda  \\\n",
       "count                         16.000000               0.0         16.000000   \n",
       "mean                           2.437500               NaN          3.125000   \n",
       "std                            1.672075               NaN          1.927866   \n",
       "min                            1.000000               NaN          1.000000   \n",
       "25%                            2.000000               NaN          2.000000   \n",
       "50%                            2.000000               NaN          2.500000   \n",
       "75%                            2.000000               NaN          3.250000   \n",
       "max                            7.000000               NaN          7.000000   \n",
       "\n",
       "       Nucleolos normales  Mitosis      Clase  \n",
       "count           16.000000     16.0  16.000000  \n",
       "mean             2.750000      1.0   0.125000  \n",
       "std              3.193744      0.0   0.341565  \n",
       "min              1.000000      1.0   0.000000  \n",
       "25%              1.000000      1.0   0.000000  \n",
       "50%              1.000000      1.0   0.000000  \n",
       "75%              3.000000      1.0   0.000000  \n",
       "max             10.000000      1.0   1.000000  "
      ]
     },
     "execution_count": 19,
     "metadata": {},
     "output_type": "execute_result"
    }
   ],
   "source": [
    "a.describe()"
   ]
  },
  {
   "cell_type": "markdown",
   "metadata": {},
   "source": [
    "Se va a proceder **eliminando las filas** con valores perdidos, pues representan un porcentaje muy bajo del total, no perdemos prácticamente instancias de la muestra de clase 1 (las menos comunes) y la media de estos valores no está muy lejos de la media del total de los datos."
   ]
  },
  {
   "cell_type": "markdown",
   "metadata": {},
   "source": [
    "Si no hubieramos borrado los datos, se habría procedido como sigue: (esto quizá lo borro)"
   ]
  },
  {
   "cell_type": "markdown",
   "metadata": {},
   "source": [
    "data[\"Núcleos desnudos\"].mean()"
   ]
  },
  {
   "cell_type": "markdown",
   "metadata": {},
   "source": [
    "from sklearn.impute import SimpleImputer\n",
    "\n",
    "#help(SimpleImputer)\n",
    "\n",
    "imp = SimpleImputer( fill_value= 'constant')\n",
    "\n",
    "imp.fit(data)\n",
    "\n",
    "datos = pd.DataFrame(imp.transform(data))\n",
    "\n",
    "datos.columns = columnas[1:11]\n",
    "\n",
    "datos\n"
   ]
  },
  {
   "cell_type": "code",
   "execution_count": 20,
   "metadata": {},
   "outputs": [],
   "source": [
    "datos = data.dropna()"
   ]
  },
  {
   "cell_type": "code",
   "execution_count": 21,
   "metadata": {},
   "outputs": [
    {
     "data": {
      "text/plain": [
       "Espesor del grupo                       0\n",
       "Uniformidad del tamaño de la célula     0\n",
       "Uniformidad de la forma de la célula    0\n",
       "Adhesión marginal                       0\n",
       "Tamaño de célula epitelial única        0\n",
       "Núcleos desnudos                        0\n",
       "Cromatina blanda                        0\n",
       "Nucleolos normales                      0\n",
       "Mitosis                                 0\n",
       "Clase                                   0\n",
       "dtype: int64"
      ]
     },
     "execution_count": 21,
     "metadata": {},
     "output_type": "execute_result"
    }
   ],
   "source": [
    "datos.isnull().sum() "
   ]
  },
  {
   "cell_type": "markdown",
   "metadata": {},
   "source": [
    "Guardamos la **variable objetivo** de nuestro estudio en la variable de Python **Y**, y vamos a guardar el resto de variables, las que serán las **entradas** de nuestra red en la variable **X**. Además, aunque en este caso no haría falta, por tomar valores entre 1 y 10, vamos a normalizar las variables de entrada a valores entre 0 y 1."
   ]
  },
  {
   "cell_type": "code",
   "execution_count": 22,
   "metadata": {},
   "outputs": [
    {
     "data": {
      "text/plain": [
       "Número  de código de muestra\n",
       "1000025    0\n",
       "1002945    0\n",
       "1015425    0\n",
       "1016277    0\n",
       "1017023    0\n",
       "1017122    1\n",
       "1018099    0\n",
       "1018561    0\n",
       "1033078    0\n",
       "1033078    0\n",
       "Name: Clase, dtype: int64"
      ]
     },
     "execution_count": 22,
     "metadata": {},
     "output_type": "execute_result"
    }
   ],
   "source": [
    "Y = datos[\"Clase\"]\n",
    "Y.head(10)"
   ]
  },
  {
   "cell_type": "code",
   "execution_count": 23,
   "metadata": {},
   "outputs": [
    {
     "data": {
      "text/plain": [
       "Número  de código de muestra\n",
       "776715    0\n",
       "841769    0\n",
       "888820    1\n",
       "897471    1\n",
       "897471    1\n",
       "Name: Clase, dtype: int64"
      ]
     },
     "execution_count": 23,
     "metadata": {},
     "output_type": "execute_result"
    }
   ],
   "source": [
    "Y.tail()"
   ]
  },
  {
   "cell_type": "code",
   "execution_count": 24,
   "metadata": {},
   "outputs": [
    {
     "data": {
      "text/plain": [
       "['Espesor del grupo',\n",
       " 'Uniformidad del tamaño de la célula',\n",
       " 'Uniformidad de la forma de la célula',\n",
       " 'Adhesión marginal',\n",
       " 'Tamaño de célula epitelial única',\n",
       " 'Núcleos desnudos',\n",
       " 'Cromatina blanda',\n",
       " 'Nucleolos normales',\n",
       " 'Mitosis']"
      ]
     },
     "execution_count": 24,
     "metadata": {},
     "output_type": "execute_result"
    }
   ],
   "source": [
    "del columnas[-1]\n",
    "del columnas[0]\n",
    "columnas"
   ]
  },
  {
   "cell_type": "code",
   "execution_count": 25,
   "metadata": {},
   "outputs": [
    {
     "data": {
      "text/html": [
       "<div>\n",
       "<style scoped>\n",
       "    .dataframe tbody tr th:only-of-type {\n",
       "        vertical-align: middle;\n",
       "    }\n",
       "\n",
       "    .dataframe tbody tr th {\n",
       "        vertical-align: top;\n",
       "    }\n",
       "\n",
       "    .dataframe thead th {\n",
       "        text-align: right;\n",
       "    }\n",
       "</style>\n",
       "<table border=\"1\" class=\"dataframe\">\n",
       "  <thead>\n",
       "    <tr style=\"text-align: right;\">\n",
       "      <th></th>\n",
       "      <th>Espesor del grupo</th>\n",
       "      <th>Uniformidad del tamaño de la célula</th>\n",
       "      <th>Uniformidad de la forma de la célula</th>\n",
       "      <th>Adhesión marginal</th>\n",
       "      <th>Tamaño de célula epitelial única</th>\n",
       "      <th>Núcleos desnudos</th>\n",
       "      <th>Cromatina blanda</th>\n",
       "      <th>Nucleolos normales</th>\n",
       "      <th>Mitosis</th>\n",
       "    </tr>\n",
       "    <tr>\n",
       "      <th>Número  de código de muestra</th>\n",
       "      <th></th>\n",
       "      <th></th>\n",
       "      <th></th>\n",
       "      <th></th>\n",
       "      <th></th>\n",
       "      <th></th>\n",
       "      <th></th>\n",
       "      <th></th>\n",
       "      <th></th>\n",
       "    </tr>\n",
       "  </thead>\n",
       "  <tbody>\n",
       "    <tr>\n",
       "      <th>1000025</th>\n",
       "      <td>5</td>\n",
       "      <td>1</td>\n",
       "      <td>1</td>\n",
       "      <td>1</td>\n",
       "      <td>2</td>\n",
       "      <td>1.0</td>\n",
       "      <td>3</td>\n",
       "      <td>1</td>\n",
       "      <td>1</td>\n",
       "    </tr>\n",
       "    <tr>\n",
       "      <th>1002945</th>\n",
       "      <td>5</td>\n",
       "      <td>4</td>\n",
       "      <td>4</td>\n",
       "      <td>5</td>\n",
       "      <td>7</td>\n",
       "      <td>10.0</td>\n",
       "      <td>3</td>\n",
       "      <td>2</td>\n",
       "      <td>1</td>\n",
       "    </tr>\n",
       "    <tr>\n",
       "      <th>1015425</th>\n",
       "      <td>3</td>\n",
       "      <td>1</td>\n",
       "      <td>1</td>\n",
       "      <td>1</td>\n",
       "      <td>2</td>\n",
       "      <td>2.0</td>\n",
       "      <td>3</td>\n",
       "      <td>1</td>\n",
       "      <td>1</td>\n",
       "    </tr>\n",
       "    <tr>\n",
       "      <th>1016277</th>\n",
       "      <td>6</td>\n",
       "      <td>8</td>\n",
       "      <td>8</td>\n",
       "      <td>1</td>\n",
       "      <td>3</td>\n",
       "      <td>4.0</td>\n",
       "      <td>3</td>\n",
       "      <td>7</td>\n",
       "      <td>1</td>\n",
       "    </tr>\n",
       "    <tr>\n",
       "      <th>1017023</th>\n",
       "      <td>4</td>\n",
       "      <td>1</td>\n",
       "      <td>1</td>\n",
       "      <td>3</td>\n",
       "      <td>2</td>\n",
       "      <td>1.0</td>\n",
       "      <td>3</td>\n",
       "      <td>1</td>\n",
       "      <td>1</td>\n",
       "    </tr>\n",
       "  </tbody>\n",
       "</table>\n",
       "</div>"
      ],
      "text/plain": [
       "                              Espesor del grupo  \\\n",
       "Número  de código de muestra                      \n",
       "1000025                                       5   \n",
       "1002945                                       5   \n",
       "1015425                                       3   \n",
       "1016277                                       6   \n",
       "1017023                                       4   \n",
       "\n",
       "                              Uniformidad del tamaño de la célula  \\\n",
       "Número  de código de muestra                                        \n",
       "1000025                                                         1   \n",
       "1002945                                                         4   \n",
       "1015425                                                         1   \n",
       "1016277                                                         8   \n",
       "1017023                                                         1   \n",
       "\n",
       "                              Uniformidad de la forma de la célula  \\\n",
       "Número  de código de muestra                                         \n",
       "1000025                                                          1   \n",
       "1002945                                                          4   \n",
       "1015425                                                          1   \n",
       "1016277                                                          8   \n",
       "1017023                                                          1   \n",
       "\n",
       "                              Adhesión marginal  \\\n",
       "Número  de código de muestra                      \n",
       "1000025                                       1   \n",
       "1002945                                       5   \n",
       "1015425                                       1   \n",
       "1016277                                       1   \n",
       "1017023                                       3   \n",
       "\n",
       "                              Tamaño de célula epitelial única  \\\n",
       "Número  de código de muestra                                     \n",
       "1000025                                                      2   \n",
       "1002945                                                      7   \n",
       "1015425                                                      2   \n",
       "1016277                                                      3   \n",
       "1017023                                                      2   \n",
       "\n",
       "                              Núcleos desnudos  Cromatina blanda  \\\n",
       "Número  de código de muestra                                       \n",
       "1000025                                    1.0                 3   \n",
       "1002945                                   10.0                 3   \n",
       "1015425                                    2.0                 3   \n",
       "1016277                                    4.0                 3   \n",
       "1017023                                    1.0                 3   \n",
       "\n",
       "                              Nucleolos normales  Mitosis  \n",
       "Número  de código de muestra                               \n",
       "1000025                                        1        1  \n",
       "1002945                                        2        1  \n",
       "1015425                                        1        1  \n",
       "1016277                                        7        1  \n",
       "1017023                                        1        1  "
      ]
     },
     "execution_count": 25,
     "metadata": {},
     "output_type": "execute_result"
    }
   ],
   "source": [
    "X = datos[columnas]\n",
    "X.head()"
   ]
  },
  {
   "cell_type": "code",
   "execution_count": 26,
   "metadata": {},
   "outputs": [],
   "source": [
    "from sklearn import preprocessing\n",
    "\n",
    "x = X.values \n",
    "min_max_scaler = preprocessing.MinMaxScaler()\n",
    "x_scaled = min_max_scaler.fit_transform(x)\n",
    "X = pd.DataFrame(x_scaled, index = X.index, columns = X.columns)\n"
   ]
  },
  {
   "cell_type": "code",
   "execution_count": 27,
   "metadata": {},
   "outputs": [
    {
     "data": {
      "text/html": [
       "<div>\n",
       "<style scoped>\n",
       "    .dataframe tbody tr th:only-of-type {\n",
       "        vertical-align: middle;\n",
       "    }\n",
       "\n",
       "    .dataframe tbody tr th {\n",
       "        vertical-align: top;\n",
       "    }\n",
       "\n",
       "    .dataframe thead th {\n",
       "        text-align: right;\n",
       "    }\n",
       "</style>\n",
       "<table border=\"1\" class=\"dataframe\">\n",
       "  <thead>\n",
       "    <tr style=\"text-align: right;\">\n",
       "      <th></th>\n",
       "      <th>Espesor del grupo</th>\n",
       "      <th>Uniformidad del tamaño de la célula</th>\n",
       "      <th>Uniformidad de la forma de la célula</th>\n",
       "      <th>Adhesión marginal</th>\n",
       "      <th>Tamaño de célula epitelial única</th>\n",
       "      <th>Núcleos desnudos</th>\n",
       "      <th>Cromatina blanda</th>\n",
       "      <th>Nucleolos normales</th>\n",
       "      <th>Mitosis</th>\n",
       "    </tr>\n",
       "    <tr>\n",
       "      <th>Número  de código de muestra</th>\n",
       "      <th></th>\n",
       "      <th></th>\n",
       "      <th></th>\n",
       "      <th></th>\n",
       "      <th></th>\n",
       "      <th></th>\n",
       "      <th></th>\n",
       "      <th></th>\n",
       "      <th></th>\n",
       "    </tr>\n",
       "  </thead>\n",
       "  <tbody>\n",
       "    <tr>\n",
       "      <th>1000025</th>\n",
       "      <td>0.444444</td>\n",
       "      <td>0.000000</td>\n",
       "      <td>0.000000</td>\n",
       "      <td>0.000000</td>\n",
       "      <td>0.111111</td>\n",
       "      <td>0.000000</td>\n",
       "      <td>0.222222</td>\n",
       "      <td>0.000000</td>\n",
       "      <td>0.000000</td>\n",
       "    </tr>\n",
       "    <tr>\n",
       "      <th>1002945</th>\n",
       "      <td>0.444444</td>\n",
       "      <td>0.333333</td>\n",
       "      <td>0.333333</td>\n",
       "      <td>0.444444</td>\n",
       "      <td>0.666667</td>\n",
       "      <td>1.000000</td>\n",
       "      <td>0.222222</td>\n",
       "      <td>0.111111</td>\n",
       "      <td>0.000000</td>\n",
       "    </tr>\n",
       "    <tr>\n",
       "      <th>1015425</th>\n",
       "      <td>0.222222</td>\n",
       "      <td>0.000000</td>\n",
       "      <td>0.000000</td>\n",
       "      <td>0.000000</td>\n",
       "      <td>0.111111</td>\n",
       "      <td>0.111111</td>\n",
       "      <td>0.222222</td>\n",
       "      <td>0.000000</td>\n",
       "      <td>0.000000</td>\n",
       "    </tr>\n",
       "    <tr>\n",
       "      <th>1016277</th>\n",
       "      <td>0.555556</td>\n",
       "      <td>0.777778</td>\n",
       "      <td>0.777778</td>\n",
       "      <td>0.000000</td>\n",
       "      <td>0.222222</td>\n",
       "      <td>0.333333</td>\n",
       "      <td>0.222222</td>\n",
       "      <td>0.666667</td>\n",
       "      <td>0.000000</td>\n",
       "    </tr>\n",
       "    <tr>\n",
       "      <th>1017023</th>\n",
       "      <td>0.333333</td>\n",
       "      <td>0.000000</td>\n",
       "      <td>0.000000</td>\n",
       "      <td>0.222222</td>\n",
       "      <td>0.111111</td>\n",
       "      <td>0.000000</td>\n",
       "      <td>0.222222</td>\n",
       "      <td>0.000000</td>\n",
       "      <td>0.000000</td>\n",
       "    </tr>\n",
       "    <tr>\n",
       "      <th>...</th>\n",
       "      <td>...</td>\n",
       "      <td>...</td>\n",
       "      <td>...</td>\n",
       "      <td>...</td>\n",
       "      <td>...</td>\n",
       "      <td>...</td>\n",
       "      <td>...</td>\n",
       "      <td>...</td>\n",
       "      <td>...</td>\n",
       "    </tr>\n",
       "    <tr>\n",
       "      <th>776715</th>\n",
       "      <td>0.222222</td>\n",
       "      <td>0.000000</td>\n",
       "      <td>0.000000</td>\n",
       "      <td>0.000000</td>\n",
       "      <td>0.222222</td>\n",
       "      <td>0.111111</td>\n",
       "      <td>0.000000</td>\n",
       "      <td>0.000000</td>\n",
       "      <td>0.000000</td>\n",
       "    </tr>\n",
       "    <tr>\n",
       "      <th>841769</th>\n",
       "      <td>0.111111</td>\n",
       "      <td>0.000000</td>\n",
       "      <td>0.000000</td>\n",
       "      <td>0.000000</td>\n",
       "      <td>0.111111</td>\n",
       "      <td>0.000000</td>\n",
       "      <td>0.000000</td>\n",
       "      <td>0.000000</td>\n",
       "      <td>0.000000</td>\n",
       "    </tr>\n",
       "    <tr>\n",
       "      <th>888820</th>\n",
       "      <td>0.444444</td>\n",
       "      <td>1.000000</td>\n",
       "      <td>1.000000</td>\n",
       "      <td>0.222222</td>\n",
       "      <td>0.666667</td>\n",
       "      <td>0.222222</td>\n",
       "      <td>0.777778</td>\n",
       "      <td>1.000000</td>\n",
       "      <td>0.111111</td>\n",
       "    </tr>\n",
       "    <tr>\n",
       "      <th>897471</th>\n",
       "      <td>0.333333</td>\n",
       "      <td>0.777778</td>\n",
       "      <td>0.555556</td>\n",
       "      <td>0.333333</td>\n",
       "      <td>0.222222</td>\n",
       "      <td>0.333333</td>\n",
       "      <td>1.000000</td>\n",
       "      <td>0.555556</td>\n",
       "      <td>0.000000</td>\n",
       "    </tr>\n",
       "    <tr>\n",
       "      <th>897471</th>\n",
       "      <td>0.333333</td>\n",
       "      <td>0.777778</td>\n",
       "      <td>0.777778</td>\n",
       "      <td>0.444444</td>\n",
       "      <td>0.333333</td>\n",
       "      <td>0.444444</td>\n",
       "      <td>1.000000</td>\n",
       "      <td>0.333333</td>\n",
       "      <td>0.000000</td>\n",
       "    </tr>\n",
       "  </tbody>\n",
       "</table>\n",
       "<p>683 rows × 9 columns</p>\n",
       "</div>"
      ],
      "text/plain": [
       "                              Espesor del grupo  \\\n",
       "Número  de código de muestra                      \n",
       "1000025                                0.444444   \n",
       "1002945                                0.444444   \n",
       "1015425                                0.222222   \n",
       "1016277                                0.555556   \n",
       "1017023                                0.333333   \n",
       "...                                         ...   \n",
       "776715                                 0.222222   \n",
       "841769                                 0.111111   \n",
       "888820                                 0.444444   \n",
       "897471                                 0.333333   \n",
       "897471                                 0.333333   \n",
       "\n",
       "                              Uniformidad del tamaño de la célula  \\\n",
       "Número  de código de muestra                                        \n",
       "1000025                                                  0.000000   \n",
       "1002945                                                  0.333333   \n",
       "1015425                                                  0.000000   \n",
       "1016277                                                  0.777778   \n",
       "1017023                                                  0.000000   \n",
       "...                                                           ...   \n",
       "776715                                                   0.000000   \n",
       "841769                                                   0.000000   \n",
       "888820                                                   1.000000   \n",
       "897471                                                   0.777778   \n",
       "897471                                                   0.777778   \n",
       "\n",
       "                              Uniformidad de la forma de la célula  \\\n",
       "Número  de código de muestra                                         \n",
       "1000025                                                   0.000000   \n",
       "1002945                                                   0.333333   \n",
       "1015425                                                   0.000000   \n",
       "1016277                                                   0.777778   \n",
       "1017023                                                   0.000000   \n",
       "...                                                            ...   \n",
       "776715                                                    0.000000   \n",
       "841769                                                    0.000000   \n",
       "888820                                                    1.000000   \n",
       "897471                                                    0.555556   \n",
       "897471                                                    0.777778   \n",
       "\n",
       "                              Adhesión marginal  \\\n",
       "Número  de código de muestra                      \n",
       "1000025                                0.000000   \n",
       "1002945                                0.444444   \n",
       "1015425                                0.000000   \n",
       "1016277                                0.000000   \n",
       "1017023                                0.222222   \n",
       "...                                         ...   \n",
       "776715                                 0.000000   \n",
       "841769                                 0.000000   \n",
       "888820                                 0.222222   \n",
       "897471                                 0.333333   \n",
       "897471                                 0.444444   \n",
       "\n",
       "                              Tamaño de célula epitelial única  \\\n",
       "Número  de código de muestra                                     \n",
       "1000025                                               0.111111   \n",
       "1002945                                               0.666667   \n",
       "1015425                                               0.111111   \n",
       "1016277                                               0.222222   \n",
       "1017023                                               0.111111   \n",
       "...                                                        ...   \n",
       "776715                                                0.222222   \n",
       "841769                                                0.111111   \n",
       "888820                                                0.666667   \n",
       "897471                                                0.222222   \n",
       "897471                                                0.333333   \n",
       "\n",
       "                              Núcleos desnudos  Cromatina blanda  \\\n",
       "Número  de código de muestra                                       \n",
       "1000025                               0.000000          0.222222   \n",
       "1002945                               1.000000          0.222222   \n",
       "1015425                               0.111111          0.222222   \n",
       "1016277                               0.333333          0.222222   \n",
       "1017023                               0.000000          0.222222   \n",
       "...                                        ...               ...   \n",
       "776715                                0.111111          0.000000   \n",
       "841769                                0.000000          0.000000   \n",
       "888820                                0.222222          0.777778   \n",
       "897471                                0.333333          1.000000   \n",
       "897471                                0.444444          1.000000   \n",
       "\n",
       "                              Nucleolos normales   Mitosis  \n",
       "Número  de código de muestra                                \n",
       "1000025                                 0.000000  0.000000  \n",
       "1002945                                 0.111111  0.000000  \n",
       "1015425                                 0.000000  0.000000  \n",
       "1016277                                 0.666667  0.000000  \n",
       "1017023                                 0.000000  0.000000  \n",
       "...                                          ...       ...  \n",
       "776715                                  0.000000  0.000000  \n",
       "841769                                  0.000000  0.000000  \n",
       "888820                                  1.000000  0.111111  \n",
       "897471                                  0.555556  0.000000  \n",
       "897471                                  0.333333  0.000000  \n",
       "\n",
       "[683 rows x 9 columns]"
      ]
     },
     "execution_count": 27,
     "metadata": {},
     "output_type": "execute_result"
    }
   ],
   "source": [
    "X"
   ]
  },
  {
   "cell_type": "code",
   "execution_count": null,
   "metadata": {},
   "outputs": [],
   "source": []
  },
  {
   "cell_type": "markdown",
   "metadata": {},
   "source": [
    "<a name='3'></a>\n",
    "## 3. Análisis descriptivo"
   ]
  },
  {
   "cell_type": "markdown",
   "metadata": {},
   "source": [
    "En este punto, veamos la **relación** entre la **columna objetivo** y el **resto** de columnas, es decir, cuanto influyen en ella. Veamos la **media** de estas, su **frecuencia**, y a **graficar** parte de los resultados. Comencemos:"
   ]
  },
  {
   "cell_type": "code",
   "execution_count": 28,
   "metadata": {},
   "outputs": [
    {
     "data": {
      "text/plain": [
       "Espesor del grupo                       4.442167\n",
       "Uniformidad del tamaño de la célula     3.150805\n",
       "Uniformidad de la forma de la célula    3.215227\n",
       "Adhesión marginal                       2.830161\n",
       "Tamaño de célula epitelial única        3.234261\n",
       "Núcleos desnudos                        3.544656\n",
       "Cromatina blanda                        3.445095\n",
       "Nucleolos normales                      2.869693\n",
       "Mitosis                                 1.603221\n",
       "Clase                                   0.349927\n",
       "dtype: float64"
      ]
     },
     "execution_count": 28,
     "metadata": {},
     "output_type": "execute_result"
    }
   ],
   "source": [
    "datos.mean()"
   ]
  },
  {
   "cell_type": "markdown",
   "metadata": {},
   "source": [
    "Todas las medias son por debajo de 4.5, y en el caso de nuestra variable objetivo \"Clase\", la media es más cercana a 0 (evidentemente, pues el 65% de los casos eran benignos = 0). Esto puede hacernos pensar que los valores bajos de estas variables se relacionan directamente/linealmente con los casos benignos, y viceversa. "
   ]
  },
  {
   "cell_type": "code",
   "execution_count": 29,
   "metadata": {},
   "outputs": [
    {
     "name": "stdout",
     "output_type": "stream",
     "text": [
      "1     145\n",
      "2      50\n",
      "3     108\n",
      "4      80\n",
      "5     130\n",
      "6      34\n",
      "7      23\n",
      "8      46\n",
      "9      14\n",
      "10     69\n",
      "Name: Espesor del grupo, dtype: int64\n",
      "1     384\n",
      "2      45\n",
      "3      52\n",
      "4      40\n",
      "5      30\n",
      "6      27\n",
      "7      19\n",
      "8      29\n",
      "9       6\n",
      "10     67\n",
      "Name: Uniformidad del tamaño de la célula, dtype: int64\n",
      "1     353\n",
      "2      59\n",
      "3      56\n",
      "4      44\n",
      "5      34\n",
      "6      30\n",
      "7      30\n",
      "8      28\n",
      "9       7\n",
      "10     58\n",
      "Name: Uniformidad de la forma de la célula, dtype: int64\n",
      "1     407\n",
      "2      58\n",
      "3      58\n",
      "4      33\n",
      "5      23\n",
      "6      22\n",
      "7      13\n",
      "8      25\n",
      "9       5\n",
      "10     55\n",
      "Name: Adhesión marginal, dtype: int64\n",
      "1      47\n",
      "2     386\n",
      "3      72\n",
      "4      48\n",
      "5      39\n",
      "6      41\n",
      "7      12\n",
      "8      21\n",
      "9       2\n",
      "10     31\n",
      "Name: Tamaño de célula epitelial única, dtype: int64\n",
      "1.0     402\n",
      "2.0      30\n",
      "3.0      28\n",
      "4.0      19\n",
      "5.0      30\n",
      "6.0       4\n",
      "7.0       8\n",
      "8.0      21\n",
      "9.0       9\n",
      "10.0    132\n",
      "Name: Núcleos desnudos, dtype: int64\n",
      "1     152\n",
      "2     166\n",
      "3     165\n",
      "4      40\n",
      "5      34\n",
      "6      10\n",
      "7      73\n",
      "8      28\n",
      "9      11\n",
      "10     20\n",
      "Name: Cromatina blanda, dtype: int64\n",
      "1     443\n",
      "2      36\n",
      "3      44\n",
      "4      18\n",
      "5      19\n",
      "6      22\n",
      "7      16\n",
      "8      24\n",
      "9      16\n",
      "10     61\n",
      "Name: Nucleolos normales, dtype: int64\n",
      "1     579\n",
      "2      35\n",
      "3      33\n",
      "4      12\n",
      "5       6\n",
      "6       3\n",
      "7       9\n",
      "8       8\n",
      "10     14\n",
      "Name: Mitosis, dtype: int64\n",
      "0    458\n",
      "1    241\n",
      "Name: Clase, dtype: int64\n"
     ]
    }
   ],
   "source": [
    "for column in data.columns:\n",
    "    print(data[column].value_counts().sort_index())"
   ]
  },
  {
   "cell_type": "code",
   "execution_count": 30,
   "metadata": {},
   "outputs": [
    {
     "name": "stderr",
     "output_type": "stream",
     "text": [
      "C:\\Users\\adria\\anaconda3\\lib\\site-packages\\seaborn\\distributions.py:2557: FutureWarning: `distplot` is a deprecated function and will be removed in a future version. Please adapt your code to use either `displot` (a figure-level function with similar flexibility) or `histplot` (an axes-level function for histograms).\n",
      "  warnings.warn(msg, FutureWarning)\n"
     ]
    },
    {
     "data": {
      "image/png": "[encoded data removed]",
      "text/plain": [
       "<Figure size 432x288 with 1 Axes>"
      ]
     },
     "metadata": {
      "needs_background": "light"
     },
     "output_type": "display_data"
    },
    {
     "data": {
      "image/png": "[encoded data removed]",
      "text/plain": [
       "<Figure size 432x288 with 1 Axes>"
      ]
     },
     "metadata": {
      "needs_background": "light"
     },
     "output_type": "display_data"
    },
    {
     "data": {
      "image/png": "[encoded data removed]",
      "text/plain": [
       "<Figure size 432x288 with 1 Axes>"
      ]
     },
     "metadata": {
      "needs_background": "light"
     },
     "output_type": "display_data"
    },
    {
     "data": {
      "image/png": "[encoded data removed]",
      "text/plain": [
       "<Figure size 432x288 with 1 Axes>"
      ]
     },
     "metadata": {
      "needs_background": "light"
     },
     "output_type": "display_data"
    },
    {
     "data": {
      "image/png": "[encoded data removed]",
      "text/plain": [
       "<Figure size 432x288 with 1 Axes>"
      ]
     },
     "metadata": {
      "needs_background": "light"
     },
     "output_type": "display_data"
    },
    {
     "data": {
      "image/png": "[encoded data removed]",
      "text/plain": [
       "<Figure size 432x288 with 1 Axes>"
      ]
     },
     "metadata": {
      "needs_background": "light"
     },
     "output_type": "display_data"
    },
    {
     "data": {
      "image/png": "[encoded data removed]",
      "text/plain": [
       "<Figure size 432x288 with 1 Axes>"
      ]
     },
     "metadata": {
      "needs_background": "light"
     },
     "output_type": "display_data"
    },
    {
     "data": {
      "image/png": "[encoded data removed]",
      "text/plain": [
       "<Figure size 432x288 with 1 Axes>"
      ]
     },
     "metadata": {
      "needs_background": "light"
     },
     "output_type": "display_data"
    },
    {
     "data": {
      "image/png": "[encoded data removed]",
      "text/plain": [
       "<Figure size 432x288 with 1 Axes>"
      ]
     },
     "metadata": {
      "needs_background": "light"
     },
     "output_type": "display_data"
    }
   ],
   "source": [
    "for i in columnas:\n",
    "    sns.distplot(a = datos[i], bins=[1,2,3,4,5,6,7,8,9,10], kde= False)\n",
    "    plt.show()\n"
   ]
  },
  {
   "cell_type": "markdown",
   "metadata": {},
   "source": [
    "La mayoría de nuestras gráficas tienen una **mayor distribución** de los datos **entre 1 y 5**. Esto posiblemente se deba a que la mayoría (65%) son benignos, y se corresponden a valores menores de las características. Vamos a graficar ahora cada variable y su clase:"
   ]
  },
  {
   "cell_type": "code",
   "execution_count": 31,
   "metadata": {},
   "outputs": [
    {
     "name": "stderr",
     "output_type": "stream",
     "text": [
      "C:\\Users\\adria\\anaconda3\\lib\\site-packages\\ipykernel_launcher.py:1: SettingWithCopyWarning: \n",
      "A value is trying to be set on a copy of a slice from a DataFrame.\n",
      "Try using .loc[row_indexer,col_indexer] = value instead\n",
      "\n",
      "See the caveats in the documentation: https://pandas.pydata.org/pandas-docs/stable/user_guide/indexing.html#returning-a-view-versus-a-copy\n",
      "  \"\"\"Entry point for launching an IPython kernel.\n"
     ]
    }
   ],
   "source": [
    "datos[\"Clase\"] = datos[\"Clase\"].replace({0:\"benigno\", 1:\"maligno\"})"
   ]
  },
  {
   "cell_type": "code",
   "execution_count": 32,
   "metadata": {},
   "outputs": [
    {
     "data": {
      "image/png": "[encoded data removed]",
      "text/plain": [
       "<Figure size 432x288 with 1 Axes>"
      ]
     },
     "metadata": {
      "needs_background": "light"
     },
     "output_type": "display_data"
    },
    {
     "data": {
      "image/png": "[encoded data removed]",
      "text/plain": [
       "<Figure size 432x288 with 1 Axes>"
      ]
     },
     "metadata": {
      "needs_background": "light"
     },
     "output_type": "display_data"
    },
    {
     "data": {
      "image/png": "[encoded data removed]",
      "text/plain": [
       "<Figure size 432x288 with 1 Axes>"
      ]
     },
     "metadata": {
      "needs_background": "light"
     },
     "output_type": "display_data"
    },
    {
     "data": {
      "image/png": "[encoded data removed]",
      "text/plain": [
       "<Figure size 432x288 with 1 Axes>"
      ]
     },
     "metadata": {
      "needs_background": "light"
     },
     "output_type": "display_data"
    },
    {
     "data": {
      "image/png": "[encoded data removed]",
      "text/plain": [
       "<Figure size 432x288 with 1 Axes>"
      ]
     },
     "metadata": {
      "needs_background": "light"
     },
     "output_type": "display_data"
    },
    {
     "data": {
      "image/png": "[encoded data removed]",
      "text/plain": [
       "<Figure size 432x288 with 1 Axes>"
      ]
     },
     "metadata": {
      "needs_background": "light"
     },
     "output_type": "display_data"
    },
    {
     "data": {
      "image/png": "[encoded data removed]",
      "text/plain": [
       "<Figure size 432x288 with 1 Axes>"
      ]
     },
     "metadata": {
      "needs_background": "light"
     },
     "output_type": "display_data"
    },
    {
     "data": {
      "image/png": "[encoded data removed]",
      "text/plain": [
       "<Figure size 432x288 with 1 Axes>"
      ]
     },
     "metadata": {
      "needs_background": "light"
     },
     "output_type": "display_data"
    },
    {
     "data": {
      "image/png": "[encoded data removed]",
      "text/plain": [
       "<Figure size 432x288 with 1 Axes>"
      ]
     },
     "metadata": {
      "needs_background": "light"
     },
     "output_type": "display_data"
    }
   ],
   "source": [
    "datosb = datos [datos.Clase == \"benigno\"]\n",
    "datosm = datos [datos.Clase == \"maligno\"]\n",
    "\n",
    "for i in columnas:\n",
    "    sns.distplot(a = datosb[i], bins=[1,2,3,4,5,6,7,8,9,10], kde= False, color= \"Green\", label = datosb.Clase)\n",
    "    sns.distplot(a = datosm[i], bins=[1,2,3,4,5,6,7,8,9,10], kde= False, color= \"Red\", label = datosm.Clase) \n",
    "    plt.legend()\n",
    "    plt.show()"
   ]
  },
  {
   "cell_type": "markdown",
   "metadata": {},
   "source": [
    "Efectivamente, los tumores **benignos** son los de valores **menores** claramente, mientras que los **malignos** hay **más variabilidad**, habiendo **ligeramente más en los valores mayores**, excepto en algunos casos. Destaca de sobremanera la columna \"Mitoses\", y en el resto, excepto \"Espesor del grupo\" y \"Núcleos desnudos\", mantienen unos valores similares, como si el valor no influyese en ser maligno. Estudiemos estos casos:"
   ]
  },
  {
   "cell_type": "markdown",
   "metadata": {},
   "source": [
    "#### Columna \"Mitosis\""
   ]
  },
  {
   "cell_type": "markdown",
   "metadata": {},
   "source": [
    "Comencemos con la columna \"Mitosis\". Esta nos ha llamado la atención pues la mayoría de casos malignos están en 1. Posiblemente se deba, a que la **mayoría de los casos están en 1**, indepedientemente de que sean benignos o malignos. En concreto, 579 de 683. Esto es:"
   ]
  },
  {
   "cell_type": "code",
   "execution_count": 33,
   "metadata": {
    "scrolled": true
   },
   "outputs": [
    {
     "data": {
      "text/plain": [
       "82.43045387994144"
      ]
     },
     "execution_count": 33,
     "metadata": {},
     "output_type": "execute_result"
    }
   ],
   "source": [
    "datos.Mitosis[datos.Mitosis == 1].count() / datos.Mitosis.count() * 100"
   ]
  },
  {
   "cell_type": "markdown",
   "metadata": {},
   "source": [
    "Un **82 %** de los datos de Mitoses están en 1. Ahora veamos  cuántos de estos, en proporción, son benignos y malignos:"
   ]
  },
  {
   "cell_type": "code",
   "execution_count": 34,
   "metadata": {},
   "outputs": [
    {
     "data": {
      "text/plain": [
       "1    431\n",
       "2      8\n",
       "3      2\n",
       "5      1\n",
       "7      1\n",
       "8      1\n",
       "Name: Mitosis, dtype: int64"
      ]
     },
     "execution_count": 34,
     "metadata": {},
     "output_type": "execute_result"
    }
   ],
   "source": [
    "datosb.Mitosis.value_counts().sort_index()"
   ]
  },
  {
   "cell_type": "code",
   "execution_count": 35,
   "metadata": {
    "scrolled": true
   },
   "outputs": [
    {
     "data": {
      "text/plain": [
       "1     132\n",
       "2      27\n",
       "3      31\n",
       "4      12\n",
       "5       5\n",
       "6       3\n",
       "7       8\n",
       "8       7\n",
       "10     14\n",
       "Name: Mitosis, dtype: int64"
      ]
     },
     "execution_count": 35,
     "metadata": {},
     "output_type": "execute_result"
    }
   ],
   "source": [
    "datosm.Mitosis.value_counts().sort_index()"
   ]
  },
  {
   "cell_type": "code",
   "execution_count": 36,
   "metadata": {
    "scrolled": true
   },
   "outputs": [
    {
     "name": "stdout",
     "output_type": "stream",
     "text": [
      "Porcentaje de casos de Mitosis = 1 malignos sobre el total: \t\t\t 23.44582593250444\n",
      "Porcentaje de casos de Mitosis = 1 malignos sobre el total de casos malignos:    55.23012552301255\n"
     ]
    }
   ],
   "source": [
    "print(\"Porcentaje de casos de Mitosis = 1 malignos sobre el total: \\t\\t\\t\", \n",
    "      datosm.Mitosis[datosm.Mitosis==1].count() / datos.Mitosis[datos.Mitosis==1].count() * 100 )\n",
    "print(\"Porcentaje de casos de Mitosis = 1 malignos sobre el total de casos malignos:   \",\n",
    "      datosm.Mitosis[datosm.Mitosis==1].count()/datosm.Mitosis.count()*100)"
   ]
  },
  {
   "cell_type": "markdown",
   "metadata": {},
   "source": [
    "El **23.44%** de los valores de **\"Mitosis\"**  son  **de valor 1 y malignos**. Por tanto, podríamos decir que se mantiene **\"lo esperado\"** (en el sentido de que esta columna no sea la más relevante directamente). \n",
    "Además, más de la mitad de los datos malignos son de este grupo (Mitosis = 1). \n",
    "\n",
    "Puede que está característica no nos resulte muy útil a la hora de predecir los resultados."
   ]
  },
  {
   "cell_type": "markdown",
   "metadata": {},
   "source": [
    "#### Columna \"Espesor del grupo\""
   ]
  },
  {
   "cell_type": "markdown",
   "metadata": {},
   "source": [
    "De esta columna, al igual que la de \"Núcleos desnudos\", la hemos destacado porque no sigue el mismo \"patrón\" que el resto de las columnas. En este caso, tenemos una variedad mayor en cuanto a los datos, pero podemos afirmar que la gran mayoría de valores **benignos** están **entre 1 y 5** y los **malignos entre 5 y 10**."
   ]
  },
  {
   "cell_type": "markdown",
   "metadata": {},
   "source": [
    "#### Columna \"Núcleos desnudos\""
   ]
  },
  {
   "cell_type": "markdown",
   "metadata": {},
   "source": [
    "Para esta columna, claramente, los valores **malignos** están en **10**, y los **benignos** en **1**, habiendo unos pocos de malignos y benignos entre medias."
   ]
  },
  {
   "cell_type": "markdown",
   "metadata": {},
   "source": [
    "#### Resto de columnas "
   ]
  },
  {
   "cell_type": "markdown",
   "metadata": {},
   "source": [
    "En el resto de columnas, podemos decir, que más o menos siguen un mismo patrón. Aquí, los valores **benignos** toman su mayoría los valores más pequeños, **entre 1 y 3**. En cambio, para los **malignos no está nada claro**. En general, si parece hay más en los valores más altos, pero no con una diferencia tan clara como en los casos anteriores."
   ]
  },
  {
   "cell_type": "code",
   "execution_count": null,
   "metadata": {},
   "outputs": [],
   "source": []
  },
  {
   "cell_type": "markdown",
   "metadata": {},
   "source": [
    "<a name='4'></a>\n",
    "## 4. Red Neuronal Retroalimentada"
   ]
  },
  {
   "cell_type": "code",
   "execution_count": 37,
   "metadata": {},
   "outputs": [],
   "source": [
    "X_np = np.array(X)\n",
    "Y_np = np.array(Y).reshape(Y.shape[0],-1)"
   ]
  },
  {
   "cell_type": "code",
   "execution_count": 38,
   "metadata": {},
   "outputs": [
    {
     "name": "stdout",
     "output_type": "stream",
     "text": [
      "Dimensiones de X : (683, 9)\n",
      "Dimensiones de Y : (683, 1)\n"
     ]
    }
   ],
   "source": [
    "print(\"Dimensiones de X : \" + str(X_np.shape))\n",
    "print(\"Dimensiones de Y : \" + str(Y_np.shape))"
   ]
  },
  {
   "cell_type": "markdown",
   "metadata": {},
   "source": [
    "<a name='4-1'></a>\n",
    "### 4.1 División de datos en conjunto de entrenamiento y validación."
   ]
  },
  {
   "cell_type": "markdown",
   "metadata": {},
   "source": [
    "Realizaremos la división de nuestro conjunto de datos en entrenamiento y validación en proporción 70 / 30."
   ]
  },
  {
   "cell_type": "code",
   "execution_count": 39,
   "metadata": {},
   "outputs": [
    {
     "name": "stdout",
     "output_type": "stream",
     "text": [
      "Dimensiones del conjunto de entrenamiento X : (9, 478)\n",
      "Dimensiones del conjunto de entrenamiento Y : (1, 478)\n"
     ]
    }
   ],
   "source": [
    "from sklearn.model_selection import train_test_split\n",
    "train_X,val_X,train_Y,val_Y = train_test_split ( X_np, Y_np , random_state=0, test_size = 0.3)\n",
    "train_X,val_X,train_Y,val_Y = train_X.T,val_X.T,train_Y.T,val_Y.T\n",
    "print(\"Dimensiones del conjunto de entrenamiento X : \" + str(train_X.shape))\n",
    "print(\"Dimensiones del conjunto de entrenamiento Y : \" + str(train_Y.shape))"
   ]
  },
  {
   "cell_type": "markdown",
   "metadata": {},
   "source": [
    "<a name='4-2'></a>\n",
    "### 4.2 Funciones de activación."
   ]
  },
  {
   "cell_type": "markdown",
   "metadata": {},
   "source": [
    "Primero se definen las funciones de activación y sus derivadas, para su posterior uso tanto en la propagación hacia delante (las funciones) como hacia atrás (las derivadas)."
   ]
  },
  {
   "cell_type": "code",
   "execution_count": 40,
   "metadata": {},
   "outputs": [],
   "source": [
    "def sigmoid(x):\n",
    "    \"\"\"\n",
    "    Implementa la función sigmoide para número reales.\n",
    "    \n",
    "    Argumentos de entrada:\n",
    "    x --  Variable independiente, un escalar\n",
    "    \n",
    "    Salidas:\n",
    "    a -- Valor de la función sigmoide en x, a = sigmoid(x), un escalar\n",
    "    x -- Variable independiente, un escalar\n",
    "    \"\"\"\n",
    "    a = 1/ (1 + np.exp(-x))\n",
    "    return a,x\n",
    "\n",
    "def sigmoid1(x):\n",
    "    \"\"\"\n",
    "    Implementa la función sigmoide para número reales devolviendo solo la función.\n",
    "    \n",
    "    Argumentos de entrada:\n",
    "    x -- Variable independiente, un escalar\n",
    "    \n",
    "    Salidas:\n",
    "    a -- Valor de la función sigmoide en x, a = sigmoid(x), un escalar \n",
    "    \"\"\"\n",
    "    a = 1/ (1 + np.exp(-x))\n",
    "    return a\n",
    "\n",
    "def relu(x):\n",
    "    \"\"\"\n",
    "    Implementa la función relu para número reales o para matrices .\n",
    "    \n",
    "    Argumentos de entrada:\n",
    "    x -- Variable dependiente, un escalar o una matriz de números\n",
    "    \n",
    "    Salidas:\n",
    "    a -- Valor de la función sigmoide en x, a = sigmoid(x), un escalar  o una matriz de números\n",
    "    x -- Variable dependiente, un escalar o una matriz de números\n",
    "    \"\"\"\n",
    "    if type(x) == np.ndarray:\n",
    "        a = np.copy(x)\n",
    "        for i in range(a.shape[0]):\n",
    "            for j in range(a.shape[1]):\n",
    "                if a[i,j] < 0:\n",
    "                    a[i,j] = 0\n",
    "    else:\n",
    "        if x>0:\n",
    "            a = x\n",
    "        else:\n",
    "            a = 0\n",
    "    \n",
    "    return a,x"
   ]
  },
  {
   "cell_type": "code",
   "execution_count": 41,
   "metadata": {},
   "outputs": [],
   "source": [
    "def sigmoid_retro(dA,z):\n",
    "    \"\"\"\n",
    "    Implementa el producto entre el gradiente de la función error respecto de la salida de la última neurona por\n",
    "    la derivada de la función sigmoide (para número reales).\n",
    "    \n",
    "    Argumentos de entrada:\n",
    "    dA --Gradiente de la función error respecto de la activación.\n",
    "    z -- Valor de la parte lineal de la neurona.\n",
    "    \n",
    "    Salidas:\n",
    "    dZ*dA -- Derivada de la función coste respecto de Z\n",
    "    \"\"\"\n",
    "    dZ= sigmoid1(z)*(1-sigmoid1(z))\n",
    "    return dZ*dA\n",
    "\n",
    "\n",
    "def relu_retro(dA,z):\n",
    "    \"\"\"\n",
    "    Implementa el producto entre el gradiente de la función error respecto de la salida de la capa actual (capa l) por\n",
    "    la derivada de la función relu (para número reales o matrices).\n",
    "    \n",
    "    Argumentos de entrada:\n",
    "    dA --Gradiente de la función error respecto de la activación, un escalar o una matriz\n",
    "    z -- Valor de la parte lineal de la neurona, un escalar o una matriz\n",
    "    \n",
    "    Salidas:\n",
    "    dZ*dA -- Derivada de la función coste respecto de Z (de la capa l)\n",
    "    \"\"\"\n",
    "    if type(z) == np.ndarray:\n",
    "        dZ = np.copy(z)\n",
    "        for i in range(dZ.shape[0]):\n",
    "            for j in range(dZ.shape[1]):\n",
    "                if dZ[i,j] > 0:\n",
    "                    dZ[i,j] = 1\n",
    "                else:\n",
    "                    dZ[i,j] = 0\n",
    "    else:\n",
    "        if z>0:\n",
    "            dZ = 1\n",
    "        else:\n",
    "            dZ = 0\n",
    "    \n",
    "    return dZ*dA"
   ]
  },
  {
   "cell_type": "markdown",
   "metadata": {},
   "source": [
    "<a name='4-3'></a>\n",
    "### 4.3 Propagación hacia delante."
   ]
  },
  {
   "cell_type": "markdown",
   "metadata": {},
   "source": [
    "Inicializamos los parámetros (pesos y sesgos) de las distintas capas de manera aleatoria."
   ]
  },
  {
   "cell_type": "code",
   "execution_count": 42,
   "metadata": {},
   "outputs": [],
   "source": [
    "def inicializar_parametros_aleatorios(dim_capas):\n",
    "    \"\"\"\n",
    "    Implementa la inicialización aleatoria de los parámetros de nuestra red neuronal de L capas , es decir, \n",
    "    dar valor a W1, b1, W2, b2, ..., WL,bL (W's y b's) dadas el número de neuronas en cada capa.\n",
    "    Argumentos de entrada::\n",
    "    dim_capas -- lista formada por las dimensiones de cada capa(número de neuornas) incluyendo la capa 0\n",
    "                 del tipo (n_x, n_h1, n_h2,...,n_h(L-1), n_y).\n",
    "    \n",
    "    Returns:\n",
    "    param -- diccionario de Python formado por \"W1\", \"b1\", ..., \"WL\", \"bL\":\n",
    "                    Wl -- matriz de pesos de dimensión (dim_capa[l], dim_capa[l-1]).\n",
    "                    bl -- vector sesgo de dimensión (dim_capa[l], 1).\n",
    "    \"\"\"\n",
    "    \n",
    "    np.random.seed(3)\n",
    "    param = {}\n",
    "    L = len(dim_capas) # número de capas de la red neuronal (incluyendo la capa 0, realmente sería L+1)\n",
    "\n",
    "    for l in range(1, L):\n",
    "        \n",
    "        param['W' + str(l)] = np.random.randn(dim_capas[l],dim_capas[l-1])*0.1\n",
    "        param['b' + str(l)] = np.zeros((dim_capas[l],1))\n",
    "        \n",
    "        assert(param['W' + str(l)].shape == (dim_capas[l], dim_capas[l - 1]))\n",
    "        assert(param['b' + str(l)].shape == (dim_capas[l], 1))\n",
    "\n",
    "        \n",
    "    return param"
   ]
  },
  {
   "cell_type": "code",
   "execution_count": null,
   "metadata": {},
   "outputs": [],
   "source": []
  },
  {
   "cell_type": "markdown",
   "metadata": {},
   "source": [
    "#### Propagación hacia delante"
   ]
  },
  {
   "cell_type": "code",
   "execution_count": 43,
   "metadata": {},
   "outputs": [],
   "source": [
    "def prop_lin(A, W, b):\n",
    "    \"\"\"\n",
    "    Implementa la parte lineal de la propagación hacia delante de una capa.\n",
    "\n",
    "    Argumentos de entrada:\n",
    "    A -- Array de numpy de salidas de la capa anterior (o de la capa de entrada),\n",
    "         de dimensiones (dim_capa_anterior, número de muestras).\n",
    "    W -- Matriz de pesos en forma de array numpy de dimensión (dim_capa_actual, dim_capa_anterior).\n",
    "    b -- Vector de sesgos en forma de array numpy de dim (dim_capa_actual, 1).\n",
    "\n",
    "    Salidas:\n",
    "    Z -- Sumatorio lineal que sirve de entrada para la función no lineal o de activación de dim (dim_capa_actual, número de muestras)\n",
    "    cache -- Tupla de Python que contiene \"A\", \"W\" and \"b\" ; que se guarda para la retro-propagación\n",
    "    \"\"\"\n",
    "    Z = np.dot(W, A) + b\n",
    "\n",
    "    cache = (A, W, b)\n",
    "    \n",
    "    return Z, cache"
   ]
  },
  {
   "cell_type": "code",
   "execution_count": 44,
   "metadata": {},
   "outputs": [],
   "source": [
    "def prop_delante(A_prev, W, b, activacion):\n",
    "    \"\"\"\n",
    "    Implementa la propagación hacia delante en una capa (parte lineal y no lineal).\n",
    "\n",
    "    Arguments:\n",
    "    A_prev -- Array de numpy de salidas de la capa anterior (o de la capa de entrada),\n",
    "              de dimensiones (dim_capa_anterior, número de muestras).\n",
    "    W -- Matriz de pesos en forma de array numpy de dimensión (dim_capa_actual, dim_capa_anterior).\n",
    "    b --  Vector de sesgos en forma de array numpy de dim (dim_capa_actual, 1)\n",
    "    activation -- la función de activación de dicha capa, guarda en forma de cadena de caracteres: \"sigmoid\" or \"relu\".\n",
    "\n",
    "    Returns:\n",
    "    A -- Salida de la función de activación, de dimensiones (dim_capa_actual, número de muestras).\n",
    "    cache -- Tupla de Python que contiene el \"cache\" de la parte lineal y de la parte no lineal,\n",
    "             (A,W,b,Z), que usaremos en la retro-propagación.\n",
    "    \"\"\"\n",
    "   \n",
    "    if activacion == \"sigmoid\":\n",
    "        \n",
    "        Z, cache_lin = prop_lin(A_prev, W, b)\n",
    "        \n",
    "        A, cache_act = sigmoid(Z)\n",
    "        \n",
    "    \n",
    "    elif activacion == \"relu\":\n",
    "        \n",
    "        Z, cache_lin = prop_lin(A_prev, W, b)\n",
    "        \n",
    "        A, cache_act = relu(Z)\n",
    "        \n",
    "        \n",
    "    cache = (cache_lin, cache_act)\n",
    "\n",
    "    return A, cache"
   ]
  },
  {
   "cell_type": "code",
   "execution_count": 45,
   "metadata": {},
   "outputs": [],
   "source": [
    "def modelo_prop(X, param):\n",
    "    \"\"\"\n",
    "    Implementa la propagación hacia delante de L-1 capas con función de activación relu y\n",
    "    en la capa final función de activación sigmoide.\n",
    "    \n",
    "    Argumentos de entrada:\n",
    "    X -- Variables de entrada de la red, datos, en forma de array de numpy de dim (num_variables_entrada , número de muestras).\n",
    "    param -- Salida de inicializar_parametros_aleatorios().\n",
    "    \n",
    "    Returns:\n",
    "    AL -- Salida de la última capa, de dimensión (dim_capa_final, número de muestras).\n",
    "    caches -- Lista de caches que contienen todos los caches de prop_delante() desde 1 hasta L-1 .\n",
    "    \"\"\"\n",
    "\n",
    "    caches = []\n",
    "    A = X\n",
    "    L = len(param) // 2                  # número de capas de la red\n",
    "    \n",
    "    for l in range(1, L):\n",
    "        A_prev = A \n",
    "        \n",
    "        A, cache = prop_delante(A_prev, param['W' + str(l)], param['b' +str(l)],\"relu\")\n",
    "        caches.append(cache)\n",
    "\n",
    "    AL, cache = prop_delante(A, param['W' + str(L)], param['b' + str(L)],\"sigmoid\")\n",
    "    caches.append(cache)\n",
    "          \n",
    "    return AL, caches"
   ]
  },
  {
   "cell_type": "markdown",
   "metadata": {},
   "source": [
    "Función a optimizar, función error o función de coste."
   ]
  },
  {
   "cell_type": "code",
   "execution_count": 46,
   "metadata": {},
   "outputs": [],
   "source": [
    "def funcion_coste(AL, Y):\n",
    "    \"\"\"\n",
    "    Implementa la función coste que se minimizará con el algoritmo del descenso de gradiente.\n",
    "\n",
    "    Argumentos de entrada:\n",
    "    AL -- Vector que contiene las predicciones de la variable objetivo Y con el modelo_prop de dim (1, número de muestras).\n",
    "    Y -- Vector con las variables objetivos reales, de dim (1, número de muestras).\n",
    "\n",
    "    Salidas:\n",
    "    coste -- Valor de la función de coste.\n",
    "    \"\"\"\n",
    "    \n",
    "    m = Y.shape[1]\n",
    "\n",
    "    \n",
    "    coste = - np.sum(Y*np.log(AL) + (1 - Y) * np.log(1 - AL)) / m\n",
    "    \n",
    "    coste = np.squeeze(coste)      # Para asegurarse de que devuelve la dimensión adecuada (por ejemplo, pasa [[17]] a 17).\n",
    "\n",
    "    \n",
    "    return coste"
   ]
  },
  {
   "cell_type": "code",
   "execution_count": 47,
   "metadata": {},
   "outputs": [],
   "source": [
    "def funcion_coste_reg(AL, Y, param, lambd):\n",
    "    \n",
    "    \"\"\"\n",
    "    Implementa la función de coste a minimizar con descenso de gradiente con regularización L2.\n",
    "    \n",
    "    Argumentos de entrada:\n",
    "    AL -- Vector que contiene las predicciones de la variable objetivo Y con el modelo_prop de dim (1, número de muestras).\n",
    "    Y -- Vector con las variables objetivos reales, de dim (1, número de muestras).\n",
    "    param -- Diccionario de Python con los parametros del modelo.\n",
    "    lambd -- Parámetro de regularización.\n",
    "     \n",
    "    Returns:\n",
    "    coste - Valor de la función de coste con regularización.\n",
    "    \"\"\"\n",
    "    m = Y.shape[1]\n",
    "    norma = 0\n",
    "    for i in param.keys():\n",
    "        norma += np.sum(np.square(param[i]))\n",
    "     \n",
    "    coste_sin_reg = funcion_coste(AL, Y) \n",
    "\n",
    "    coste_reg_L2 = (lambd/(2*m))*(norma)\n",
    "\n",
    "    coste = coste_sin_reg + coste_reg_L2\n",
    "    \n",
    "    return coste\n"
   ]
  },
  {
   "cell_type": "markdown",
   "metadata": {},
   "source": [
    "<a name='4-4'></a>\n",
    "### 4.4 Retro-propagación"
   ]
  },
  {
   "cell_type": "markdown",
   "metadata": {},
   "source": [
    "#### Propagación hacia atrás"
   ]
  },
  {
   "cell_type": "code",
   "execution_count": 48,
   "metadata": {},
   "outputs": [],
   "source": [
    "def retro_lin(dZ, cache):\n",
    "    \"\"\"\n",
    "    Implementa la retro-propagación de la parte lineal de una capa.\n",
    "\n",
    "    Argumentos de entrada:\n",
    "    dZ -- Gradiente del coste con respecto a la salida lineal de la capa actual (capa l).\n",
    "    cache -- Tupla de valores (A_prev, W, b) de la parte de propagación hacia dealnte de la capa actual (capa l).\n",
    "\n",
    "    Salidas:\n",
    "    dA_prev -- Gradiente del coste con respecto a la activación de la capa anterior (capa l-1), de igual dimensión que A_prev.\n",
    "    dW -- Gradiente del coste con respecto a W de la capa actual(capa l), de igual dimensión que W.\n",
    "    db -- Gradiente del coste con respecto de b de la capa actual(capa l),de igual dimensión que b.\n",
    "    \"\"\"\n",
    "\n",
    "    A_prev, W, b = cache\n",
    "    m = A_prev.shape[1]\n",
    "\n",
    "    \n",
    "    dW = np.dot(dZ,A_prev.T) / m\n",
    "    db = np.sum(dZ, axis = 1, keepdims = True) / m \n",
    "    dA_prev = np.dot( W.T, dZ)\n",
    "    \n",
    "    return dA_prev, dW, db"
   ]
  },
  {
   "cell_type": "code",
   "execution_count": 49,
   "metadata": {},
   "outputs": [],
   "source": [
    "def retro_lin_reg(dZ, cache, lambd):\n",
    "    \"\"\"\n",
    "    Implementa la retro-propagación de la parte lineal de una capa con regularización.\n",
    "\n",
    "    Argumentos de entrada:\n",
    "    dZ -- Gradiente del coste con respecto a la salida lineal de la capa actual (capa l).\n",
    "    cache -- Tupla de valores (A_prev, W, b) de la parte de propagación hacia dealnte de la capa actual (capa l).\n",
    "    lambd -- Coeficiente de regularización lambda, un escalar.\n",
    "\n",
    "    Salidas:\n",
    "    dA_prev -- Gradiente del coste con respecto a la activación de la capa anterior (capa l-1), de igual dimensión que A_prev.\n",
    "    dW -- Gradiente del coste con respecto a W de la capa actual(capa l), de igual dimensión que W.\n",
    "    db -- Gradiente del coste con respecto de b de la capa actual(capa l),de igual dimensión que b.\n",
    "    \"\"\"\n",
    "\n",
    "    A_prev, W, b = cache\n",
    "    m = A_prev.shape[1]\n",
    "\n",
    "    \n",
    "    dW = np.dot(dZ,A_prev.T) / m +  W*lambd/ m \n",
    "    db = np.sum(dZ, axis = 1, keepdims = True) / m\n",
    "    dA_prev = np.dot( W.T, dZ)\n",
    "    \n",
    "    return dA_prev, dW, db"
   ]
  },
  {
   "cell_type": "code",
   "execution_count": 50,
   "metadata": {},
   "outputs": [],
   "source": [
    "def retro_act_lin(dA, cache, activacion):\n",
    "    \"\"\"\n",
    "    Implementa la retro-propagación de una capa l(parte no lineal y lineal).\n",
    "    \n",
    "    Argumentos de entrada:\n",
    "    dA -- Gradiente del coste con respecto a la salida  la capa anterior (realmente posterior) (capa l+1).\n",
    "    cache -- Tupla de valores (cache_lin, cache_act), donde cache_lin = (A_pre,W,b) y de cache_act = Z.\n",
    "    activacion -- La función de activación que usaremos, en forma de cadena de caracteres (string): \"sigmoid\" o \"relu\".\n",
    "    \n",
    "    Salidas:\n",
    "    dA_prev -- Gradiente del coste con respecto a la activación de la capa anterior (capa l-1), de igual dimensión que A_prev.\n",
    "    dW -- Gradiente del coste con respecto a W de la capa actual(capa l), de igual dimensión que W.\n",
    "    db -- Gradiente del coste con respecto a b de la capa actual(capa l), de igual dimensión que b.\n",
    "    \"\"\"\n",
    "    cache_lin , cache_act = cache\n",
    "    \n",
    "    if activacion == \"relu\":\n",
    "        \n",
    "        dZ = relu_retro(dA, cache_act)\n",
    "        dA_prev, dW, db = retro_lin(dZ, cache_lin)\n",
    "\n",
    "        \n",
    "    elif activacion == \"sigmoid\":\n",
    "        \n",
    "        dZ = sigmoid_retro(dA, cache_act)\n",
    "        dA_prev, dW, db = retro_lin(dZ, cache_lin)\n",
    "        \n",
    "    \n",
    "    return dA_prev, dW, db"
   ]
  },
  {
   "cell_type": "code",
   "execution_count": 51,
   "metadata": {},
   "outputs": [],
   "source": [
    "def retro_act_lin_reg (dA, cache,  activacion, lambd = 0.1): \n",
    "    \"\"\" \n",
    "    Implementa la retro-propagación de una capa l(parte no lineal y lineal) con regularización.\n",
    "    \n",
    "    Argumentos de entrada:\n",
    "    dA -- Gradiente del coste con respecto a la salida  la capa anterior (realmente posterior) (capa l+1).\n",
    "    cache -- Tupla de valores (cache_lin, cache_act), donde cache_lin = (A_pre,W,b) y de cache_act = Z.\n",
    "    activacion -- La función de activación que usaremos, en forma de cadena de caracteres (string): \"sigmoid\" o \"relu\".\n",
    "    lambd -- Coeficiente de regularización lambda, un escalar\n",
    "    \n",
    "    Salidas:\n",
    "    dA_prev -- Gradiente del coste con respecto a la activación de la capa anterior (capa l-1), de igual dimensión que A_prev.\n",
    "    dW -- Gradiente del coste con respecto a W de la capa actual(capa l), de igual dimensión que W.\n",
    "    db -- Gradiente del coste con respecto a b de la capa actual(capa l), de igual dimensión que b.\n",
    "    \"\"\" \n",
    "    m = X.shape[1]\n",
    "    L = len(cache)\n",
    "    gradientes = {}\n",
    "    cache_lin , cache_act = cache\n",
    "    \n",
    "    if activacion == \"relu\":\n",
    "        dZ = relu_retro(dA, cache_act)\n",
    "        dA_prev, dW, db = retro_lin_reg(dZ, cache_lin ,lambd)\n",
    "\n",
    "        \n",
    "    elif activacion == \"sigmoid\":\n",
    "        \n",
    "        dZ = sigmoid_retro(dA, cache_act)\n",
    "        dA_prev, dW, db = retro_lin_reg(dZ, cache_lin,lambd)\n",
    "    \n",
    "    return dA_prev, dW, db"
   ]
  },
  {
   "cell_type": "code",
   "execution_count": 52,
   "metadata": {},
   "outputs": [],
   "source": [
    "def modelo_retro(AL, Y, caches, regularizacion = False, lambd = 0.1):\n",
    "    \"\"\"\n",
    "    Implementa la retropropagación de una red de L capas, con las primeras L-1 capas\n",
    "    tienen de función de activación la función relu, la última capa, la función sigmoide.\n",
    "    \n",
    "    Argumentos de entrada:\n",
    "    AL -- Vector que es la salida de la propagación hacia adelante (o salida de la red neuronal completa)\n",
    "    ,en este caso, de la función (modelo_prop()).\n",
    "    Y -- Vector que contiene los valores verdaderos que deben predecir la red neuronal, de dim (1, número de muestras).\n",
    "    caches -- List de caches:\n",
    "                todos los caches de prop_delante() con la activación \"relu\" (en total L-1).\n",
    "                el cache de prop_delante() con la activación \"sigmoid\" (el de la capa L).\n",
    "    \n",
    "    Salidas:\n",
    "    grads -- Un diccionario con los gradientes que usaremos para actualizar los parámetros (W's y b's) de la forma:\n",
    "             grads[\"dA\" + str(l)] = ... \n",
    "             grads[\"dW\" + str(l)] = ...\n",
    "             grads[\"db\" + str(l)] = ... \n",
    "    \"\"\"\n",
    "    grads = {}\n",
    "    L = len(caches) # número de capas\n",
    "    m = AL.shape[1]\n",
    "    Y = Y.reshape(AL.shape) \n",
    "    \n",
    "\n",
    "    dAL = - (np.divide(Y, AL) - np.divide(1 - Y, 1 - AL)) / m\n",
    "    \n",
    "\n",
    "    # Capa L: gradientes (SIGMOID -> LINEAL). \n",
    "    \n",
    "    cache_actual = caches[L-1]\n",
    "    if regularizacion:\n",
    "        dA_prev_temp, dW_temp, db_temp = retro_act_lin_reg(dAL, cache_actual, \"sigmoid\",lambd)\n",
    "    else:\n",
    "        dA_prev_temp, dW_temp, db_temp = retro_act_lin (dAL, cache_actual, \"sigmoid\")\n",
    "    grads[\"dA\" + str(L-1)] = dAL\n",
    "    grads[\"dW\" + str(L)] = dW_temp\n",
    "    grads[\"db\" + str(L)] = db_temp\n",
    "\n",
    "    \n",
    "    # Bucle desde  l=L-2 hasta l=0\n",
    "    for l in reversed(range(L-1)):\n",
    "        \n",
    "        # Capa l: gradientes (RELU -> LINEAL)\n",
    "        cache_actual = caches[l]\n",
    "        if regularizacion :\n",
    "            dA_prev_temp, dW_temp, db_temp = retro_act_lin_reg(grads[\"dA\" + str(l + 1)], cache_actual,\"relu\",lambd)\n",
    "        else:\n",
    "            dA_prev_temp, dW_temp, db_temp = retro_act_lin(grads[\"dA\" + str(l + 1)], cache_actual,\"relu\")\n",
    "            \n",
    "        grads[\"dA\" + str(l)] = dA_prev_temp\n",
    "        grads[\"dW\" + str(l + 1)] = dW_temp\n",
    "        grads[\"db\" + str(l + 1)] = db_temp\n",
    "\n",
    "    return grads"
   ]
  },
  {
   "cell_type": "code",
   "execution_count": 53,
   "metadata": {},
   "outputs": [],
   "source": [
    "def actualizar_params(params, grads, tasa_aprendizaje):\n",
    "    \"\"\"\n",
    "    Implementa la actualización de los parámetros con descenso de gradiente.\n",
    "    \n",
    "    Argumentos de entrada:\n",
    "    params -- Diccionario de python que contiene los parámetros.\n",
    "    grads -- Diccionario de python que contiene los gradientes, salida de  modelo_retro.\n",
    "    tasa_aprendizaje -- Tasa de aprendizaje del descenso de gradiente, un escalar.\n",
    "    \n",
    "    Salidas:\n",
    "    parametros -- Diccionario de python que contiene los parámetros actualizados de la forma:\n",
    "                  parameters[\"W\" + str(l)] = ... \n",
    "                  parameters[\"b\" + str(l)] = ...\n",
    "    \"\"\"\n",
    "    parametros = params.copy()\n",
    "    L = len(parametros) // 2 # Número de capas\n",
    "\n",
    "    for l in range(L):\n",
    "        \n",
    "        parametros[\"W\" + str(l+1)] = params[\"W\" + str(l+1)] - tasa_aprendizaje * grads[\"dW\" + str(l+1)]\n",
    "        parametros[\"b\" + str(l+1)] = params[\"b\" + str(l+1)] - tasa_aprendizaje * grads[\"db\" + str(l+1)]\n",
    "        \n",
    "    return parametros"
   ]
  },
  {
   "cell_type": "markdown",
   "metadata": {},
   "source": [
    "<a name='4-5'></a>\n",
    "### 4.5 Modelo completo"
   ]
  },
  {
   "cell_type": "markdown",
   "metadata": {},
   "source": [
    "Utilizando todas las anteriores funciones definidas, definimos la función de la red neuronal retroalimentada completa. Esta puede añadir la regularización L2 si así se desea."
   ]
  },
  {
   "cell_type": "code",
   "execution_count": 54,
   "metadata": {},
   "outputs": [],
   "source": [
    "def Red_Neuronal(X, Y, dim_capas, tasa_aprendizaje = 0.0075, num_iter = 3000,\n",
    "                  print_cost=False, regularizacion = False, lambd = 0.1):\n",
    "    \"\"\"\n",
    "    Implementa una red neuronal retroalimentada de L capas (la primera capa no se cuenta, l = 0) teniendo las \n",
    "    primeras L-1 capas como función de activación la función relu, y la última capa (capa L) la función sigmoide.\n",
    "    \n",
    "    Argumentos de entrada:\n",
    "    X -- Datos o conjunto de entradas de dimensión (num_variables_entrada, número de muestras).\n",
    "    Y -- Variable objetivo o a predecir,  de dimensión (1, número de muestras)).\n",
    "    dim_capas -- Lista de Python de dimensión (número de capas + 1) que contiene el número de neuronas de cada capa\n",
    "        (incluyendo las variables de entrada, la capa 0).\n",
    "    tasa_aprendizaje -- Tasa de aprendizaje del algoritmo de descenso de gradiente, un escalar.\n",
    "    num_iter -- Número de iteraciones en las que se actualizarán/optimizarán los parámetros del modelo, un escalar.\n",
    "    print_cost -- Toma valor True o False si se desea imprimir por pantalla el coste cada 100 iteraciones.\n",
    "    \n",
    "    Salidas:\n",
    "    parametros -- Diccionario de Python formado por \"W1\", \"b1\", ..., \"WL\", \"bL\", los parámetros de la red neuronal.\n",
    "    costes -- Lista de Python de los valores de la función coste (cada 100 iteraciones).\n",
    "    \"\"\"\n",
    "\n",
    "    np.random.seed(1)\n",
    "    costes = []                         # lista para guardar costes\n",
    "    \n",
    "    parametros = inicializar_parametros_aleatorios(dim_capas)\n",
    "    \n",
    "    # Bucle (del descenso de gradiente)\n",
    "    for i in range(0, num_iter+1):\n",
    "        \n",
    "        AL, caches = modelo_prop(X, parametros)\n",
    "        \n",
    "        if regularizacion:\n",
    "            coste = funcion_coste_reg(AL, Y, parametros, lambd)\n",
    "        else:\n",
    "            coste = funcion_coste(AL, Y)\n",
    "        \n",
    "        grads = modelo_retro(AL, Y, caches,regularizacion,lambd)\n",
    "        \n",
    "        parametros = actualizar_params(parametros, grads, tasa_aprendizaje)\n",
    "                \n",
    "        # Mostrar el coste cada 100 iteraciones\n",
    "        if print_cost and i % 100 == 0 :\n",
    "            print(\"Coste después de la iteración {}: {}\".format(i, np.squeeze(coste)))\n",
    "        if i % 100 == 0 :\n",
    "            costes.append(coste)\n",
    "    \n",
    "    return parametros, costes"
   ]
  },
  {
   "cell_type": "markdown",
   "metadata": {},
   "source": [
    "Para completar el estudio, se define una función que usaremos para poder desarrollar una red neuronal retroalimentada que use el descenso de gradiente estocástico (SGD o Stocastic Gradient Descent)."
   ]
  },
  {
   "cell_type": "code",
   "execution_count": 55,
   "metadata": {},
   "outputs": [],
   "source": [
    "def SGD_muestras(X,Y,AL,num = 20):\n",
    "    \n",
    "    X_n = X.copy()\n",
    "    Y_n = Y.copy()\n",
    "    AL_n = AL.copy()\n",
    "    \n",
    "    indices = np.arange(0,X.shape[1])\n",
    "    np.random.seed(1)\n",
    "    np.random.shuffle(indices)\n",
    "    h = indices.shape[0]//num\n",
    "    \n",
    "    for i in range(num+1):\n",
    "        if i != num:\n",
    "            sub = indices[i*h : (i+1)*h]\n",
    "            X_n[:,i*h : (i+1)*h] = X[:,sub]\n",
    "            Y_n[:,i*h : (i+1)*h] = Y[:,sub]\n",
    "            AL_n[:,i*h : (i+1)*h]= AL[:,sub]\n",
    "        else:\n",
    "            sub = indices[i*h : ]\n",
    "            X_n[: , i*h : ] = X[:,sub]\n",
    "            Y_n[:, i*h : ] = Y[:,sub]\n",
    "            AL_n[:, i*h : ] = AL[:,sub]\n",
    "    return X_n, Y_n, AL_n, h, num"
   ]
  },
  {
   "cell_type": "code",
   "execution_count": 56,
   "metadata": {},
   "outputs": [],
   "source": [
    "def SGD_muestras2(X,Y,num = 20):\n",
    "    AL = np.zeros(Y.shape[1]).reshape(Y.shape[0],Y.shape[1])\n",
    "    X_n = []\n",
    "    Y_n = []\n",
    "    AL_n = []\n",
    "    indices = np.arange(0,X.shape[1])\n",
    "    np.random.seed(1)\n",
    "    np.random.shuffle(indices)\n",
    "    h = indices.shape[0]//num\n",
    "    for i in range(num+1):\n",
    "        if i != num:\n",
    "            sub = indices[i*h : (i+1)*h]\n",
    "            X_n.append(X[:,sub])\n",
    "            Y_n.append(Y[:,sub])\n",
    "            AL_n.append(AL[:,sub])\n",
    "        else:\n",
    "            sub = indices[i*h : ]\n",
    "            X_n.append(X[:,sub])\n",
    "            Y_n.append(Y[:,sub])\n",
    "            AL_n.append(AL[:,sub])\n",
    "    return X_n, Y_n, AL_n, h , num"
   ]
  },
  {
   "cell_type": "code",
   "execution_count": 57,
   "metadata": {},
   "outputs": [],
   "source": [
    "def Red_Neuronal_SGD(X, Y, dim_capas, tasa_aprendizaje = 0.0075, num_iter = 3000,\n",
    "                  print_cost=False, regularizacion = False, lambd = 0.1):\n",
    "    \n",
    "    \"\"\"\n",
    "    Implementa una red neuronal retroalimentada de L capas (la primera capa no se cuenta, l = 0) teniendo las \n",
    "    primeras L-1 capas como función de activación la función relu, y la última capa (capa L) la función sigmoide,\n",
    "    y habiendo utilizado el algoritmo de descenso de gradiente estocástico para su optimización.\n",
    "    \n",
    "    Argumentos de entrada:\n",
    "    X -- Datos o conjunto de entradas de dimensión (num_variables_entrada, número de muestras).\n",
    "    Y -- Variable objetivo o a predecir,  de dimensión (1, número de muestras)).\n",
    "    dim_capas -- Lista de Python de dimensión (número de capas + 1) que contiene el número de neuronas de cada capa\n",
    "        (incluyendo las variables de entrada, la capa 0).\n",
    "    tasa_aprendizaje -- Tasa de aprendizaje del algoritmo de descenso de gradiente, un escalar.\n",
    "    num_iter -- Número de iteraciones en las que se actualizarán/optimizarán los parámetros del modelo, un escalar.\n",
    "    print_cost -- Toma valor True o False si se desea imprimir por pantalla el coste cada 100 iteraciones.\n",
    "    \n",
    "    Salidas:\n",
    "    parametros -- Diccionario de Python formado por \"W1\", \"b1\", ..., \"WL\", \"bL\", los parámetros de la red neuronal.\n",
    "    costes -- Lista de Python de los valores de la función coste (cada 100 iteraciones).\n",
    "    \"\"\"\n",
    "\n",
    "    \n",
    "    \"\"\"\n",
    "    Implements a L-layer neural network: [LINEAR->RELU]*(L-1)->LINEAR->SIGMOID.\n",
    "    \n",
    "    Arguments:\n",
    "    X -- data, numpy array of shape (num_px * num_px * 3, number of examples)\n",
    "    Y -- true \"label\" vector (containing 0 if cat, 1 if non-cat), of shape (1, number of examples)\n",
    "    dim_capas -- list containing the input size and each layer size, of length (number of layers + 1).\n",
    "    tasa_aprendizaje -- learning rate of the gradient descent update rule\n",
    "    num_iter -- number of iterations of the optimization loop\n",
    "    print_cost -- if True, it prints the cost every 100 steps\n",
    "    \n",
    "    Returns:\n",
    "    parameters -- parameters learnt by the model. They can then be used to predict.\n",
    "    \"\"\"\n",
    "\n",
    "    np.random.seed(1)\n",
    "    costes = []                        \n",
    "    \n",
    "    parametros = inicializar_parametros_aleatorios(dim_capas)\n",
    "    AL = np.zeros(Y.shape[1]).reshape(Y.shape[0],Y.shape[1])\n",
    "        \n",
    "    X_n, Y_n, AL_n, h, num = SGD_muestras(X, Y, AL, num = 5)     #SOBRA???????????\n",
    "    \n",
    "    # Loop (gradient descent)\n",
    "    for i in range(0, num_iter+1):\n",
    "        X_n, Y_n, AL_n, h, num = SGD_muestras(X_n, Y_n, AL_n, num = 5)  #BORRAR O NO??? Diría que es MEJOR ESTO QUE LO OTRO\n",
    "        \n",
    "        for j in range(num+1):\n",
    "            \n",
    "            \n",
    "            if j != num:\n",
    "                \n",
    "                AL_n[:,j*h : (j+1)*h], caches = modelo_prop(X_n[:,j*h : (j+1)*h], parametros)\n",
    "                \n",
    "                if regularizacion:\n",
    "                    coste = funcion_coste_reg(AL_n[:,j*h : (j+1)*h], Y_n[:,j*h : (j+1)*h], parametros, lambd)\n",
    "                else:\n",
    "                    coste = funcion_coste(AL_n[:,j*h : (j+1)*h], Y_n[:,j*h : (j+1)*h])\n",
    "                \n",
    "                grads = modelo_retro(AL_n[:,j*h : (j+1)*h], Y_n[:,j*h : (j+1)*h], caches,regularizacion,lambd)\n",
    "                parametros = actualizar_params(parametros, grads, tasa_aprendizaje)\n",
    "                \n",
    "            else:\n",
    "                AL_n[:, j*h : ], caches =  modelo_prop(X_n[:, j*h : ], parametros)\n",
    "                \n",
    "                if regularizacion:\n",
    "                    coste = funcion_coste_reg(AL_n[:, j*h : ], Y_n[:, j*h : ], parametros, lambd)\n",
    "                else:\n",
    "                    coste = funcion_coste(AL_n[:, j*h : ], Y_n[:, j*h : ])\n",
    "                \n",
    "                grads = modelo_retro(AL_n[:, j*h : ], Y_n[:, j*h : ], caches,regularizacion,lambd)\n",
    "                parametros = actualizar_params(parametros, grads, tasa_aprendizaje)\n",
    "            \n",
    "            \n",
    "             # Mostrar el coste cada 100 iteraciones (LA HE COMENTADO PARA EVITAR SOBRECARGA)\n",
    "            #if print_cost and i % 100 == 0 or i == num_iter - 1:\n",
    "                #print(\"Coste después de la iteración {} : {}\".format(j,  np.squeeze(cost)))\n",
    "            #if i % 100 == 0 or i == num_iter:\n",
    "                #costes.append(coste)\n",
    "        \n",
    "        if regularizacion:\n",
    "            coste = funcion_coste_reg(AL_n, Y_n, parametros, lambd)\n",
    "        else:\n",
    "            coste = funcion_coste(AL_n, Y_n)\n",
    "            \n",
    "        # Mostrar el coste cada 100 épocas\n",
    "        if print_cost and i % 100 == 0 :\n",
    "            print(\"Coste (de todo el conjunto) tras la época {}: {}\".format(i, np.squeeze(coste)))\n",
    "        if i % 100 == 0 :\n",
    "            costes.append(coste)\n",
    "    \n",
    "    return parametros, costes"
   ]
  },
  {
   "cell_type": "code",
   "execution_count": 58,
   "metadata": {},
   "outputs": [],
   "source": [
    "def Red_Neuronal_SGD2(X, Y, dim_capas, tasa_aprendizaje = 0.0075, num_iter = 3000,\n",
    "                  print_cost=False, regularizacion = False, lambd = 0.1):\n",
    "    \"\"\"\n",
    "    Implements a L-layer neural network: [LINEAR->RELU]*(L-1)->LINEAR->SIGMOID.\n",
    "    \n",
    "    Arguments:\n",
    "    X -- data, numpy array of shape (num_px * num_px * 3, number of examples)\n",
    "    Y -- true \"label\" vector (containing 0 if cat, 1 if non-cat), of shape (1, number of examples)\n",
    "    dim_capas -- list containing the input size and each layer size, of length (number of layers + 1).\n",
    "    tasa_aprendizaje -- learning rate of the gradient descent update rule\n",
    "    num_iter -- number of iterations of the optimization loop\n",
    "    print_cost -- if True, it prints the cost every 100 steps\n",
    "    \n",
    "    Returns:\n",
    "    parameters -- parameters learnt by the model. They can then be used to predict.\n",
    "    \"\"\"\n",
    "\n",
    "    np.random.seed(1)\n",
    "    costs = []     \n",
    "    \n",
    "    parameters = inicializar_parametros_aleatorios(dim_capas)\n",
    "    \n",
    "        \n",
    "    X_n, Y_n, AL, h , num= SGD_muestras2(X, Y)\n",
    "    \n",
    "    # Loop (gradient descent)\n",
    "    for i in range(0, num_iter):\n",
    "        for j in range(len(X_n)):\n",
    "            \n",
    "            AL[j], caches = modelo_prop(X_n[j], parameters)\n",
    "        \n",
    "            if regularizacion:\n",
    "                cost = funcion_coste_reg(AL[j], Y_n[j], parameters, lambd)\n",
    "            else:\n",
    "                cost = funcion_coste(AL[j], Y_n[j])\n",
    "        \n",
    "            grads = modelo_retro(AL[j], Y_n[j], caches,regularizacion,lambd)\n",
    "        \n",
    "            parameters = actualizar_params(parameters, grads, tasa_aprendizaje)\n",
    "            \n",
    "             # Mostrar el coste cada 100 iteraciones\n",
    "            if print_cost and i % 100 == 0 or i == num_iter - 1:\n",
    "                print(\"Coste después de la iteración {} : {}\".format(j,  np.squeeze(cost)))\n",
    "            if i % 100 == 0 or i == num_iter:\n",
    "                costs.append(cost)\n",
    "                \n",
    "        if regularizacion:\n",
    "            cost = funcion_coste_reg(AL, Y_n, parameters, lambd)\n",
    "        else:\n",
    "            cost = funcion_coste(AL, Y_n)\n",
    "        if print_cost and i % 100 == 0 or i == num_iter - 1:\n",
    "            print(\"Coste (de todo el conjunto) tras la época {}: {}\".format(i, np.squeeze(cost)))\n",
    "    \n",
    "    return parameters, costs"
   ]
  },
  {
   "cell_type": "markdown",
   "metadata": {},
   "source": [
    "Para finalizar, se define primero la función umbral, que consiste en transformar todos los valores por encima de cierto umbral en 1 y los que estén por debajo en 0."
   ]
  },
  {
   "cell_type": "code",
   "execution_count": 59,
   "metadata": {},
   "outputs": [],
   "source": [
    "def funcion_umbral(x):\n",
    "    if type(x) == np.ndarray:\n",
    "        a = np.copy(x)\n",
    "        for i in range(a.shape[0]):\n",
    "            for j in range(a.shape[1]):\n",
    "                if a[i,j] < 0.65:\n",
    "                    a[i,j] = int(0)\n",
    "                else:\n",
    "                    a[i,j] = int(1)\n",
    "        a = np.array(a, dtype = np.int64)\n",
    "    else:\n",
    "        if x<0.65:\n",
    "            a = 0\n",
    "        else:\n",
    "            a = 1\n",
    "    \n",
    "    return a\n",
    "    "
   ]
  },
  {
   "cell_type": "markdown",
   "metadata": {},
   "source": [
    "Ahora otra función que devuelva (y muestre se quiere) el cálculo de una serie de métricas de clasificación."
   ]
  },
  {
   "cell_type": "code",
   "execution_count": 60,
   "metadata": {},
   "outputs": [],
   "source": [
    "def metricas_clasificacion (AL,Y, print_m = True):\n",
    "    \"\"\"\n",
    "    Implementa el cálculo de las métricas de clasificación : exactitud (accuracy), precisión (precision), \n",
    "    sensibilidad o tasa de positivos verdaderos(recall o sensitivity), , especificidad o tasa de \n",
    "    negativos verdaderos (specificity), métrica F1 (F1 score) y matriz de confusión.\n",
    "    \n",
    "    Argumentos de entrada:\n",
    "    \n",
    "    AL -- Valor de la variable objetivo predicha, un array de numpy.\n",
    "    Y -- Valor real de la variable objetivo, otro array de numpy.\n",
    "    print_m -- Si es True, imprime por pantalla los valores de las métricas mencionadas.\n",
    "    \n",
    "    Salidas:\n",
    "    \n",
    "    exactitud -- Escalar, valor de la métrica.\n",
    "    precision -- Escalar, valor de la métrica.\n",
    "    sensibilidad -- Escalar, valor de la métrica.\n",
    "    especificidad -- Escalar, valor de la métrica.\n",
    "    f1 -- Escalar\n",
    "    \n",
    "    \"\"\"\n",
    "    TP = 0                       #TP = Positivos Verdaderos (True Positive)\n",
    "    TN = 0                       #TN = Negativos Verdaderos (True Negative)\n",
    "    FP = 0                       #FP = Positivos Falsos (False Positive)\n",
    "    FN = 0                       #FN = Negativos Falsos (False Negative)\n",
    "    \n",
    "    #Cálculo de TP,TN,FP,FN\n",
    "    for i in range(AL.shape[1]):\n",
    "        if AL[0,i] == 1 and Y[0,i] == 1:\n",
    "            TP += 1\n",
    "        elif AL[0,i] == 1 and Y[0,i] == 0:\n",
    "            FP += 1\n",
    "        elif AL[0,i] == 0 and Y[0,i] == 0:\n",
    "            TN += 1\n",
    "        elif AL[0,i] == 0 and Y[0,i] == 1:\n",
    "            FN += 1\n",
    "            \n",
    "    #Cálculo de métricas\n",
    "\n",
    "    exactitud = (TP + TN) / (TP + TN + FP + FN)\n",
    "    precision = TP / (TP + FP)\n",
    "    \n",
    "    sensibilidad = TP / ( TP + FN) \n",
    "    especificidad = TN / (TN + FP)\n",
    "    \n",
    "    f1 = 2 * (precision*sensibilidad) / (precision + sensibilidad)\n",
    "    \n",
    "    #Mostrar por pantalla resultados\n",
    "    if print_m:\n",
    "        \n",
    "        print(\"\\nLa matriz de confusión es:\\n\")\n",
    "        matriz = [ [\"Real|\", 0, TN , FP],\n",
    "                  [\"    |\", 1, FN , TN ]]\n",
    "     \n",
    "        print (\"{:<10}{:<10} {:<25}\".format('','Predicción',''))\n",
    "        print (\"{:<10}{:<10} {:<25}\".format('','__________',''))\n",
    "\n",
    "        print (\"{:<5}{:<5}{:<5} {:<25}\".format('','','0','1'))\n",
    "\n",
    "        for i in matriz:\n",
    "            a,b,c,d = i\n",
    "            print (\"{:<5}{:<5}{:<5} {:<25}\".format( a,b,c,d))\n",
    "        print(\"\\nLas métricas tienen los siguientes valores:\\n\"\n",
    "        \"\\t Exactitud: \", exactitud, \"\\n\\t Precision: \", precision, \"\\n\\t Sensibilidad: \", sensibilidad ,\n",
    "        \"\\n\\t Especificidad: \", especificidad, \"\\n\\t F1 : \", f1)\n",
    "    return exactitud, precision, sensibilidad, especificidad, f1"
   ]
  },
  {
   "cell_type": "markdown",
   "metadata": {},
   "source": [
    "Finalmente, dados los conjuntos de variables de entrada y objetivo, y los parámetros, se calculan las métricas."
   ]
  },
  {
   "cell_type": "code",
   "execution_count": 61,
   "metadata": {},
   "outputs": [],
   "source": [
    "def predice(X,Y,parametros, print_m = True):\n",
    "    \"\"\"\n",
    "    Función que devuelve la predicción del conjunto X con los parametros, y los compara según una métrica dada\n",
    "    \n",
    "    Argumentos de entrada:\n",
    "    \n",
    "    X- datos, array numpy de dimensión (n_x = entradas, m = número de muestras).\n",
    "    Y -variable objetivo o salida \"real\", array numpy de dimensión (n_y (=1 normalmente), m).\n",
    "    parametros- diccionario python conteniendo los parámetros (W's y b's).\n",
    "    print_m -- Si es True, imprime por pantalla los valores de las métricas mencionadas.\n",
    "    \n",
    "    Salidas:\n",
    "    AL- variable objetivo predicha con el modelo, que será un array numpy de dimensión = dim(Y).\n",
    "    metrica- valor de las métricas.\n",
    "    \"\"\"\n",
    "    A, caches = modelo_prop(X, parametros)\n",
    "    AL = funcion_umbral(A)\n",
    "    metricas = metricas_clasificacion (AL,Y, print_m)    \n",
    "    return AL, metricas"
   ]
  },
  {
   "cell_type": "markdown",
   "metadata": {},
   "source": [
    "<a name='5'></a>\n",
    "## 5. Aplicación"
   ]
  },
  {
   "cell_type": "markdown",
   "metadata": {},
   "source": [
    "Vamos a guardar en una lista los parámetros que vamos a usar para utilizar en distintos modelos:"
   ]
  },
  {
   "cell_type": "code",
   "execution_count": 62,
   "metadata": {},
   "outputs": [],
   "source": [
    "PARAMETROS_DEFINITIVOS = []"
   ]
  },
  {
   "cell_type": "markdown",
   "metadata": {},
   "source": [
    "<a name='5-1'></a>\n",
    "### 5.1 Red Neuronal Retroalimentada de L = 3 capas"
   ]
  },
  {
   "cell_type": "markdown",
   "metadata": {},
   "source": [
    "Comenzamos con L=3 capas, y, por ejemplo, las siguientes neuronas por capa (incluyendo la capa l = 0 ):"
   ]
  },
  {
   "cell_type": "code",
   "execution_count": 63,
   "metadata": {},
   "outputs": [],
   "source": [
    "dim_capas = [train_X.shape[0],5,3,1]"
   ]
  },
  {
   "cell_type": "markdown",
   "metadata": {},
   "source": [
    "Se va a realizar 2 tipos de redes: \n",
    "\n",
    "1) Redes con aprendizaje de lote completo o full-batch learning, esto es, se entrenará el conjunto de entrenamiento completo en cada iteración.\n",
    "\n",
    "2) Redes con aprendizaje de mini-lote o mini-batch learning, esto es, se entranará con descenso de gradiente estocástico, en cada iteración entrenaremos una parte del conjunto total elegida aleatoriamente.\n",
    "\n",
    "En ambos, comenzaremos ajustando la tasa de entrenamiento para finalmente comprobar si el modelo se ha sobreajustado. Además, estudiaremos el caso de ambas sin y con regularización, para ver si mejora o no la velocidad de aprendizaje o el sobre-ajuste."
   ]
  },
  {
   "cell_type": "markdown",
   "metadata": {},
   "source": [
    "#### 1)Aprendizaje  de  lote  completo  o  full-batch learning."
   ]
  },
  {
   "cell_type": "markdown",
   "metadata": {},
   "source": [
    "##### 1.1) Sin regularización"
   ]
  },
  {
   "cell_type": "markdown",
   "metadata": {},
   "source": [
    "##### Ajuste de tasa de entrenamiento"
   ]
  },
  {
   "cell_type": "markdown",
   "metadata": {},
   "source": [
    "Se desconoce cuál va a ser la **tasa de entrenamiento** óptima para que nuestro modelo ajuste los parámetros lo suficientemente bien, pero sin tardar demasiado tiempo. Para ello empezaremos entrenando una pequeña muestra de los datos, y a posterior una muestra mayor. En general, empezaremos con un valor pequeño, que iremos aumentando. En esta fase, no nos va a importar sobre-entrenar el modelo."
   ]
  },
  {
   "cell_type": "code",
   "execution_count": 77,
   "metadata": {},
   "outputs": [],
   "source": [
    "A0 = train_X[:,0:10]\n",
    "Y0 = train_Y[:,0:10]"
   ]
  },
  {
   "cell_type": "code",
   "execution_count": 78,
   "metadata": {},
   "outputs": [
    {
     "name": "stdout",
     "output_type": "stream",
     "text": [
      "Coste después de la iteración 0: 0.693203342374652\n",
      "Coste después de la iteración 100: 0.6926918544987378\n",
      "Coste después de la iteración 200: 0.692283319366608\n",
      "Coste después de la iteración 300: 0.6918851967001706\n",
      "Coste después de la iteración 400: 0.6914890132048143\n",
      "Coste después de la iteración 500: 0.6910947574435442\n"
     ]
    }
   ],
   "source": [
    "parametros, costes = Red_Neuronal(A0, Y0, dim_capas, tasa_aprendizaje = 0.001, num_iter = 500, print_cost = True)"
   ]
  },
  {
   "cell_type": "code",
   "execution_count": 79,
   "metadata": {},
   "outputs": [
    {
     "name": "stdout",
     "output_type": "stream",
     "text": [
      "Coste después de la iteración 0: 0.693203342374652\n",
      "Coste después de la iteración 100: 0.6891517083069532\n",
      "Coste después de la iteración 200: 0.6854081052455535\n",
      "Coste después de la iteración 300: 0.6818458061874026\n",
      "Coste después de la iteración 400: 0.6784566658025373\n",
      "Coste después de la iteración 500: 0.6752305282999854\n"
     ]
    }
   ],
   "source": [
    "parametros, costes = Red_Neuronal(A0, Y0, dim_capas, tasa_aprendizaje = 0.01, num_iter = 500, print_cost = True)"
   ]
  },
  {
   "cell_type": "code",
   "execution_count": 80,
   "metadata": {},
   "outputs": [
    {
     "name": "stdout",
     "output_type": "stream",
     "text": [
      "Coste después de la iteración 0: 0.693203342374652\n",
      "Coste después de la iteración 100: 0.661025284703453\n",
      "Coste después de la iteración 200: 0.6368878278624555\n",
      "Coste después de la iteración 300: 0.5510733628301574\n",
      "Coste después de la iteración 400: 0.43757603150828617\n",
      "Coste después de la iteración 500: 0.3492370680814839\n"
     ]
    }
   ],
   "source": [
    "parametros, costes = Red_Neuronal(A0, Y0, dim_capas, tasa_aprendizaje = 0.1, num_iter = 500, print_cost = True)"
   ]
  },
  {
   "cell_type": "code",
   "execution_count": 81,
   "metadata": {},
   "outputs": [
    {
     "name": "stdout",
     "output_type": "stream",
     "text": [
      "Coste después de la iteración 0: 0.693203342374652\n",
      "Coste después de la iteración 100: 0.6117168287167469\n",
      "Coste después de la iteración 200: 0.6108760253452064\n",
      "Coste después de la iteración 300: 0.6108644693200082\n",
      "Coste después de la iteración 400: 0.6108643044519726\n",
      "Coste después de la iteración 500: 0.6108643020892642\n"
     ]
    }
   ],
   "source": [
    "parametros, costes = Red_Neuronal(A0, Y0, dim_capas, tasa_aprendizaje = 1, num_iter = 500, print_cost = True)"
   ]
  },
  {
   "cell_type": "code",
   "execution_count": 82,
   "metadata": {},
   "outputs": [
    {
     "name": "stdout",
     "output_type": "stream",
     "text": [
      "\n",
      " \n",
      "Tasa de aprendizaje\t Costes tras 500 iteraciones\n",
      "      0.001\t\t 0.6910947574435442\n",
      "       0.01\t\t 0.6752305282999854\n",
      "        0.1\t\t 0.3492370680814839\n",
      "          1\t\t 0.6108643020892642\n",
      "\n",
      "\n"
     ]
    }
   ],
   "source": [
    "tasa_aprendizaje = [0.001,0.01,0.1,1]\n",
    "n = 500\n",
    "param = {}\n",
    "cost = {}\n",
    "for i in tasa_aprendizaje:\n",
    "    #print(\"Con la tasa de aprendizaje = \" + str(i))\n",
    "    parametros, costes = Red_Neuronal(A0, Y0, dim_capas, tasa_aprendizaje = i, num_iter = n)\n",
    "    param[i] = parametros\n",
    "    cost[i] = costes[-1]\n",
    "    #print(\"----____------______------______-----_____----\\n\")\n",
    "print(\"\\n \")\n",
    "print(\"{}\\t{}\".format(\"Tasa de aprendizaje\",\" Costes tras \" + str(n)+ \" iteraciones\"))\n",
    "for a,b in cost.items():\n",
    "    print(\"{:-11}\\t\\t {}\".format(a,b))\n",
    "print(\"\\n\")"
   ]
  },
  {
   "cell_type": "markdown",
   "metadata": {},
   "source": [
    "Ahora, se va a intentar ajustar utilizando el conjunto de entrenamiento entero. "
   ]
  },
  {
   "cell_type": "code",
   "execution_count": 83,
   "metadata": {},
   "outputs": [
    {
     "name": "stdout",
     "output_type": "stream",
     "text": [
      "Red Neuronal \"normal\" \n",
      "\n",
      " \n",
      "Tasa de aprendizaje\t Costes\n",
      "      0.001\t\t 0.6931691021201503\n",
      "       0.01\t\t 0.6921298585108653\n",
      "        0.1\t\t 0.6838534009658993\n",
      "          1\t\t 0.3418086851409991\n",
      "\n",
      "\n",
      "Tiempo de ejecución : \t 85.33719038963318\n"
     ]
    }
   ],
   "source": [
    "import time\n",
    "inicio = time.time()\n",
    "tasa_aprendizaje = [0.001,0.01,0.1,1]\n",
    "n = 2000\n",
    "param = {}\n",
    "cost = {}\n",
    "print(\"Red Neuronal \\\"normal\\\" \")\n",
    "for i in tasa_aprendizaje:\n",
    "    #print(\"Con la tasa de aprendizaje = \" + str(i))\n",
    "    parametros, costes = Red_Neuronal(train_X, train_Y, dim_capas, tasa_aprendizaje = i, num_iter = n)\n",
    "    param[i] = parametros\n",
    "    cost[i] = costes[-1]\n",
    "    #print(\"----____------______------______-----_____----\\n\")\n",
    "print(\"\\n \")\n",
    "print(\"{}\\t{}\".format(\"Tasa de aprendizaje\",\" Costes\"))\n",
    "for a,b in cost.items():\n",
    "    print(\"{:-11}\\t\\t {}\".format(a,b))\n",
    "print(\"\\n\")\n",
    "fin = time.time()\n",
    "print(\"Tiempo de ejecución : \\t \" + str(fin-inicio))"
   ]
  },
  {
   "cell_type": "markdown",
   "metadata": {},
   "source": [
    "Vamos a pobar con valores de tasa de entrenamiento entre entre 0.1 y 10"
   ]
  },
  {
   "cell_type": "code",
   "execution_count": 84,
   "metadata": {},
   "outputs": [
    {
     "name": "stdout",
     "output_type": "stream",
     "text": [
      "Red Neuronal \"normal\" \n"
     ]
    },
    {
     "name": "stderr",
     "output_type": "stream",
     "text": [
      "C:\\Users\\adria\\anaconda3\\lib\\site-packages\\ipykernel_launcher.py:16: RuntimeWarning: divide by zero encountered in log\n",
      "  app.launch_new_instance()\n",
      "C:\\Users\\adria\\anaconda3\\lib\\site-packages\\ipykernel_launcher.py:16: RuntimeWarning: invalid value encountered in multiply\n",
      "  app.launch_new_instance()\n",
      "C:\\Users\\adria\\anaconda3\\lib\\site-packages\\ipykernel_launcher.py:26: RuntimeWarning: invalid value encountered in true_divide\n"
     ]
    },
    {
     "name": "stdout",
     "output_type": "stream",
     "text": [
      "\n",
      " \n",
      "Tasa de aprendizaje\t Costes\n",
      "        0.1\t\t 0.6838534009658993\n",
      "        0.5\t\t 0.6512453514736515\n",
      "          1\t\t 0.3418086851409991\n",
      "          5\t\t 0.1545933834403862\n",
      "         10\t\t nan\n",
      "\n",
      "\n",
      "Tiempo de ejecución : \t 104.10702180862427\n"
     ]
    }
   ],
   "source": [
    "import time\n",
    "inicio = time.time()\n",
    "tasa_aprendizaje = [0.1,0.5,1,5, 10]\n",
    "param = {}\n",
    "cost = {}\n",
    "print(\"Red Neuronal \\\"normal\\\" \")\n",
    "for i in tasa_aprendizaje:\n",
    "    #print(\"Con la tasa de aprendizaje = \" + str(i))\n",
    "    parametros, costes = Red_Neuronal(train_X, train_Y, dim_capas, tasa_aprendizaje = i, num_iter = 2000)\n",
    "    param[i] = parametros\n",
    "    cost[i] = costes[-1]\n",
    "    #print(\"----____------______------______-----_____----\\n\")\n",
    "print(\"\\n \")\n",
    "print(\"{}\\t{}\".format(\"Tasa de aprendizaje\",\" Costes\"))\n",
    "for a,b in cost.items():\n",
    "    print(\"{:-11}\\t\\t {}\".format(a,b))\n",
    "print(\"\\n\")\n",
    "fin = time.time()\n",
    "print(\"Tiempo de ejecución : \\t \" + str(fin-inicio))"
   ]
  },
  {
   "cell_type": "markdown",
   "metadata": {},
   "source": [
    "El modelo que mejor funciona aparentemente es el de tasa de aprendizaje = 5. Veamos como se comporta:"
   ]
  },
  {
   "cell_type": "code",
   "execution_count": 87,
   "metadata": {},
   "outputs": [
    {
     "name": "stdout",
     "output_type": "stream",
     "text": [
      "Coste después de la iteración 0: 0.6933432574172309\n",
      "Coste después de la iteración 100: 0.673070789269953\n",
      "Coste después de la iteración 200: 0.6517533499738906\n",
      "Coste después de la iteración 300: 0.4345197540899315\n",
      "Coste después de la iteración 400: 0.34244961262432516\n",
      "Coste después de la iteración 500: 0.2908700258595973\n",
      "Coste después de la iteración 600: 0.2575013275003276\n",
      "Coste después de la iteración 700: 0.23890360818058515\n",
      "Coste después de la iteración 800: 0.21080849730028048\n",
      "Coste después de la iteración 900: 0.5405302492378178\n",
      "Coste después de la iteración 1000: 0.3534844185062379\n",
      "Coste después de la iteración 1100: 0.20064203181657947\n",
      "Coste después de la iteración 1200: 0.17281537612229986\n",
      "Coste después de la iteración 1300: 0.1608193235618614\n",
      "Coste después de la iteración 1400: 0.15332108325638474\n",
      "Coste después de la iteración 1500: 0.14925166104182305\n",
      "Coste después de la iteración 1600: 0.14544077368344843\n",
      "Coste después de la iteración 1700: 0.1412241589403832\n",
      "Coste después de la iteración 1800: 0.13035969058020278\n",
      "Coste después de la iteración 1900: 0.14052410878091462\n",
      "Coste después de la iteración 2000: 0.1545933834403862\n"
     ]
    }
   ],
   "source": [
    "parametros, costes = Red_Neuronal(train_X, train_Y, dim_capas, tasa_aprendizaje = 5, num_iter = 2000, print_cost = True)"
   ]
  },
  {
   "cell_type": "code",
   "execution_count": 89,
   "metadata": {},
   "outputs": [
    {
     "name": "stdout",
     "output_type": "stream",
     "text": [
      "Coste después de la iteración 0: 0.6933432574172309\n",
      "Coste después de la iteración 100: 0.6818143998798094\n",
      "Coste después de la iteración 200: 0.6730772520823751\n",
      "Coste después de la iteración 300: 0.6651224506789805\n",
      "Coste después de la iteración 400: 0.6514106369871451\n",
      "Coste después de la iteración 500: 0.579553884930274\n",
      "Coste después de la iteración 600: 0.43281885720144625\n",
      "Coste después de la iteración 700: 0.3759198539195912\n",
      "Coste después de la iteración 800: 0.3419794124329365\n",
      "Coste después de la iteración 900: 0.31331854800360015\n",
      "Coste después de la iteración 1000: 0.29059450878120874\n",
      "Coste después de la iteración 1100: 0.2722946617542971\n",
      "Coste después de la iteración 1200: 0.2573567242109796\n",
      "Coste después de la iteración 1300: 0.24644466970814963\n",
      "Coste después de la iteración 1400: 0.2388622651777679\n",
      "Coste después de la iteración 1500: 0.23006165314352334\n",
      "Coste después de la iteración 1600: 0.22063270823386472\n",
      "Coste después de la iteración 1700: 0.21277032350185482\n",
      "Coste después de la iteración 1800: 0.19981230583259568\n",
      "Coste después de la iteración 1900: 0.19078592456136084\n",
      "Coste después de la iteración 2000: 0.18357560665587608\n"
     ]
    }
   ],
   "source": [
    "parametros, costes = Red_Neuronal(train_X, train_Y, dim_capas, tasa_aprendizaje = 2.5, num_iter = 2000, print_cost = True)"
   ]
  },
  {
   "cell_type": "markdown",
   "metadata": {},
   "source": [
    "El resultado converge de manera más uniforme con el valor 2.5, que es el que vamos a guardar."
   ]
  },
  {
   "cell_type": "code",
   "execution_count": 90,
   "metadata": {},
   "outputs": [],
   "source": [
    "PARAMETROS_DEFINITIVOS.append(parametros)"
   ]
  },
  {
   "cell_type": "markdown",
   "metadata": {},
   "source": [
    "##### Estudio de infra-aprendizaje y sobre-aprendizaje"
   ]
  },
  {
   "cell_type": "markdown",
   "metadata": {},
   "source": [
    "En primer lugar, vamos a observar el valor de las métricas sobre el conjunto de entrenamiento, con los que se deben obtener resultados buenos, para luego observarlos en los conjuntos de validación y observar si el modelo se sobre-ajusta al primer conjunto."
   ]
  },
  {
   "cell_type": "code",
   "execution_count": 92,
   "metadata": {},
   "outputs": [
    {
     "name": "stdout",
     "output_type": "stream",
     "text": [
      "Red Neuronal Retroalimentada  \"normal\"\n",
      "\n",
      "La matriz de confusión es:\n",
      "\n",
      "          Predicción                          \n",
      "          __________                          \n",
      "          0     1                        \n",
      "Real|0    309   5                        \n",
      "    |1    9     309                      \n",
      "\n",
      "Las métricas tienen los siguientes valores:\n",
      "\t Exactitud:  0.9707112970711297 \n",
      "\t Precision:  0.96875 \n",
      "\t Sensibilidad:  0.9451219512195121 \n",
      "\t Especificidad:  0.9840764331210191 \n",
      "\t F1 :  0.95679012345679\n",
      "\n",
      "----____------______------______-----_____----\n",
      "\n"
     ]
    }
   ],
   "source": [
    "l = \"\\\"normal\\\"\"\n",
    "\n",
    "print(\"Red Neuronal Retroalimentada \", l )\n",
    "AL, m = predice(train_X,train_Y,parametros)\n",
    "print(\"\\n----____------______------______-----_____----\\n\")\n",
    "    "
   ]
  },
  {
   "cell_type": "markdown",
   "metadata": {},
   "source": [
    "Como cabía de esperar, debido al valor de la función error, el modelo se ajusta bien al conjunto de entrenamiento. En la matriz de confusión, los falsos positivos y negativos ( predice 1, real 0 y viceversa), son valores muy bajos, y así se refleja en todas las métricas, con valores cercanos a 1, que es lo que buscamos.\n",
    "\n",
    "Podríamos ajustar el modelo para que la tasa de verdaderos positivos o sensibilidad; o la tasa de verdaderos negativos o especificidad, fueran lo mayor posible (maximizar una de ellas manteniendo la otra alta). Esto es, si la tasa de verdaderos positivos fuese 1 o prácticamente, podríamos asegurar que si el modelo da positivo, es casi seguro que el paciente es positivo, o viceversa (depederá de la situación que nos interese). Esto no lo vamos a hacer, pues se sale de los objetivos de este trabajo."
   ]
  },
  {
   "cell_type": "code",
   "execution_count": 94,
   "metadata": {},
   "outputs": [
    {
     "name": "stdout",
     "output_type": "stream",
     "text": [
      "Red Neuronal Retroalimentada  \"normal\"\n",
      "\n",
      "La matriz de confusión es:\n",
      "\n",
      "          Predicción                          \n",
      "          __________                          \n",
      "          0     1                        \n",
      "Real|0    126   4                        \n",
      "    |1    9     126                      \n",
      "\n",
      "Las métricas tienen los siguientes valores:\n",
      "\t Exactitud:  0.9365853658536586 \n",
      "\t Precision:  0.9428571428571428 \n",
      "\t Sensibilidad:  0.88 \n",
      "\t Especificidad:  0.9692307692307692 \n",
      "\t F1 :  0.9103448275862068\n",
      "\n",
      "----____------______------______-----_____----\n",
      "\n"
     ]
    }
   ],
   "source": [
    "l = \"\\\"normal\\\"\"\n",
    "\n",
    "\n",
    "print(\"Red Neuronal Retroalimentada \", l)\n",
    "AL, m = predice(val_X,val_Y,parametros)\n",
    "print(\"\\n----____------______------______-----_____----\\n\")\n",
    "    "
   ]
  },
  {
   "cell_type": "markdown",
   "metadata": {},
   "source": [
    "Con el conjunto de validación los resultados siguen siendo realmente buenos. Esto quiere decir que nuestra red no se ha sobreajustado en exceso al conjunto de entrenamiento, y que puede generalizar bien. Aún con estos resultados, veremos como se comporta con regularización."
   ]
  },
  {
   "cell_type": "markdown",
   "metadata": {},
   "source": [
    "###### 1.2) Con regularización"
   ]
  },
  {
   "cell_type": "markdown",
   "metadata": {},
   "source": [
    "##### Ajuste de tasa de entrenamiento"
   ]
  },
  {
   "cell_type": "code",
   "execution_count": 95,
   "metadata": {},
   "outputs": [
    {
     "name": "stdout",
     "output_type": "stream",
     "text": [
      "Red Neuronal con regularización \n",
      "\n",
      " \n",
      "Tasa de aprendizaje\t Costes\n",
      "      0.001\t\t 0.6932451730763832\n",
      "       0.01\t\t 0.6922053576335767\n",
      "        0.1\t\t 0.6839242368910564\n",
      "          1\t\t 0.3557474712928939\n",
      "\n",
      "\n",
      "Tiempo de ejecución : \t 82.11705136299133\n"
     ]
    }
   ],
   "source": [
    "import time\n",
    "inicio = time.time()\n",
    "tasa_aprendizaje = [0.001,0.01,0.1,1]\n",
    "n = 2000\n",
    "param = {}\n",
    "cost = {}\n",
    "print(\"Red Neuronal con regularización \")\n",
    "for i in tasa_aprendizaje:\n",
    "    #print(\"Con la tasa de aprendizaje = \" + str(i))\n",
    "    parametros, costes = Red_Neuronal(train_X, train_Y, dim_capas, tasa_aprendizaje = i, num_iter = n, regularizacion = True)\n",
    "    param[i] = parametros\n",
    "    cost[i] = costes[-1]\n",
    "    #print(\"----____------______------______-----_____----\\n\")\n",
    "print(\"\\n \")\n",
    "print(\"{}\\t{}\".format(\"Tasa de aprendizaje\",\" Costes\"))\n",
    "for a,b in cost.items():\n",
    "    print(\"{:-11}\\t\\t {}\".format(a,b))\n",
    "print(\"\\n\")\n",
    "fin = time.time()\n",
    "print(\"Tiempo de ejecución : \\t \" + str(fin-inicio))"
   ]
  },
  {
   "cell_type": "markdown",
   "metadata": {},
   "source": [
    "Igual que antes, vamos a pobar con valores de tasa de entrenamiento entre entre 0.1 y 10."
   ]
  },
  {
   "cell_type": "code",
   "execution_count": 96,
   "metadata": {},
   "outputs": [
    {
     "name": "stdout",
     "output_type": "stream",
     "text": [
      "Red Neuronal con regularización \n"
     ]
    },
    {
     "name": "stderr",
     "output_type": "stream",
     "text": [
      "C:\\Users\\adria\\anaconda3\\lib\\site-packages\\ipykernel_launcher.py:16: RuntimeWarning: divide by zero encountered in log\n",
      "  app.launch_new_instance()\n",
      "C:\\Users\\adria\\anaconda3\\lib\\site-packages\\ipykernel_launcher.py:16: RuntimeWarning: invalid value encountered in multiply\n",
      "  app.launch_new_instance()\n",
      "C:\\Users\\adria\\anaconda3\\lib\\site-packages\\ipykernel_launcher.py:26: RuntimeWarning: divide by zero encountered in true_divide\n",
      "C:\\Users\\adria\\anaconda3\\lib\\site-packages\\ipykernel_launcher.py:26: RuntimeWarning: invalid value encountered in true_divide\n",
      "C:\\Users\\adria\\anaconda3\\lib\\site-packages\\ipykernel_launcher.py:14: RuntimeWarning: invalid value encountered in multiply\n",
      "  \n",
      "C:\\Users\\adria\\anaconda3\\lib\\site-packages\\ipykernel_launcher.py:43: RuntimeWarning: invalid value encountered in multiply\n"
     ]
    },
    {
     "name": "stdout",
     "output_type": "stream",
     "text": [
      "\n",
      " \n",
      "Tasa de aprendizaje\t Costes\n",
      "        0.1\t\t 0.6839242368910564\n",
      "        0.5\t\t 0.6562700210576674\n",
      "          1\t\t 0.3557474712928939\n",
      "          5\t\t 0.2422598192235838\n",
      "         10\t\t nan\n",
      "\n",
      "\n",
      "Tiempo de ejecución : \t 114.34061121940613\n"
     ]
    }
   ],
   "source": [
    "import time\n",
    "inicio = time.time()\n",
    "tasa_aprendizaje = [0.1,0.5,1,5,10]\n",
    "n = 2000\n",
    "param = {}\n",
    "cost = {}\n",
    "print(\"Red Neuronal con regularización \")\n",
    "for i in tasa_aprendizaje:\n",
    "    #print(\"Con la tasa de aprendizaje = \" + str(i))\n",
    "    parametros, costes = Red_Neuronal(train_X, train_Y, dim_capas, tasa_aprendizaje = i, num_iter = n, regularizacion = True)\n",
    "    param[i] = parametros\n",
    "    cost[i] = costes[-1]\n",
    "    #print(\"----____------______------______-----_____----\\n\")\n",
    "print(\"\\n \")\n",
    "print(\"{}\\t{}\".format(\"Tasa de aprendizaje\",\" Costes\"))\n",
    "for a,b in cost.items():\n",
    "    print(\"{:-11}\\t\\t {}\".format(a,b))\n",
    "print(\"\\n\")\n",
    "fin = time.time()\n",
    "print(\"Tiempo de ejecución : \\t \" + str(fin-inicio))"
   ]
  },
  {
   "cell_type": "code",
   "execution_count": 97,
   "metadata": {},
   "outputs": [
    {
     "name": "stdout",
     "output_type": "stream",
     "text": [
      "Coste después de la iteración 0: 0.6934196047553391\n",
      "Coste después de la iteración 100: 0.6731470849756572\n",
      "Coste después de la iteración 200: 0.6565044309547537\n",
      "Coste después de la iteración 300: 0.48431843494353655\n",
      "Coste después de la iteración 400: 0.356444068292874\n",
      "Coste después de la iteración 500: 0.3046661138953783\n",
      "Coste después de la iteración 600: 0.2714012383226049\n",
      "Coste después de la iteración 700: 0.25125776601939936\n",
      "Coste después de la iteración 800: 0.2397942625536391\n",
      "Coste después de la iteración 900: 0.21318806350986452\n",
      "Coste después de la iteración 1000: 0.6563451811898929\n",
      "Coste después de la iteración 1100: 0.5155978017584902\n",
      "Coste después de la iteración 1200: 0.3711044941477362\n",
      "Coste después de la iteración 1300: 0.30123607373991956\n",
      "Coste después de la iteración 1400: 0.2804575919836667\n",
      "Coste después de la iteración 1500: 0.2672622014800249\n",
      "Coste después de la iteración 1600: 0.2574800215384637\n",
      "Coste después de la iteración 1700: 0.25110331052046975\n",
      "Coste después de la iteración 1800: 0.247825816977038\n",
      "Coste después de la iteración 1900: 0.24792255984904268\n",
      "Coste después de la iteración 2000: 0.2422598192235838\n"
     ]
    }
   ],
   "source": [
    "parametros, costes = Red_Neuronal(train_X, train_Y, dim_capas, tasa_aprendizaje =5, num_iter = 2000, print_cost = True, regularizacion = True)"
   ]
  },
  {
   "cell_type": "code",
   "execution_count": 98,
   "metadata": {},
   "outputs": [
    {
     "name": "stdout",
     "output_type": "stream",
     "text": [
      "Coste después de la iteración 0: 0.6934196047553391\n",
      "Coste después de la iteración 100: 0.6818840361709034\n",
      "Coste después de la iteración 200: 0.6731551940878415\n",
      "Coste después de la iteración 300: 0.6657076163997286\n",
      "Coste después de la iteración 400: 0.6563677176870578\n",
      "Coste después de la iteración 500: 0.6192254764327721\n",
      "Coste después de la iteración 600: 0.48187559748223124\n",
      "Coste después de la iteración 700: 0.39322659065008114\n",
      "Coste después de la iteración 800: 0.35601126852227927\n",
      "Coste después de la iteración 900: 0.3277050131749432\n",
      "Coste después de la iteración 1000: 0.3044086344974817\n",
      "Coste después de la iteración 1100: 0.28558923765217814\n",
      "Coste después de la iteración 1200: 0.2712906541501961\n",
      "Coste después de la iteración 1300: 0.25998487928864505\n",
      "Coste después de la iteración 1400: 0.2512104524292507\n",
      "Coste después de la iteración 1500: 0.24443404560413276\n",
      "Coste después de la iteración 1600: 0.2398606601629196\n",
      "Coste después de la iteración 1700: 0.23841147465798748\n",
      "Coste después de la iteración 1800: 0.23659585425099225\n",
      "Coste después de la iteración 1900: 0.2296826795962435\n",
      "Coste después de la iteración 2000: 0.22469622891254284\n"
     ]
    }
   ],
   "source": [
    "parametros, costes = Red_Neuronal(train_X, train_Y, dim_capas, tasa_aprendizaje = 2.5, num_iter = 2000, print_cost = True, regularizacion = True)"
   ]
  },
  {
   "cell_type": "markdown",
   "metadata": {},
   "source": [
    "También es más \"estable\" el modelo con la tasa = 2.5 ."
   ]
  },
  {
   "cell_type": "code",
   "execution_count": 99,
   "metadata": {},
   "outputs": [],
   "source": [
    "PARAMETROS_DEFINITIVOS.append(parametros)"
   ]
  },
  {
   "cell_type": "markdown",
   "metadata": {},
   "source": [
    "##### Estudio de infra-aprendizaje y sobre-aprendizaje"
   ]
  },
  {
   "cell_type": "code",
   "execution_count": 100,
   "metadata": {},
   "outputs": [
    {
     "name": "stdout",
     "output_type": "stream",
     "text": [
      "Red Neuronal Retroalimentada  con regularización\n",
      "\n",
      "La matriz de confusión es:\n",
      "\n",
      "          Predicción                          \n",
      "          __________                          \n",
      "          0     1                        \n",
      "Real|0    305   9                        \n",
      "    |1    3     305                      \n",
      "\n",
      "Las métricas tienen los siguientes valores:\n",
      "\t Exactitud:  0.9748953974895398 \n",
      "\t Precision:  0.9470588235294117 \n",
      "\t Sensibilidad:  0.9817073170731707 \n",
      "\t Especificidad:  0.9713375796178344 \n",
      "\t F1 :  0.9640718562874251\n",
      "\n",
      "----____------______------______-----_____----\n",
      "\n"
     ]
    }
   ],
   "source": [
    "l =\"con regularización\"\n",
    "\n",
    "print(\"Red Neuronal Retroalimentada \", l )\n",
    "AL, m = predice(train_X,train_Y,parametros)\n",
    "print(\"\\n----____------______------______-----_____----\\n\")"
   ]
  },
  {
   "cell_type": "code",
   "execution_count": 101,
   "metadata": {},
   "outputs": [
    {
     "name": "stdout",
     "output_type": "stream",
     "text": [
      "Red Neuronal Retroalimentada  con regularización\n",
      "\n",
      "La matriz de confusión es:\n",
      "\n",
      "          Predicción                          \n",
      "          __________                          \n",
      "          0     1                        \n",
      "Real|0    125   5                        \n",
      "    |1    3     125                      \n",
      "\n",
      "Las métricas tienen los siguientes valores:\n",
      "\t Exactitud:  0.9609756097560975 \n",
      "\t Precision:  0.935064935064935 \n",
      "\t Sensibilidad:  0.96 \n",
      "\t Especificidad:  0.9615384615384616 \n",
      "\t F1 :  0.9473684210526316\n",
      "\n",
      "----____------______------______-----_____----\n",
      "\n"
     ]
    }
   ],
   "source": [
    "l = \"con regularización\"\n",
    "\n",
    "print(\"Red Neuronal Retroalimentada \", l )\n",
    "AL, m = predice(val_X,val_Y,parametros)\n",
    "print(\"\\n----____------______------______-----_____----\\n\")"
   ]
  },
  {
   "cell_type": "markdown",
   "metadata": {},
   "source": [
    "De nuevo, los resultados son buenos con el conjunto de entrenamiento, y se observa una ligera mejoría con la regularización frente al sobre-aprendizaje. Los falsos positivos y negativos pasan de 4-9 a 5-3, lo que mejora  la sensibilidad."
   ]
  },
  {
   "cell_type": "markdown",
   "metadata": {},
   "source": [
    "Pasemos a la optimización por descenso de gradiente estocástico."
   ]
  },
  {
   "cell_type": "markdown",
   "metadata": {},
   "source": [
    "##### 2) Aprendizaje de mini-lote o mini-batch learning (Descenso de Gradiente Estocástico)."
   ]
  },
  {
   "cell_type": "markdown",
   "metadata": {},
   "source": [
    "###### 2.1) Sin regularización"
   ]
  },
  {
   "cell_type": "markdown",
   "metadata": {},
   "source": [
    "##### Ajuste de tasa de entrenamiento"
   ]
  },
  {
   "cell_type": "code",
   "execution_count": 102,
   "metadata": {},
   "outputs": [
    {
     "name": "stdout",
     "output_type": "stream",
     "text": [
      "Red Neuronal con descenso de gradiente estocástico \n",
      "\n",
      " \n",
      "Tasa de aprendizaje\t Costes\n",
      "      0.001\t\t 0.6784737953254122\n",
      "       0.01\t\t 0.2281431479434985\n",
      "        0.1\t\t 0.6441859959001907\n",
      "          1\t\t 0.6587510951092266\n",
      "\n",
      "\n",
      "Tiempo de ejecución : \t 114.45216226577759\n"
     ]
    }
   ],
   "source": [
    "import time\n",
    "inicio = time.time()\n",
    "tasa_aprendizaje = [0.001,0.01,0.1,1]\n",
    "n = 2000\n",
    "param = {}\n",
    "cost = {}\n",
    "print(\"Red Neuronal con descenso de gradiente estocástico \")\n",
    "for i in tasa_aprendizaje:\n",
    "    #print(\"Con la tasa de aprendizaje = \" + str(i))\n",
    "    parametros, costes = Red_Neuronal_SGD(train_X, train_Y, dim_capas, tasa_aprendizaje = i, num_iter = n)\n",
    "    param[i] = parametros\n",
    "    cost[i] = costes[-1]\n",
    "    #print(\"----____------______------______-----_____----\\n\")\n",
    "print(\"\\n \")\n",
    "print(\"{}\\t{}\".format(\"Tasa de aprendizaje\",\" Costes\"))\n",
    "for a,b in cost.items():\n",
    "    print(\"{:-11}\\t\\t {}\".format(a,b))\n",
    "print(\"\\n\")\n",
    "fin = time.time()\n",
    "print(\"Tiempo de ejecución : \\t \" + str(fin-inicio))"
   ]
  },
  {
   "cell_type": "markdown",
   "metadata": {},
   "source": [
    "A diferencia de los anteriores, el comportamiento en tasa = 0.01 parece mucho mejor. Veámoslo:"
   ]
  },
  {
   "cell_type": "code",
   "execution_count": 103,
   "metadata": {},
   "outputs": [
    {
     "name": "stdout",
     "output_type": "stream",
     "text": [
      "Coste (de todo el conjunto) tras la época 0: 0.6933342613987905\n",
      "Coste (de todo el conjunto) tras la época 100: 0.6851384299921891\n",
      "Coste (de todo el conjunto) tras la época 200: 0.6782977661026768\n",
      "Coste (de todo el conjunto) tras la época 300: 0.6730734469508428\n",
      "Coste (de todo el conjunto) tras la época 400: 0.6674078627994994\n",
      "Coste (de todo el conjunto) tras la época 500: 0.6586165832304933\n",
      "Coste (de todo el conjunto) tras la época 600: 0.6318745466950431\n",
      "Coste (de todo el conjunto) tras la época 700: 0.5405454309048937\n",
      "Coste (de todo el conjunto) tras la época 800: 0.43667763286887945\n",
      "Coste (de todo el conjunto) tras la época 900: 0.3927462779096023\n",
      "Coste (de todo el conjunto) tras la época 1000: 0.35857282751142583\n",
      "Coste (de todo el conjunto) tras la época 1100: 0.3423321278310244\n",
      "Coste (de todo el conjunto) tras la época 1200: 0.31883147342284535\n",
      "Coste (de todo el conjunto) tras la época 1300: 0.304697275387103\n",
      "Coste (de todo el conjunto) tras la época 1400: 0.2854505381470681\n",
      "Coste (de todo el conjunto) tras la época 1500: 0.28143078242660674\n",
      "Coste (de todo el conjunto) tras la época 1600: 0.2697643459443044\n",
      "Coste (de todo el conjunto) tras la época 1700: 0.260718843910582\n",
      "Coste (de todo el conjunto) tras la época 1800: 0.24430377836510328\n",
      "Coste (de todo el conjunto) tras la época 1900: 0.23320010789094106\n",
      "Coste (de todo el conjunto) tras la época 2000: 0.2281431479434985\n"
     ]
    }
   ],
   "source": [
    "parametros, costes = Red_Neuronal_SGD(train_X, train_Y, dim_capas, tasa_aprendizaje = 0.01, num_iter = n, print_cost = True)"
   ]
  },
  {
   "cell_type": "code",
   "execution_count": 104,
   "metadata": {},
   "outputs": [],
   "source": [
    "PARAMETROS_DEFINITIVOS.append(parametros)"
   ]
  },
  {
   "cell_type": "markdown",
   "metadata": {},
   "source": [
    "##### Estudio de infra-aprendizaje y sobre-aprendizaje"
   ]
  },
  {
   "cell_type": "code",
   "execution_count": 105,
   "metadata": {},
   "outputs": [
    {
     "name": "stdout",
     "output_type": "stream",
     "text": [
      "Red Neuronal Retroalimentada  con descenso de gradiente estocástico\n",
      "\n",
      "La matriz de confusión es:\n",
      "\n",
      "          Predicción                          \n",
      "          __________                          \n",
      "          0     1                        \n",
      "Real|0    308   6                        \n",
      "    |1    10    308                      \n",
      "\n",
      "Las métricas tienen los siguientes valores:\n",
      "\t Exactitud:  0.9665271966527197 \n",
      "\t Precision:  0.9625 \n",
      "\t Sensibilidad:  0.9390243902439024 \n",
      "\t Especificidad:  0.9808917197452229 \n",
      "\t F1 :  0.9506172839506174\n",
      "\n",
      "----____------______------______-----_____----\n",
      "\n"
     ]
    }
   ],
   "source": [
    "l = \"con descenso de gradiente estocástico\"\n",
    "\n",
    "print(\"Red Neuronal Retroalimentada \", l )\n",
    "AL, m = predice(train_X,train_Y,parametros)\n",
    "\n",
    "print(\"\\n----____------______------______-----_____----\\n\")"
   ]
  },
  {
   "cell_type": "code",
   "execution_count": 106,
   "metadata": {},
   "outputs": [
    {
     "name": "stdout",
     "output_type": "stream",
     "text": [
      "Red Neuronal Retroalimentada  con descenso de gradiente estocástico\n",
      "\n",
      "La matriz de confusión es:\n",
      "\n",
      "          Predicción                          \n",
      "          __________                          \n",
      "          0     1                        \n",
      "Real|0    126   4                        \n",
      "    |1    10    126                      \n",
      "\n",
      "Las métricas tienen los siguientes valores:\n",
      "\t Exactitud:  0.9317073170731708 \n",
      "\t Precision:  0.9420289855072463 \n",
      "\t Sensibilidad:  0.8666666666666667 \n",
      "\t Especificidad:  0.9692307692307692 \n",
      "\t F1 :  0.9027777777777778\n",
      "\n",
      "----____------______------______-----_____----\n",
      "\n"
     ]
    }
   ],
   "source": [
    "l = \"con descenso de gradiente estocástico\"\n",
    "\n",
    "print(\"Red Neuronal Retroalimentada \", l )\n",
    "AL, m = predice(val_X,val_Y,parametros)\n",
    "\n",
    "print(\"\\n----____------______------______-----_____----\\n\")"
   ]
  },
  {
   "cell_type": "markdown",
   "metadata": {},
   "source": [
    "Al igual que en la red sin descenso de gradiente estocástico ni regularización, obtenemos resultados bastante buenos en cuanto al conjunto de entrenamiento, aunque en el de validación la sensibilidad es ligeramente mejorable. Veamos si se mejora con la regularización"
   ]
  },
  {
   "cell_type": "markdown",
   "metadata": {},
   "source": [
    "###### 2.2) Con regularización"
   ]
  },
  {
   "cell_type": "markdown",
   "metadata": {},
   "source": [
    "##### Ajuste de tasa de entrenamiento"
   ]
  },
  {
   "cell_type": "code",
   "execution_count": 107,
   "metadata": {},
   "outputs": [
    {
     "name": "stdout",
     "output_type": "stream",
     "text": [
      "Red neuronal con descenso de gradiente estocástico y regularización\n",
      "\n",
      " \n",
      "Tasa de aprendizaje\t Costes\n",
      "      0.001\t\t 0.678539356772218\n",
      "       0.01\t\t 0.24174353405202936\n",
      "        0.1\t\t 0.6442181208958084\n",
      "          1\t\t 0.6587727085545806\n",
      "\n",
      "\n",
      "Tiempo de ejecución : \t 186.42528557777405\n"
     ]
    }
   ],
   "source": [
    "import time\n",
    "inicio = time.time()\n",
    "tasa_aprendizaje = [0.001,0.01,0.1,1]\n",
    "n = 2000\n",
    "param = {}\n",
    "cost = {}\n",
    "print(\"Red neuronal con descenso de gradiente estocástico y regularización\")\n",
    "for i in tasa_aprendizaje:\n",
    "    #print(\"Con la tasa de aprendizaje = \" + str(i))\n",
    "    parametros, costes = Red_Neuronal_SGD(train_X, train_Y, dim_capas, tasa_aprendizaje = i, \n",
    "                                          num_iter = n, regularizacion = True)\n",
    "    param[i] = parametros\n",
    "    cost[i] = costes[-1]\n",
    "    #print(\"----____------______------______-----_____----\\n\")\n",
    "print(\"\\n \")\n",
    "print(\"{}\\t{}\".format(\"Tasa de aprendizaje\",\" Costes\"))\n",
    "for a,b in cost.items():\n",
    "    print(\"{:-11}\\t\\t {}\".format(a,b))\n",
    "print(\"\\n\")\n",
    "fin = time.time()\n",
    "print(\"Tiempo de ejecución : \\t \" + str(fin-inicio))"
   ]
  },
  {
   "cell_type": "markdown",
   "metadata": {},
   "source": [
    "La tasa = 0.01 parece la mejor. Veámoslo:"
   ]
  },
  {
   "cell_type": "code",
   "execution_count": 108,
   "metadata": {},
   "outputs": [
    {
     "name": "stdout",
     "output_type": "stream",
     "text": [
      "Coste (de todo el conjunto) tras la época 0: 0.6934105147510733\n",
      "Coste (de todo el conjunto) tras la época 100: 0.6852052545714228\n",
      "Coste (de todo el conjunto) tras la época 200: 0.6783688981011858\n",
      "Coste (de todo el conjunto) tras la época 300: 0.6732328627590296\n",
      "Coste (de todo el conjunto) tras la época 400: 0.6681797830677738\n",
      "Coste (de todo el conjunto) tras la época 500: 0.6621223529072474\n",
      "Coste (de todo el conjunto) tras la época 600: 0.6496250096251796\n",
      "Coste (de todo el conjunto) tras la época 700: 0.6036508575483358\n",
      "Coste (de todo el conjunto) tras la época 800: 0.4912882653552644\n",
      "Coste (de todo el conjunto) tras la época 900: 0.41725252538113194\n",
      "Coste (de todo el conjunto) tras la época 1000: 0.3775008586765459\n",
      "Coste (de todo el conjunto) tras la época 1100: 0.3594675501365455\n",
      "Coste (de todo el conjunto) tras la época 1200: 0.3356678202497911\n",
      "Coste (de todo el conjunto) tras la época 1300: 0.31983293196519413\n",
      "Coste (de todo el conjunto) tras la época 1400: 0.2998290996001227\n",
      "Coste (de todo el conjunto) tras la época 1500: 0.29150928108892976\n",
      "Coste (de todo el conjunto) tras la época 1600: 0.281916680088152\n",
      "Coste (de todo el conjunto) tras la época 1700: 0.2737462032821656\n",
      "Coste (de todo el conjunto) tras la época 1800: 0.26306075823266967\n",
      "Coste (de todo el conjunto) tras la época 1900: 0.25330553285704943\n",
      "Coste (de todo el conjunto) tras la época 2000: 0.24174353405202936\n"
     ]
    }
   ],
   "source": [
    "parametros, costes = Red_Neuronal_SGD(train_X, train_Y, dim_capas, tasa_aprendizaje = 0.01, num_iter = n, \n",
    "                                      regularizacion = True, print_cost = True)"
   ]
  },
  {
   "cell_type": "code",
   "execution_count": 109,
   "metadata": {},
   "outputs": [],
   "source": [
    "PARAMETROS_DEFINITIVOS.append(parametros)"
   ]
  },
  {
   "cell_type": "markdown",
   "metadata": {},
   "source": [
    "##### Estudio de infra-aprendizaje y sobre-aprendizaje"
   ]
  },
  {
   "cell_type": "code",
   "execution_count": 110,
   "metadata": {},
   "outputs": [
    {
     "name": "stdout",
     "output_type": "stream",
     "text": [
      "Red Neuronal Retroalimentada  con descenso de gradiente estocástico y regularización\n",
      "\n",
      "La matriz de confusión es:\n",
      "\n",
      "          Predicción                          \n",
      "          __________                          \n",
      "          0     1                        \n",
      "Real|0    305   9                        \n",
      "    |1    3     305                      \n",
      "\n",
      "Las métricas tienen los siguientes valores:\n",
      "\t Exactitud:  0.9748953974895398 \n",
      "\t Precision:  0.9470588235294117 \n",
      "\t Sensibilidad:  0.9817073170731707 \n",
      "\t Especificidad:  0.9713375796178344 \n",
      "\t F1 :  0.9640718562874251\n",
      "\n",
      "----____------______------______-----_____----\n",
      "\n"
     ]
    }
   ],
   "source": [
    "l = \"con descenso de gradiente estocástico y regularización\"\n",
    "\n",
    "print(\"Red Neuronal Retroalimentada \", l )\n",
    "AL, m = predice(train_X,train_Y,parametros)\n",
    "print(\"\\n----____------______------______-----_____----\\n\")"
   ]
  },
  {
   "cell_type": "code",
   "execution_count": 111,
   "metadata": {},
   "outputs": [
    {
     "name": "stdout",
     "output_type": "stream",
     "text": [
      "Red Neuronal Retroalimentada  con descenso de gradiente estocástico y regularización\n",
      "\n",
      "La matriz de confusión es:\n",
      "\n",
      "          Predicción                          \n",
      "          __________                          \n",
      "          0     1                        \n",
      "Real|0    126   4                        \n",
      "    |1    5     126                      \n",
      "\n",
      "Las métricas tienen los siguientes valores:\n",
      "\t Exactitud:  0.9560975609756097 \n",
      "\t Precision:  0.9459459459459459 \n",
      "\t Sensibilidad:  0.9333333333333333 \n",
      "\t Especificidad:  0.9692307692307692 \n",
      "\t F1 :  0.9395973154362416\n",
      "\n",
      "----____------______------______-----_____----\n",
      "\n"
     ]
    }
   ],
   "source": [
    "l = \"con descenso de gradiente estocástico y regularización\"\n",
    "\n",
    "print(\"Red Neuronal Retroalimentada \", l )\n",
    "AL, m = predice(val_X,val_Y,parametros)\n",
    "print(\"\\n----____------______------______-----_____----\\n\")"
   ]
  },
  {
   "cell_type": "markdown",
   "metadata": {},
   "source": [
    "Análogamente a como se comporta en la redes con aprendizaje por lote completo. en las redes neuronales con descenso de gradiente estocástico, mejora ligeramente los resultados, frente al sobre-entrenamiento, cuando le añadimos la regularización L2."
   ]
  },
  {
   "cell_type": "markdown",
   "metadata": {},
   "source": [
    "#### Resumen de los resultados"
   ]
  },
  {
   "cell_type": "code",
   "execution_count": 112,
   "metadata": {},
   "outputs": [
    {
     "name": "stdout",
     "output_type": "stream",
     "text": [
      "Red Neuronal Retroalimentada  \"normal\"\n",
      "\n",
      "La matriz de confusión es:\n",
      "\n",
      "          Predicción                          \n",
      "          __________                          \n",
      "          0     1                        \n",
      "Real|0    309   5                        \n",
      "    |1    9     309                      \n",
      "\n",
      "Las métricas tienen los siguientes valores:\n",
      "\t Exactitud:  0.9707112970711297 \n",
      "\t Precision:  0.96875 \n",
      "\t Sensibilidad:  0.9451219512195121 \n",
      "\t Especificidad:  0.9840764331210191 \n",
      "\t F1 :  0.95679012345679\n",
      "\n",
      "----____------______------______-----_____----\n",
      "\n",
      "Red Neuronal Retroalimentada  con regularización\n",
      "\n",
      "La matriz de confusión es:\n",
      "\n",
      "          Predicción                          \n",
      "          __________                          \n",
      "          0     1                        \n",
      "Real|0    305   9                        \n",
      "    |1    3     305                      \n",
      "\n",
      "Las métricas tienen los siguientes valores:\n",
      "\t Exactitud:  0.9748953974895398 \n",
      "\t Precision:  0.9470588235294117 \n",
      "\t Sensibilidad:  0.9817073170731707 \n",
      "\t Especificidad:  0.9713375796178344 \n",
      "\t F1 :  0.9640718562874251\n",
      "\n",
      "----____------______------______-----_____----\n",
      "\n",
      "Red Neuronal Retroalimentada  con descenso de gradiente estocástico\n",
      "\n",
      "La matriz de confusión es:\n",
      "\n",
      "          Predicción                          \n",
      "          __________                          \n",
      "          0     1                        \n",
      "Real|0    308   6                        \n",
      "    |1    10    308                      \n",
      "\n",
      "Las métricas tienen los siguientes valores:\n",
      "\t Exactitud:  0.9665271966527197 \n",
      "\t Precision:  0.9625 \n",
      "\t Sensibilidad:  0.9390243902439024 \n",
      "\t Especificidad:  0.9808917197452229 \n",
      "\t F1 :  0.9506172839506174\n",
      "\n",
      "----____------______------______-----_____----\n",
      "\n",
      "Red Neuronal Retroalimentada  con descenso de gradiente estocástico y regularización\n",
      "\n",
      "La matriz de confusión es:\n",
      "\n",
      "          Predicción                          \n",
      "          __________                          \n",
      "          0     1                        \n",
      "Real|0    305   9                        \n",
      "    |1    3     305                      \n",
      "\n",
      "Las métricas tienen los siguientes valores:\n",
      "\t Exactitud:  0.9748953974895398 \n",
      "\t Precision:  0.9470588235294117 \n",
      "\t Sensibilidad:  0.9817073170731707 \n",
      "\t Especificidad:  0.9713375796178344 \n",
      "\t F1 :  0.9640718562874251\n",
      "\n",
      "----____------______------______-----_____----\n",
      "\n"
     ]
    }
   ],
   "source": [
    "l = [\"\\\"normal\\\"\", \"con regularización\",\"con descenso de gradiente estocástico\",\n",
    "     \"con descenso de gradiente estocástico y regularización\" ]\n",
    "i = 0\n",
    "for a in PARAMETROS_DEFINITIVOS:\n",
    "    print(\"Red Neuronal Retroalimentada \", l[i] )\n",
    "    AL, m = predice(train_X,train_Y,a)\n",
    "    i +=1\n",
    "    print(\"\\n----____------______------______-----_____----\\n\")\n",
    "    "
   ]
  },
  {
   "cell_type": "code",
   "execution_count": 113,
   "metadata": {},
   "outputs": [
    {
     "name": "stdout",
     "output_type": "stream",
     "text": [
      "Red Neuronal Retroalimentada  \"normal\"\n",
      "\n",
      "La matriz de confusión es:\n",
      "\n",
      "          Predicción                          \n",
      "          __________                          \n",
      "          0     1                        \n",
      "Real|0    126   4                        \n",
      "    |1    9     126                      \n",
      "\n",
      "Las métricas tienen los siguientes valores:\n",
      "\t Exactitud:  0.9365853658536586 \n",
      "\t Precision:  0.9428571428571428 \n",
      "\t Sensibilidad:  0.88 \n",
      "\t Especificidad:  0.9692307692307692 \n",
      "\t F1 :  0.9103448275862068\n",
      "\n",
      "----____------______------______-----_____----\n",
      "\n",
      "Red Neuronal Retroalimentada  con regularización\n",
      "\n",
      "La matriz de confusión es:\n",
      "\n",
      "          Predicción                          \n",
      "          __________                          \n",
      "          0     1                        \n",
      "Real|0    125   5                        \n",
      "    |1    3     125                      \n",
      "\n",
      "Las métricas tienen los siguientes valores:\n",
      "\t Exactitud:  0.9609756097560975 \n",
      "\t Precision:  0.935064935064935 \n",
      "\t Sensibilidad:  0.96 \n",
      "\t Especificidad:  0.9615384615384616 \n",
      "\t F1 :  0.9473684210526316\n",
      "\n",
      "----____------______------______-----_____----\n",
      "\n",
      "Red Neuronal Retroalimentada  con descenso de gradiente estocástico\n",
      "\n",
      "La matriz de confusión es:\n",
      "\n",
      "          Predicción                          \n",
      "          __________                          \n",
      "          0     1                        \n",
      "Real|0    126   4                        \n",
      "    |1    10    126                      \n",
      "\n",
      "Las métricas tienen los siguientes valores:\n",
      "\t Exactitud:  0.9317073170731708 \n",
      "\t Precision:  0.9420289855072463 \n",
      "\t Sensibilidad:  0.8666666666666667 \n",
      "\t Especificidad:  0.9692307692307692 \n",
      "\t F1 :  0.9027777777777778\n",
      "\n",
      "----____------______------______-----_____----\n",
      "\n",
      "Red Neuronal Retroalimentada  con descenso de gradiente estocástico y regularización\n",
      "\n",
      "La matriz de confusión es:\n",
      "\n",
      "          Predicción                          \n",
      "          __________                          \n",
      "          0     1                        \n",
      "Real|0    126   4                        \n",
      "    |1    5     126                      \n",
      "\n",
      "Las métricas tienen los siguientes valores:\n",
      "\t Exactitud:  0.9560975609756097 \n",
      "\t Precision:  0.9459459459459459 \n",
      "\t Sensibilidad:  0.9333333333333333 \n",
      "\t Especificidad:  0.9692307692307692 \n",
      "\t F1 :  0.9395973154362416\n",
      "\n",
      "----____------______------______-----_____----\n",
      "\n"
     ]
    }
   ],
   "source": [
    "l = [\"\\\"normal\\\"\", \"con regularización\",\"con descenso de gradiente estocástico\",\n",
    "     \"con descenso de gradiente estocástico y regularización\" ]\n",
    "i = 0\n",
    "for a in PARAMETROS_DEFINITIVOS:\n",
    "    print(\"Red Neuronal Retroalimentada \", l[i] )\n",
    "    AL, m = predice(val_X,val_Y,a)\n",
    "    i +=1\n",
    "    print(\"\\n----____------______------______-----_____----\\n\")"
   ]
  },
  {
   "cell_type": "markdown",
   "metadata": {},
   "source": [
    "<a name='5-2'></a>\n",
    "### 5.2 Red Neuronal Retroalimentada de L= 5 capas"
   ]
  },
  {
   "cell_type": "code",
   "execution_count": 114,
   "metadata": {},
   "outputs": [],
   "source": [
    "dim_capas5 = [train_X.shape[0],10,8,5,3,1]\n"
   ]
  },
  {
   "cell_type": "code",
   "execution_count": 115,
   "metadata": {},
   "outputs": [],
   "source": [
    "PARAMETROS_DEFINITIVOS5 = []\n"
   ]
  },
  {
   "cell_type": "markdown",
   "metadata": {},
   "source": [
    "#### Ajuste de tasa de entrenamiento"
   ]
  },
  {
   "cell_type": "code",
   "execution_count": 116,
   "metadata": {},
   "outputs": [],
   "source": [
    "A0 = train_X[:,0:20]\n",
    "Y0 = train_Y[:,0:20]"
   ]
  },
  {
   "cell_type": "markdown",
   "metadata": {},
   "source": [
    "Empezamos con un subconjunto del conjunto de entrenamiento:\n"
   ]
  },
  {
   "cell_type": "code",
   "execution_count": 117,
   "metadata": {},
   "outputs": [
    {
     "name": "stdout",
     "output_type": "stream",
     "text": [
      "\n",
      " \n",
      "Tasa de aprendizaje\t Costes tras 500 iteraciones\n",
      "      0.001\t\t 0.6928987349664635\n",
      "       0.01\t\t 0.6907969770899396\n",
      "        0.1\t\t 0.6788618921356372\n",
      "          1\t\t 0.6730117723373518\n",
      "         10\t\t 0.6730116670092563\n",
      "        100\t\t 0.6730116670092563\n",
      "\n",
      "\n"
     ]
    }
   ],
   "source": [
    "tasa_aprendizaje = [0.001,0.01,0.1,1,10,100]\n",
    "n = 500\n",
    "param = {}\n",
    "cost = {}\n",
    "for i in tasa_aprendizaje:\n",
    "    #print(\"Con la tasa de aprendizaje = \" + str(i))\n",
    "    parametros, costes = Red_Neuronal(A0, Y0, dim_capas5, tasa_aprendizaje = i, num_iter = n)\n",
    "    param[i] = parametros\n",
    "    cost[i] = costes[-1]\n",
    "    #print(\"----____------______------______-----_____----\\n\")\n",
    "print(\"\\n \")\n",
    "print(\"{}\\t{}\".format(\"Tasa de aprendizaje\",\" Costes tras \" + str(n)+ \" iteraciones\"))\n",
    "for a,b in cost.items():\n",
    "    print(\"{:-11}\\t\\t {}\".format(a,b))\n",
    "print(\"\\n\")"
   ]
  },
  {
   "cell_type": "markdown",
   "metadata": {},
   "source": [
    "Y continuamos con el conjunto de entrenamiento completo"
   ]
  },
  {
   "cell_type": "code",
   "execution_count": 118,
   "metadata": {},
   "outputs": [
    {
     "name": "stdout",
     "output_type": "stream",
     "text": [
      "Red Neuronal \"normal\" \n",
      "\n",
      " \n",
      "Tasa de aprendizaje\t Costes\n",
      "       0.01\t\t 0.6921277026948672\n",
      "        0.1\t\t 0.6838518236167261\n",
      "          1\t\t 0.6497547025879371\n",
      "         10\t\t 0.6430678629931905\n",
      "\n",
      "\n",
      "Tiempo de ejecución : \t 143.70873022079468\n"
     ]
    }
   ],
   "source": [
    "import time\n",
    "inicio = time.time()\n",
    "tasa_aprendizaje = [0.01,0.1,1,10]\n",
    "n = 2000\n",
    "param = {}\n",
    "cost = {}\n",
    "print(\"Red Neuronal \\\"normal\\\" \")\n",
    "for i in tasa_aprendizaje:\n",
    "    #print(\"Con la tasa de aprendizaje = \" + str(i))\n",
    "    parametros, costes = Red_Neuronal(train_X, train_Y, dim_capas5, tasa_aprendizaje = i, num_iter = n)\n",
    "    param[i] = parametros\n",
    "    cost[i] = costes[-1]\n",
    "    #print(\"----____------______------______-----_____----\\n\")\n",
    "print(\"\\n \")\n",
    "print(\"{}\\t{}\".format(\"Tasa de aprendizaje\",\" Costes\"))\n",
    "for a,b in cost.items():\n",
    "    print(\"{:-11}\\t\\t {}\".format(a,b))\n",
    "print(\"\\n\")\n",
    "fin = time.time()\n",
    "print(\"Tiempo de ejecución : \\t \" + str(fin-inicio))"
   ]
  },
  {
   "cell_type": "code",
   "execution_count": 119,
   "metadata": {},
   "outputs": [
    {
     "name": "stdout",
     "output_type": "stream",
     "text": [
      "Red Neuronal \"normal\" \n",
      "Con la tasa de aprendizaje = 0.25\n",
      "Coste después de la iteración 0: 0.6931517196864945\n",
      "Coste después de la iteración 100: 0.6918760866873922\n",
      "Coste después de la iteración 200: 0.6906378680481167\n",
      "Coste después de la iteración 300: 0.6894316198577658\n",
      "Coste después de la iteración 400: 0.6882564939952046\n",
      "Coste después de la iteración 500: 0.6871117053444714\n",
      "Coste después de la iteración 600: 0.685996424600103\n",
      "Coste después de la iteración 700: 0.6849099468734526\n",
      "Coste después de la iteración 800: 0.6838514969509041\n",
      "Coste después de la iteración 900: 0.6828203435832582\n",
      "Coste después de la iteración 1000: 0.6818157844417203\n",
      "Coste después de la iteración 1100: 0.6808371209782631\n",
      "Coste después de la iteración 1200: 0.6798836772982333\n",
      "Coste después de la iteración 1300: 0.6789547944016674\n",
      "Coste después de la iteración 1400: 0.6780498285665965\n",
      "Coste después de la iteración 1500: 0.6771681619560325\n",
      "Coste después de la iteración 1600: 0.6763091847787152\n",
      "Coste después de la iteración 1700: 0.6754723047726607\n",
      "Coste después de la iteración 1800: 0.674656941591097\n",
      "Coste después de la iteración 1900: 0.6738625384874697\n",
      "Coste después de la iteración 2000: 0.673088542947808\n",
      "----____------______------______-----_____----\n",
      "\n",
      "Con la tasa de aprendizaje = 0.5\n",
      "Coste después de la iteración 0: 0.6931517196864945\n",
      "Coste después de la iteración 100: 0.6906377531247191\n",
      "Coste después de la iteración 200: 0.6882562169938953\n",
      "Coste después de la iteración 300: 0.6859960742035899\n",
      "Coste después de la iteración 400: 0.6838509986944852\n",
      "Coste después de la iteración 500: 0.6818151318776221\n",
      "Coste después de la iteración 600: 0.679882910122224\n",
      "Coste después de la iteración 700: 0.6780489753618243\n",
      "Coste después de la iteración 800: 0.6763082641080863\n",
      "Coste después de la iteración 900: 0.6746559608650372\n",
      "Coste después de la iteración 1000: 0.673087505515447\n",
      "Coste después de la iteración 1100: 0.6715985827925225\n",
      "Coste después de la iteración 1200: 0.67018508471047\n",
      "Coste después de la iteración 1300: 0.6688431272553258\n",
      "Coste después de la iteración 1400: 0.6675690208294073\n",
      "Coste después de la iteración 1500: 0.6663592628561622\n",
      "Coste después de la iteración 1600: 0.6652105477231899\n",
      "Coste después de la iteración 1700: 0.6641197079725044\n",
      "Coste después de la iteración 1800: 0.663083792602104\n",
      "Coste después de la iteración 1900: 0.6620999579169554\n",
      "Coste después de la iteración 2000: 0.6611655323175355\n",
      "----____------______------______-----_____----\n",
      "\n",
      "Con la tasa de aprendizaje = 0.75\n",
      "Coste después de la iteración 0: 0.6931517196864945\n",
      "Coste después de la iteración 100: 0.6894313298336927\n",
      "Coste después de la iteración 200: 0.6859958619674403\n",
      "Coste después de la iteración 300: 0.6828195174175757\n",
      "Coste después de la iteración 400: 0.6798826021820678\n",
      "Coste después de la iteración 500: 0.6771668856105236\n",
      "Coste después de la iteración 600: 0.6746555027300655\n",
      "Coste después de la iteración 700: 0.6723328606683001\n",
      "Coste después de la iteración 800: 0.6701845495202987\n",
      "Coste después de la iteración 900: 0.6681972578672634\n",
      "Coste después de la iteración 1000: 0.6663586930425508\n",
      "Coste después de la iteración 1100: 0.6646575061520074\n",
      "Coste después de la iteración 1200: 0.6630832217865512\n",
      "Coste después de la iteración 1300: 0.6616261723123797\n",
      "Coste después de la iteración 1400: 0.6602774365853086\n",
      "Coste después de la iteración 1500: 0.6590287829080373\n",
      "Coste después de la iteración 1600: 0.6578726160305407\n",
      "Coste después de la iteración 1700: 0.6568019279824997\n",
      "Coste después de la iteración 1800: 0.6558102525211497\n",
      "Coste después de la iteración 1900: 0.6548916229769635\n",
      "Coste después de la iteración 2000: 0.6540405332820646\n",
      "----____------______------______-----_____----\n",
      "\n",
      "Con la tasa de aprendizaje = 2.5\n",
      "Coste después de la iteración 0: 0.6931517196864945\n",
      "Coste después de la iteración 100: 0.6818103306460174\n",
      "Coste después de la iteración 200: 0.6730800295371346\n",
      "Coste después de la iteración 300: 0.6663506252848804\n",
      "Coste después de la iteración 400: 0.6611566894761399\n",
      "Coste después de la iteración 500: 0.6571417404932783\n",
      "Coste después de la iteración 600: 0.6540331186796178\n",
      "Coste después de la iteración 700: 0.6516222872519127\n",
      "Coste después de la iteración 800: 0.6497496188147586\n",
      "Coste después de la iteración 900: 0.648292752806675\n",
      "Coste después de la iteración 1000: 0.6471577314868795\n",
      "Coste después de la iteración 1100: 0.6462722680252105\n",
      "Coste después de la iteración 1200: 0.6455806372353329\n",
      "Coste después de la iteración 1300: 0.6450397956851532\n",
      "Coste después de la iteración 1400: 0.6446164313813147\n",
      "Coste después de la iteración 1500: 0.6442847161303835\n",
      "Coste después de la iteración 1600: 0.6440245895118293\n",
      "Coste después de la iteración 1700: 0.6438204456866159\n",
      "Coste después de la iteración 1800: 0.6436601260942841\n",
      "Coste después de la iteración 1900: 0.6435341449717541\n",
      "Coste después de la iteración 2000: 0.6434350925246453\n",
      "----____------______------______-----_____----\n",
      "\n",
      "Con la tasa de aprendizaje = 5\n",
      "Coste después de la iteración 0: 0.6931517196864945\n",
      "Coste después de la iteración 100: 0.6730700363898925\n",
      "Coste después de la iteración 200: 0.6611448365118833\n",
      "Coste después de la iteración 300: 0.6540225197929903\n",
      "Coste después de la iteración 400: 0.6497411430772554\n",
      "Coste después de la iteración 500: 0.6471513392235638\n",
      "Coste después de la iteración 600: 0.6455759840612583\n",
      "Coste después de la iteración 700: 0.6446131227552293\n",
      "Coste después de la iteración 800: 0.6440222757498056\n",
      "Coste después de la iteración 900: 0.6436585280367673\n",
      "Coste después de la iteración 1000: 0.6434339994150454\n",
      "Coste después de la iteración 1100: 0.6432951110799476\n",
      "Coste después de la iteración 1200: 0.6432090515775101\n",
      "Coste después de la iteración 1300: 0.6431556539785972\n",
      "Coste después de la iteración 1400: 0.6431224863661079\n",
      "Coste después de la iteración 1500: 0.643101866785263\n",
      "Coste después de la iteración 1600: 0.6430890392995416\n",
      "Coste después de la iteración 1700: 0.6430810549794662\n",
      "Coste después de la iteración 1800: 0.6430760831043251\n",
      "Coste después de la iteración 1900: 0.6430729860443836\n",
      "Coste después de la iteración 2000: 0.6430710563194855\n",
      "----____------______------______-----_____----\n",
      "\n",
      "Con la tasa de aprendizaje = 7.5\n",
      "Coste después de la iteración 0: 0.6931517196864945\n",
      "Coste después de la iteración 100: 0.6663275360532229\n",
      "Coste después de la iteración 200: 0.6540119131361947\n",
      "Coste después de la iteración 300: 0.6482779485214143\n",
      "Coste después de la iteración 400: 0.6455713318445215\n",
      "Coste después de la iteración 500: 0.644279174440535\n",
      "Coste después de la iteración 600: 0.6436569317073451\n",
      "Coste después de la iteración 700: 0.6433553726761015\n",
      "Coste después de la iteración 800: 0.6432085522358114\n",
      "Coste después de la iteración 900: 0.6431368335311265\n",
      "Coste después de la iteración 1000: 0.6431017182885345\n",
      "Coste después de la iteración 1100: 0.6430844964796729\n",
      "Coste después de la iteración 1200: 0.6430760403846959\n",
      "Coste después de la iteración 1300: 0.6430718849277611\n",
      "Coste después de la iteración 1400: 0.6430698416872431\n",
      "Coste después de la iteración 1500: 0.6430688366151965\n",
      "Coste después de la iteración 1600: 0.6430683420776675\n",
      "Coste después de la iteración 1700: 0.643068098695556\n",
      "Coste después de la iteración 1800: 0.6430679789003665\n",
      "Coste después de la iteración 1900: 0.6430679199300916\n",
      "Coste después de la iteración 2000: 0.643067890899416\n",
      "----____------______------______-----_____----\n",
      "\n",
      "\n",
      " \n",
      "Tasa de aprendizaje\t Costes\n",
      "       0.25\t\t 0.673088542947808\n",
      "        0.5\t\t 0.6611655323175355\n",
      "       0.75\t\t 0.6540405332820646\n",
      "        2.5\t\t 0.6434350925246453\n",
      "          5\t\t 0.6430710563194855\n",
      "        7.5\t\t 0.643067890899416\n",
      "\n",
      "\n",
      "Tiempo de ejecución : \t 212.65909814834595\n"
     ]
    }
   ],
   "source": [
    "import time\n",
    "inicio = time.time()\n",
    "tasa_aprendizaje = [0.25,0.5,0.75,2.5,5,7.5]\n",
    "n = 2000\n",
    "param = {}\n",
    "cost = {}\n",
    "print(\"Red Neuronal \\\"normal\\\" \")\n",
    "for i in tasa_aprendizaje:\n",
    "    print(\"Con la tasa de aprendizaje = \" + str(i))\n",
    "    parametros, costes = Red_Neuronal(train_X, train_Y, dim_capas5, tasa_aprendizaje = i, num_iter = n, print_cost =True)\n",
    "    param[i] = parametros\n",
    "    cost[i] = costes[-1]\n",
    "    print(\"----____------______------______-----_____----\\n\")\n",
    "print(\"\\n \")\n",
    "print(\"{}\\t{}\".format(\"Tasa de aprendizaje\",\" Costes\"))\n",
    "for a,b in cost.items():\n",
    "    print(\"{:-11}\\t\\t {}\".format(a,b))\n",
    "print(\"\\n\")\n",
    "fin = time.time()\n",
    "print(\"Tiempo de ejecución : \\t \" + str(fin-inicio))"
   ]
  },
  {
   "cell_type": "code",
   "execution_count": 120,
   "metadata": {
    "scrolled": false
   },
   "outputs": [
    {
     "name": "stdout",
     "output_type": "stream",
     "text": [
      "Red Neuronal \"normal\" \n",
      "Con la tasa de aprendizaje = 33\n",
      "Coste después de la iteración 0: 0.6931517196864945\n",
      "Coste después de la iteración 100: 0.6449003764759722\n",
      "Coste después de la iteración 200: 0.6431442823928053\n",
      "Coste después de la iteración 300: 0.6430711536809119\n",
      "Coste después de la iteración 400: 0.6430680054390866\n",
      "Coste después de la iteración 500: 0.6430678689418879\n",
      "Coste después de la iteración 600: 0.6430678630150509\n",
      "Coste después de la iteración 700: 0.6430678627576223\n",
      "Coste después de la iteración 800: 0.6430678627464406\n",
      "Coste después de la iteración 900: 0.6430678627459548\n",
      "Coste después de la iteración 1000: 0.6430678627459337\n",
      "Coste después de la iteración 1100: 0.6430678627459328\n",
      "Coste después de la iteración 1200: 0.6430678627459328\n",
      "Coste después de la iteración 1300: 0.6430678627459328\n",
      "Coste después de la iteración 1400: 0.6430678627459326\n",
      "Coste después de la iteración 1500: 0.6430678627459325\n",
      "Coste después de la iteración 1600: 0.6430678627459326\n",
      "Coste después de la iteración 1700: 0.6430678627459329\n",
      "Coste después de la iteración 1800: 0.6430678627459328\n",
      "Coste después de la iteración 1900: 0.6430678627459329\n",
      "Coste después de la iteración 2000: 0.6430678627459328\n",
      "----____------______------______-----_____----\n",
      "\n",
      "Con la tasa de aprendizaje = 66\n",
      "Coste después de la iteración 0: 0.6931517196864945\n",
      "Coste después de la iteración 100: 0.6431403645829376\n",
      "Coste después de la iteración 200: 0.6430679915423259\n",
      "Coste después de la iteración 300: 0.6430678629770056\n",
      "Coste después de la iteración 400: 0.6430678627463473\n",
      "Coste después de la iteración 500: 0.6430678627459334\n",
      "Coste después de la iteración 600: 0.6430678627459328\n",
      "Coste después de la iteración 700: 0.6430678627459328\n",
      "Coste después de la iteración 800: 0.6430678627459328\n",
      "Coste después de la iteración 900: 0.6430678627459328\n",
      "Coste después de la iteración 1000: 0.6430678627459328\n",
      "Coste después de la iteración 1100: 0.6430678627459328\n",
      "Coste después de la iteración 1200: 0.6430678627459328\n",
      "Coste después de la iteración 1300: 0.6430678627459328\n",
      "Coste después de la iteración 1400: 0.6430678627459328\n",
      "Coste después de la iteración 1500: 0.6430678627459328\n",
      "Coste después de la iteración 1600: 0.6430678627459328\n",
      "Coste después de la iteración 1700: 0.6430678627459328\n",
      "Coste después de la iteración 1800: 0.6430678627459328\n",
      "Coste después de la iteración 1900: 0.6430678627459328\n",
      "Coste después de la iteración 2000: 0.6430678627459328\n",
      "----____------______------______-----_____----\n",
      "\n",
      "Con la tasa de aprendizaje = 333\n",
      "Coste después de la iteración 0: 0.6931517196864945\n",
      "Coste después de la iteración 100: 0.6430678627459328\n",
      "Coste después de la iteración 200: 0.6430678627459325\n",
      "Coste después de la iteración 300: 0.6430678627459328\n",
      "Coste después de la iteración 400: 0.6430678627459328\n",
      "Coste después de la iteración 500: 0.6430678627459328\n",
      "Coste después de la iteración 600: 0.6430678627459328\n",
      "Coste después de la iteración 700: 0.6430678627459328\n",
      "Coste después de la iteración 800: 0.6430678627459328\n",
      "Coste después de la iteración 900: 0.6430678627459328\n",
      "Coste después de la iteración 1000: 0.6430678627459328\n",
      "Coste después de la iteración 1100: 0.6430678627459328\n",
      "Coste después de la iteración 1200: 0.6430678627459328\n",
      "Coste después de la iteración 1300: 0.6430678627459328\n",
      "Coste después de la iteración 1400: 0.6430678627459328\n",
      "Coste después de la iteración 1500: 0.6430678627459328\n",
      "Coste después de la iteración 1600: 0.6430678627459328\n",
      "Coste después de la iteración 1700: 0.6430678627459328\n",
      "Coste después de la iteración 1800: 0.6430678627459328\n",
      "Coste después de la iteración 1900: 0.6430678627459328\n",
      "Coste después de la iteración 2000: 0.6430678627459328\n",
      "----____------______------______-----_____----\n",
      "\n",
      "Con la tasa de aprendizaje = 666\n",
      "Coste después de la iteración 0: 0.6931517196864945\n",
      "Coste después de la iteración 100: 0.6430678627459326\n",
      "Coste después de la iteración 200: 0.6430678627459326\n",
      "Coste después de la iteración 300: 0.6430678627459326\n",
      "Coste después de la iteración 400: 0.6430678627459326\n",
      "Coste después de la iteración 500: 0.6430678627459326\n",
      "Coste después de la iteración 600: 0.6430678627459326\n",
      "Coste después de la iteración 700: 0.6430678627459326\n",
      "Coste después de la iteración 800: 0.6430678627459326\n",
      "Coste después de la iteración 900: 0.6430678627459326\n",
      "Coste después de la iteración 1000: 0.6430678627459326\n",
      "Coste después de la iteración 1100: 0.6430678627459326\n",
      "Coste después de la iteración 1200: 0.6430678627459326\n",
      "Coste después de la iteración 1300: 0.6430678627459326\n",
      "Coste después de la iteración 1400: 0.6430678627459326\n",
      "Coste después de la iteración 1500: 0.6430678627459326\n",
      "Coste después de la iteración 1600: 0.6430678627459326\n",
      "Coste después de la iteración 1700: 0.6430678627459326\n",
      "Coste después de la iteración 1800: 0.6430678627459326\n",
      "Coste después de la iteración 1900: 0.6430678627459326\n",
      "Coste después de la iteración 2000: 0.6430678627459326\n",
      "----____------______------______-----_____----\n",
      "\n",
      "\n",
      " \n",
      "Tasa de aprendizaje\t Costes\n",
      "         33\t\t 0.6430678627459328\n",
      "         66\t\t 0.6430678627459328\n",
      "        333\t\t 0.6430678627459328\n",
      "        666\t\t 0.6430678627459326\n",
      "\n",
      "\n",
      "Tiempo de ejecución : \t 153.9397909641266\n"
     ]
    }
   ],
   "source": [
    "import time\n",
    "inicio = time.time()\n",
    "tasa_aprendizaje = [33,66,333,666]\n",
    "n = 2000\n",
    "param = {}\n",
    "cost = {}\n",
    "print(\"Red Neuronal \\\"normal\\\" \")\n",
    "for i in tasa_aprendizaje:\n",
    "    print(\"Con la tasa de aprendizaje = \" + str(i))\n",
    "    parametros, costes = Red_Neuronal(train_X, train_Y, dim_capas5, tasa_aprendizaje = i, num_iter = n, print_cost =True)\n",
    "    param[i] = parametros\n",
    "    cost[i] = costes[-1]\n",
    "    print(\"----____------______------______-----_____----\\n\")\n",
    "print(\"\\n \")\n",
    "print(\"{}\\t{}\".format(\"Tasa de aprendizaje\",\" Costes\"))\n",
    "for a,b in cost.items():\n",
    "    print(\"{:-11}\\t\\t {}\".format(a,b))\n",
    "print(\"\\n\")\n",
    "fin = time.time()\n",
    "print(\"Tiempo de ejecución : \\t \" + str(fin-inicio))"
   ]
  },
  {
   "cell_type": "markdown",
   "metadata": {},
   "source": [
    "Observamos que aumentando el número de capas (pasa lo mismo con más), suceden dos inconvenientes:\n",
    "\n",
    "1) El más evidente, el tiempo de ejecución aumenta considerablemente.\n",
    "\n",
    "2) Aparece el problema de gradientes que desaparecen/se desvanecen (vanishing gradient), esto es, los parámetrosde las primeras capas se actualizan menos que los de las últimas, debido a que al aumentar capas, y por descenso de gradiente, esto son producto de varios elementos de módulo entre 0 y 1. Este es el problema que solucionan las diferentes arquitecturas de redes neuronales (Convolucionales, Recurrentes,...), y no mejoraría ni si quiera aumentando significativamente los primeros pesos o la tasa de aprendizaje de estos (de hecho, podría empeorar el problema"
   ]
  },
  {
   "cell_type": "markdown",
   "metadata": {},
   "source": [
    "<a name='6'></a>\n",
    "## 6. Conclusiones"
   ]
  },
  {
   "cell_type": "markdown",
   "metadata": {},
   "source": [
    "A modo de concluir el estudio, podemos resumir lo siguiente:\n",
    "\n",
    "1) Una red neuronal artificial retroalimentada poco profunda y con \"pocas\" neuronas por capa ya genera resultados muy positivos en cuanto a problemas de clasificación binaria sin un número de datos enorme.\n",
    "\n",
    "2) La regularización ayuda en el porblema de sobre-aprendizaje.\n",
    "\n",
    "3) No tiene sentido usar redes neuronales retroalimentadas muy profundas, pues generan resultados peores que los de número de capas menor."
   ]
  },
  {
   "cell_type": "code",
   "execution_count": null,
   "metadata": {},
   "outputs": [],
   "source": []
  }
 ],
 "metadata": {
  "kernelspec": {
   "display_name": "Python 3",
   "language": "python",
   "name": "python3"
  },
  "language_info": {
   "codemirror_mode": {
    "name": "ipython",
    "version": 3
   },
   "file_extension": ".py",
   "mimetype": "text/x-python",
   "name": "python",
   "nbconvert_exporter": "python",
   "pygments_lexer": "ipython3",
   "version": "3.7.6"
  }
 },
 "nbformat": 4,
 "nbformat_minor": 4
}
